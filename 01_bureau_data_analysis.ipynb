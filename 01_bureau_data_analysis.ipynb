{
 "metadata": {
  "language_info": {
   "codemirror_mode": {
    "name": "ipython",
    "version": 3
   },
   "file_extension": ".py",
   "mimetype": "text/x-python",
   "name": "python",
   "nbconvert_exporter": "python",
   "pygments_lexer": "ipython3",
   "version": "3.9.1"
  },
  "orig_nbformat": 4,
  "kernelspec": {
   "name": "python3",
   "display_name": "Python 3.9.1 64-bit ('base': conda)"
  },
  "interpreter": {
   "hash": "10e1abf77ddef6b5a0d462bd0c1af8a6d69cacf984b7ff54f171d3af9bd75ca1"
  }
 },
 "nbformat": 4,
 "nbformat_minor": 2,
 "cells": [
  {
   "source": [
    "# 01_Analysis of Bureau Dataset\n",
    "In this notebook I analyze the bureau dataset which is described below:\n",
    "\n",
    "- Client's previous credits provided by other financial institutions that were reported to Credit Bureau (for clients who have a loan in our sample).\n",
    "- For every loan there are as many rows as number of credits the client had in Credit Bureau before the application date."
   ],
   "cell_type": "markdown",
   "metadata": {}
  },
  {
   "source": [
    "**Analysis Summary**:\n",
    "    After analyzing the bureau dataset I created a vector for each loan id with following columns:\n",
    "\n",
    "    - COUNT_GROUP: The number of accounts by bin size of 5( i.e. 1 means 0 to 5 accounts).\n",
    "    - OVERDUE: Flag to indicate if a client has an overdue account.\n",
    "    - DEBT_OVER_50%: Account group with credit limit 50% or higher.\n",
    "    - DEBT_OVER_75%: Account group with credit limit higher 75% or higher.\n",
    "    - DEBT_OVER_100%: Account group with credit limit higher 100% or higher.\n",
    "    - ACTIVE: The number of active accounts by id group by bin size of 5.\n",
    "    - CLOSED: The number of closed accounts by id group by bin size of 5.\n",
    "    - ADVERSE: The number of adverse (bad debt or sold) accounts by id group by bin size of 5.\n",
    "    - CREDIT_TYPE_COUNT: The number of different types accounts by id group.\n",
    "I also created an aggregate table of four functions ('minimum', 'maximum', 'mean','standard deviation' SK_ID_CURR for each of the availble float64 fields. Each field would have a new column for each of the functions. This created a total of 48 features. By taking this approach I figure there will be many fields available during model selection that can be removed if there feature importance is zero."
   ],
   "cell_type": "markdown",
   "metadata": {}
  },
  {
   "cell_type": "code",
   "execution_count": 1,
   "metadata": {},
   "outputs": [],
   "source": [
    "# IMPORT LIBRARIES\n",
    "import numpy as np\n",
    "import pandas as pd\n",
    "import matplotlib.pyplot as plt\n",
    "import seaborn as sns "
   ]
  },
  {
   "source": [
    "## 1.1 Import table and overview data"
   ],
   "cell_type": "markdown",
   "metadata": {}
  },
  {
   "cell_type": "code",
   "execution_count": 2,
   "metadata": {},
   "outputs": [],
   "source": [
    "# Import tables\n",
    "bureau = pd.read_csv(r\"C:\\Users\\Duong Nguyen\\Desktop\\final_project\\home-credit-default-risk\\bureau.csv\")\n",
    "FieldsNames = pd.read_csv(r\"C:\\Users\\Duong Nguyen\\Desktop\\final_project\\home-credit-default-risk\\HomeCredit_columns_description.csv\")"
   ]
  },
  {
   "cell_type": "code",
   "execution_count": 3,
   "metadata": {},
   "outputs": [
    {
     "output_type": "execute_result",
     "data": {
      "text/plain": [
       "   SK_ID_CURR  SK_ID_BUREAU CREDIT_ACTIVE CREDIT_CURRENCY  DAYS_CREDIT  \\\n",
       "0      215354       5714462        Closed      currency 1         -497   \n",
       "1      215354       5714463        Active      currency 1         -208   \n",
       "2      215354       5714464        Active      currency 1         -203   \n",
       "3      215354       5714465        Active      currency 1         -203   \n",
       "4      215354       5714466        Active      currency 1         -629   \n",
       "\n",
       "   CREDIT_DAY_OVERDUE  DAYS_CREDIT_ENDDATE  DAYS_ENDDATE_FACT  \\\n",
       "0                   0               -153.0             -153.0   \n",
       "1                   0               1075.0                NaN   \n",
       "2                   0                528.0                NaN   \n",
       "3                   0                  NaN                NaN   \n",
       "4                   0               1197.0                NaN   \n",
       "\n",
       "   AMT_CREDIT_MAX_OVERDUE  CNT_CREDIT_PROLONG  AMT_CREDIT_SUM  \\\n",
       "0                     NaN                   0         91323.0   \n",
       "1                     NaN                   0        225000.0   \n",
       "2                     NaN                   0        464323.5   \n",
       "3                     NaN                   0         90000.0   \n",
       "4                 77674.5                   0       2700000.0   \n",
       "\n",
       "   AMT_CREDIT_SUM_DEBT  AMT_CREDIT_SUM_LIMIT  AMT_CREDIT_SUM_OVERDUE  \\\n",
       "0                  0.0                   NaN                     0.0   \n",
       "1             171342.0                   NaN                     0.0   \n",
       "2                  NaN                   NaN                     0.0   \n",
       "3                  NaN                   NaN                     0.0   \n",
       "4                  NaN                   NaN                     0.0   \n",
       "\n",
       "       CREDIT_TYPE  DAYS_CREDIT_UPDATE  AMT_ANNUITY  \n",
       "0  Consumer credit                -131          NaN  \n",
       "1      Credit card                 -20          NaN  \n",
       "2  Consumer credit                 -16          NaN  \n",
       "3      Credit card                 -16          NaN  \n",
       "4  Consumer credit                 -21          NaN  "
      ],
      "text/html": "<div>\n<style scoped>\n    .dataframe tbody tr th:only-of-type {\n        vertical-align: middle;\n    }\n\n    .dataframe tbody tr th {\n        vertical-align: top;\n    }\n\n    .dataframe thead th {\n        text-align: right;\n    }\n</style>\n<table border=\"1\" class=\"dataframe\">\n  <thead>\n    <tr style=\"text-align: right;\">\n      <th></th>\n      <th>SK_ID_CURR</th>\n      <th>SK_ID_BUREAU</th>\n      <th>CREDIT_ACTIVE</th>\n      <th>CREDIT_CURRENCY</th>\n      <th>DAYS_CREDIT</th>\n      <th>CREDIT_DAY_OVERDUE</th>\n      <th>DAYS_CREDIT_ENDDATE</th>\n      <th>DAYS_ENDDATE_FACT</th>\n      <th>AMT_CREDIT_MAX_OVERDUE</th>\n      <th>CNT_CREDIT_PROLONG</th>\n      <th>AMT_CREDIT_SUM</th>\n      <th>AMT_CREDIT_SUM_DEBT</th>\n      <th>AMT_CREDIT_SUM_LIMIT</th>\n      <th>AMT_CREDIT_SUM_OVERDUE</th>\n      <th>CREDIT_TYPE</th>\n      <th>DAYS_CREDIT_UPDATE</th>\n      <th>AMT_ANNUITY</th>\n    </tr>\n  </thead>\n  <tbody>\n    <tr>\n      <th>0</th>\n      <td>215354</td>\n      <td>5714462</td>\n      <td>Closed</td>\n      <td>currency 1</td>\n      <td>-497</td>\n      <td>0</td>\n      <td>-153.0</td>\n      <td>-153.0</td>\n      <td>NaN</td>\n      <td>0</td>\n      <td>91323.0</td>\n      <td>0.0</td>\n      <td>NaN</td>\n      <td>0.0</td>\n      <td>Consumer credit</td>\n      <td>-131</td>\n      <td>NaN</td>\n    </tr>\n    <tr>\n      <th>1</th>\n      <td>215354</td>\n      <td>5714463</td>\n      <td>Active</td>\n      <td>currency 1</td>\n      <td>-208</td>\n      <td>0</td>\n      <td>1075.0</td>\n      <td>NaN</td>\n      <td>NaN</td>\n      <td>0</td>\n      <td>225000.0</td>\n      <td>171342.0</td>\n      <td>NaN</td>\n      <td>0.0</td>\n      <td>Credit card</td>\n      <td>-20</td>\n      <td>NaN</td>\n    </tr>\n    <tr>\n      <th>2</th>\n      <td>215354</td>\n      <td>5714464</td>\n      <td>Active</td>\n      <td>currency 1</td>\n      <td>-203</td>\n      <td>0</td>\n      <td>528.0</td>\n      <td>NaN</td>\n      <td>NaN</td>\n      <td>0</td>\n      <td>464323.5</td>\n      <td>NaN</td>\n      <td>NaN</td>\n      <td>0.0</td>\n      <td>Consumer credit</td>\n      <td>-16</td>\n      <td>NaN</td>\n    </tr>\n    <tr>\n      <th>3</th>\n      <td>215354</td>\n      <td>5714465</td>\n      <td>Active</td>\n      <td>currency 1</td>\n      <td>-203</td>\n      <td>0</td>\n      <td>NaN</td>\n      <td>NaN</td>\n      <td>NaN</td>\n      <td>0</td>\n      <td>90000.0</td>\n      <td>NaN</td>\n      <td>NaN</td>\n      <td>0.0</td>\n      <td>Credit card</td>\n      <td>-16</td>\n      <td>NaN</td>\n    </tr>\n    <tr>\n      <th>4</th>\n      <td>215354</td>\n      <td>5714466</td>\n      <td>Active</td>\n      <td>currency 1</td>\n      <td>-629</td>\n      <td>0</td>\n      <td>1197.0</td>\n      <td>NaN</td>\n      <td>77674.5</td>\n      <td>0</td>\n      <td>2700000.0</td>\n      <td>NaN</td>\n      <td>NaN</td>\n      <td>0.0</td>\n      <td>Consumer credit</td>\n      <td>-21</td>\n      <td>NaN</td>\n    </tr>\n  </tbody>\n</table>\n</div>"
     },
     "metadata": {},
     "execution_count": 3
    }
   ],
   "source": [
    "bureau.head()"
   ]
  },
  {
   "cell_type": "code",
   "execution_count": 4,
   "metadata": {},
   "outputs": [
    {
     "output_type": "stream",
     "name": "stdout",
     "text": [
      "['SK_ID_CURR', 'ID of loan in our sample - one loan in our sample can have 0,1,2 or more related previous credits in credit bureau '] \n ----------------------------------------------------------------------------------------------------\n['SK_BUREAU_ID', 'Recoded ID of previous Credit Bureau credit related to our loan (unique coding for each loan application)'] \n ----------------------------------------------------------------------------------------------------\n['CREDIT_ACTIVE', 'Status of the Credit Bureau (CB) reported credits'] \n ----------------------------------------------------------------------------------------------------\n['CREDIT_CURRENCY', 'Recoded currency of the Credit Bureau credit'] \n ----------------------------------------------------------------------------------------------------\n['DAYS_CREDIT', 'How many days before current application did client apply for Credit Bureau credit'] \n ----------------------------------------------------------------------------------------------------\n['CREDIT_DAY_OVERDUE', 'Number of days past due on CB credit at the time of application for related loan in our sample'] \n ----------------------------------------------------------------------------------------------------\n['DAYS_CREDIT_ENDDATE', 'Remaining duration of CB credit (in days) at the time of application in Home Credit'] \n ----------------------------------------------------------------------------------------------------\n['DAYS_ENDDATE_FACT', 'Days since CB credit ended at the time of application in Home Credit (only for closed credit)'] \n ----------------------------------------------------------------------------------------------------\n['AMT_CREDIT_MAX_OVERDUE', 'Maximal amount overdue on the Credit Bureau credit so far (at application date of loan in our sample)'] \n ----------------------------------------------------------------------------------------------------\n['CNT_CREDIT_PROLONG', 'How many times was the Credit Bureau credit prolonged'] \n ----------------------------------------------------------------------------------------------------\n['AMT_CREDIT_SUM', 'Current credit amount for the Credit Bureau credit'] \n ----------------------------------------------------------------------------------------------------\n['AMT_CREDIT_SUM_DEBT', 'Current debt on Credit Bureau credit'] \n ----------------------------------------------------------------------------------------------------\n['AMT_CREDIT_SUM_LIMIT', 'Current credit limit of credit card reported in Credit Bureau'] \n ----------------------------------------------------------------------------------------------------\n['AMT_CREDIT_SUM_OVERDUE', 'Current amount overdue on Credit Bureau credit'] \n ----------------------------------------------------------------------------------------------------\n['CREDIT_TYPE', 'Type of Credit Bureau credit (Car, cash,...)'] \n ----------------------------------------------------------------------------------------------------\n['DAYS_CREDIT_UPDATE', 'How many days before loan application did last information about the Credit Bureau credit come'] \n ----------------------------------------------------------------------------------------------------\n['AMT_ANNUITY', 'Annuity of the Credit Bureau credit'] \n ----------------------------------------------------------------------------------------------------\n"
     ]
    }
   ],
   "source": [
    "# # print description of each field in the table\n",
    "Info = FieldsNames[FieldsNames['Table'] == 'bureau.csv'] [['Row','Description']]\n",
    "for i in Info.values.tolist():\n",
    "    print (i,\"\\n\", \"-\"*100)"
   ]
  },
  {
   "cell_type": "code",
   "execution_count": 5,
   "metadata": {},
   "outputs": [
    {
     "output_type": "stream",
     "name": "stdout",
     "text": [
      "<class 'pandas.core.frame.DataFrame'>\nRangeIndex: 1716428 entries, 0 to 1716427\nData columns (total 17 columns):\n #   Column                  Dtype  \n---  ------                  -----  \n 0   SK_ID_CURR              int64  \n 1   SK_ID_BUREAU            int64  \n 2   CREDIT_ACTIVE           object \n 3   CREDIT_CURRENCY         object \n 4   DAYS_CREDIT             int64  \n 5   CREDIT_DAY_OVERDUE      int64  \n 6   DAYS_CREDIT_ENDDATE     float64\n 7   DAYS_ENDDATE_FACT       float64\n 8   AMT_CREDIT_MAX_OVERDUE  float64\n 9   CNT_CREDIT_PROLONG      int64  \n 10  AMT_CREDIT_SUM          float64\n 11  AMT_CREDIT_SUM_DEBT     float64\n 12  AMT_CREDIT_SUM_LIMIT    float64\n 13  AMT_CREDIT_SUM_OVERDUE  float64\n 14  CREDIT_TYPE             object \n 15  DAYS_CREDIT_UPDATE      int64  \n 16  AMT_ANNUITY             float64\ndtypes: float64(8), int64(6), object(3)\nmemory usage: 222.6+ MB\n"
     ]
    }
   ],
   "source": [
    "bureau.info()"
   ]
  },
  {
   "cell_type": "code",
   "execution_count": 6,
   "metadata": {},
   "outputs": [],
   "source": [
    "num_col = bureau.select_dtypes([\"float\", \"integer\"]).columns"
   ]
  },
  {
   "cell_type": "code",
   "execution_count": 7,
   "metadata": {},
   "outputs": [
    {
     "output_type": "execute_result",
     "data": {
      "text/plain": [
       "                            count          mean           std          min  \\\n",
       "SK_ID_CURR              1716428.0  2.782149e+05  1.029386e+05   100001.000   \n",
       "SK_ID_BUREAU            1716428.0  5.924434e+06  5.322657e+05  5000000.000   \n",
       "DAYS_CREDIT             1716428.0 -1.142108e+03  7.951649e+02    -2922.000   \n",
       "CREDIT_DAY_OVERDUE      1716428.0  8.181666e-01  3.654443e+01        0.000   \n",
       "DAYS_CREDIT_ENDDATE     1610875.0  5.105174e+02  4.994220e+03   -42060.000   \n",
       "DAYS_ENDDATE_FACT       1082775.0 -1.017437e+03  7.140106e+02   -42023.000   \n",
       "AMT_CREDIT_MAX_OVERDUE   591940.0  3.825418e+03  2.060316e+05        0.000   \n",
       "CNT_CREDIT_PROLONG      1716428.0  6.410406e-03  9.622391e-02        0.000   \n",
       "AMT_CREDIT_SUM          1716415.0  3.549946e+05  1.149811e+06        0.000   \n",
       "AMT_CREDIT_SUM_DEBT     1458759.0  1.370851e+05  6.774011e+05 -4705600.320   \n",
       "AMT_CREDIT_SUM_LIMIT    1124648.0  6.229515e+03  4.503203e+04  -586406.115   \n",
       "AMT_CREDIT_SUM_OVERDUE  1716428.0  3.791276e+01  5.937650e+03        0.000   \n",
       "DAYS_CREDIT_UPDATE      1716428.0 -5.937483e+02  7.207473e+02   -41947.000   \n",
       "AMT_ANNUITY              489637.0  1.571276e+04  3.258269e+05        0.000   \n",
       "\n",
       "                               25%        50%         75%           max  \n",
       "SK_ID_CURR               188866.75   278055.0   367426.00  4.562550e+05  \n",
       "SK_ID_BUREAU            5463953.75  5926303.5  6385681.25  6.843457e+06  \n",
       "DAYS_CREDIT               -1666.00     -987.0     -474.00  0.000000e+00  \n",
       "CREDIT_DAY_OVERDUE            0.00        0.0        0.00  2.792000e+03  \n",
       "DAYS_CREDIT_ENDDATE       -1138.00     -330.0      474.00  3.119900e+04  \n",
       "DAYS_ENDDATE_FACT         -1489.00     -897.0     -425.00  0.000000e+00  \n",
       "AMT_CREDIT_MAX_OVERDUE        0.00        0.0        0.00  1.159872e+08  \n",
       "CNT_CREDIT_PROLONG            0.00        0.0        0.00  9.000000e+00  \n",
       "AMT_CREDIT_SUM            51300.00   125518.5   315000.00  5.850000e+08  \n",
       "AMT_CREDIT_SUM_DEBT           0.00        0.0    40153.50  1.701000e+08  \n",
       "AMT_CREDIT_SUM_LIMIT          0.00        0.0        0.00  4.705600e+06  \n",
       "AMT_CREDIT_SUM_OVERDUE        0.00        0.0        0.00  3.756681e+06  \n",
       "DAYS_CREDIT_UPDATE         -908.00     -395.0      -33.00  3.720000e+02  \n",
       "AMT_ANNUITY                   0.00        0.0    13500.00  1.184534e+08  "
      ],
      "text/html": "<div>\n<style scoped>\n    .dataframe tbody tr th:only-of-type {\n        vertical-align: middle;\n    }\n\n    .dataframe tbody tr th {\n        vertical-align: top;\n    }\n\n    .dataframe thead th {\n        text-align: right;\n    }\n</style>\n<table border=\"1\" class=\"dataframe\">\n  <thead>\n    <tr style=\"text-align: right;\">\n      <th></th>\n      <th>count</th>\n      <th>mean</th>\n      <th>std</th>\n      <th>min</th>\n      <th>25%</th>\n      <th>50%</th>\n      <th>75%</th>\n      <th>max</th>\n    </tr>\n  </thead>\n  <tbody>\n    <tr>\n      <th>SK_ID_CURR</th>\n      <td>1716428.0</td>\n      <td>2.782149e+05</td>\n      <td>1.029386e+05</td>\n      <td>100001.000</td>\n      <td>188866.75</td>\n      <td>278055.0</td>\n      <td>367426.00</td>\n      <td>4.562550e+05</td>\n    </tr>\n    <tr>\n      <th>SK_ID_BUREAU</th>\n      <td>1716428.0</td>\n      <td>5.924434e+06</td>\n      <td>5.322657e+05</td>\n      <td>5000000.000</td>\n      <td>5463953.75</td>\n      <td>5926303.5</td>\n      <td>6385681.25</td>\n      <td>6.843457e+06</td>\n    </tr>\n    <tr>\n      <th>DAYS_CREDIT</th>\n      <td>1716428.0</td>\n      <td>-1.142108e+03</td>\n      <td>7.951649e+02</td>\n      <td>-2922.000</td>\n      <td>-1666.00</td>\n      <td>-987.0</td>\n      <td>-474.00</td>\n      <td>0.000000e+00</td>\n    </tr>\n    <tr>\n      <th>CREDIT_DAY_OVERDUE</th>\n      <td>1716428.0</td>\n      <td>8.181666e-01</td>\n      <td>3.654443e+01</td>\n      <td>0.000</td>\n      <td>0.00</td>\n      <td>0.0</td>\n      <td>0.00</td>\n      <td>2.792000e+03</td>\n    </tr>\n    <tr>\n      <th>DAYS_CREDIT_ENDDATE</th>\n      <td>1610875.0</td>\n      <td>5.105174e+02</td>\n      <td>4.994220e+03</td>\n      <td>-42060.000</td>\n      <td>-1138.00</td>\n      <td>-330.0</td>\n      <td>474.00</td>\n      <td>3.119900e+04</td>\n    </tr>\n    <tr>\n      <th>DAYS_ENDDATE_FACT</th>\n      <td>1082775.0</td>\n      <td>-1.017437e+03</td>\n      <td>7.140106e+02</td>\n      <td>-42023.000</td>\n      <td>-1489.00</td>\n      <td>-897.0</td>\n      <td>-425.00</td>\n      <td>0.000000e+00</td>\n    </tr>\n    <tr>\n      <th>AMT_CREDIT_MAX_OVERDUE</th>\n      <td>591940.0</td>\n      <td>3.825418e+03</td>\n      <td>2.060316e+05</td>\n      <td>0.000</td>\n      <td>0.00</td>\n      <td>0.0</td>\n      <td>0.00</td>\n      <td>1.159872e+08</td>\n    </tr>\n    <tr>\n      <th>CNT_CREDIT_PROLONG</th>\n      <td>1716428.0</td>\n      <td>6.410406e-03</td>\n      <td>9.622391e-02</td>\n      <td>0.000</td>\n      <td>0.00</td>\n      <td>0.0</td>\n      <td>0.00</td>\n      <td>9.000000e+00</td>\n    </tr>\n    <tr>\n      <th>AMT_CREDIT_SUM</th>\n      <td>1716415.0</td>\n      <td>3.549946e+05</td>\n      <td>1.149811e+06</td>\n      <td>0.000</td>\n      <td>51300.00</td>\n      <td>125518.5</td>\n      <td>315000.00</td>\n      <td>5.850000e+08</td>\n    </tr>\n    <tr>\n      <th>AMT_CREDIT_SUM_DEBT</th>\n      <td>1458759.0</td>\n      <td>1.370851e+05</td>\n      <td>6.774011e+05</td>\n      <td>-4705600.320</td>\n      <td>0.00</td>\n      <td>0.0</td>\n      <td>40153.50</td>\n      <td>1.701000e+08</td>\n    </tr>\n    <tr>\n      <th>AMT_CREDIT_SUM_LIMIT</th>\n      <td>1124648.0</td>\n      <td>6.229515e+03</td>\n      <td>4.503203e+04</td>\n      <td>-586406.115</td>\n      <td>0.00</td>\n      <td>0.0</td>\n      <td>0.00</td>\n      <td>4.705600e+06</td>\n    </tr>\n    <tr>\n      <th>AMT_CREDIT_SUM_OVERDUE</th>\n      <td>1716428.0</td>\n      <td>3.791276e+01</td>\n      <td>5.937650e+03</td>\n      <td>0.000</td>\n      <td>0.00</td>\n      <td>0.0</td>\n      <td>0.00</td>\n      <td>3.756681e+06</td>\n    </tr>\n    <tr>\n      <th>DAYS_CREDIT_UPDATE</th>\n      <td>1716428.0</td>\n      <td>-5.937483e+02</td>\n      <td>7.207473e+02</td>\n      <td>-41947.000</td>\n      <td>-908.00</td>\n      <td>-395.0</td>\n      <td>-33.00</td>\n      <td>3.720000e+02</td>\n    </tr>\n    <tr>\n      <th>AMT_ANNUITY</th>\n      <td>489637.0</td>\n      <td>1.571276e+04</td>\n      <td>3.258269e+05</td>\n      <td>0.000</td>\n      <td>0.00</td>\n      <td>0.0</td>\n      <td>13500.00</td>\n      <td>1.184534e+08</td>\n    </tr>\n  </tbody>\n</table>\n</div>"
     },
     "metadata": {},
     "execution_count": 7
    }
   ],
   "source": [
    "bureau[num_col].describe().T"
   ]
  },
  {
   "cell_type": "code",
   "execution_count": 8,
   "metadata": {},
   "outputs": [],
   "source": [
    "cat_col = bureau.select_dtypes([\"object\"]).columns"
   ]
  },
  {
   "cell_type": "code",
   "execution_count": 9,
   "metadata": {},
   "outputs": [
    {
     "output_type": "execute_result",
     "data": {
      "text/plain": [
       "                   count unique              top     freq\n",
       "CREDIT_ACTIVE    1716428      4           Closed  1079273\n",
       "CREDIT_CURRENCY  1716428      4       currency 1  1715020\n",
       "CREDIT_TYPE      1716428     15  Consumer credit  1251615"
      ],
      "text/html": "<div>\n<style scoped>\n    .dataframe tbody tr th:only-of-type {\n        vertical-align: middle;\n    }\n\n    .dataframe tbody tr th {\n        vertical-align: top;\n    }\n\n    .dataframe thead th {\n        text-align: right;\n    }\n</style>\n<table border=\"1\" class=\"dataframe\">\n  <thead>\n    <tr style=\"text-align: right;\">\n      <th></th>\n      <th>count</th>\n      <th>unique</th>\n      <th>top</th>\n      <th>freq</th>\n    </tr>\n  </thead>\n  <tbody>\n    <tr>\n      <th>CREDIT_ACTIVE</th>\n      <td>1716428</td>\n      <td>4</td>\n      <td>Closed</td>\n      <td>1079273</td>\n    </tr>\n    <tr>\n      <th>CREDIT_CURRENCY</th>\n      <td>1716428</td>\n      <td>4</td>\n      <td>currency 1</td>\n      <td>1715020</td>\n    </tr>\n    <tr>\n      <th>CREDIT_TYPE</th>\n      <td>1716428</td>\n      <td>15</td>\n      <td>Consumer credit</td>\n      <td>1251615</td>\n    </tr>\n  </tbody>\n</table>\n</div>"
     },
     "metadata": {},
     "execution_count": 9
    }
   ],
   "source": [
    "bureau[cat_col].describe().T"
   ]
  },
  {
   "cell_type": "code",
   "execution_count": 10,
   "metadata": {},
   "outputs": [
    {
     "output_type": "stream",
     "name": "stdout",
     "text": [
      "---------------------------------------------------------------------------------------------------- \n CREDIT_ACTIVE\n"
     ]
    },
    {
     "output_type": "display_data",
     "data": {
      "text/plain": "<Figure size 432x288 with 1 Axes>",
      "image/svg+xml": "<?xml version=\"1.0\" encoding=\"utf-8\" standalone=\"no\"?>\r\n<!DOCTYPE svg PUBLIC \"-//W3C//DTD SVG 1.1//EN\"\r\n  \"http://www.w3.org/Graphics/SVG/1.1/DTD/svg11.dtd\">\r\n<svg height=\"261.19625pt\" version=\"1.1\" viewBox=\"0 0 401.485937 261.19625\" width=\"401.485937pt\" xmlns=\"http://www.w3.org/2000/svg\" xmlns:xlink=\"http://www.w3.org/1999/xlink\">\r\n <metadata>\r\n  <rdf:RDF xmlns:cc=\"http://creativecommons.org/ns#\" xmlns:dc=\"http://purl.org/dc/elements/1.1/\" xmlns:rdf=\"http://www.w3.org/1999/02/22-rdf-syntax-ns#\">\r\n   <cc:Work>\r\n    <dc:type rdf:resource=\"http://purl.org/dc/dcmitype/StillImage\"/>\r\n    <dc:date>2021-06-13T12:12:58.340027</dc:date>\r\n    <dc:format>image/svg+xml</dc:format>\r\n    <dc:creator>\r\n     <cc:Agent>\r\n      <dc:title>Matplotlib v3.4.2, https://matplotlib.org/</dc:title>\r\n     </cc:Agent>\r\n    </dc:creator>\r\n   </cc:Work>\r\n  </rdf:RDF>\r\n </metadata>\r\n <defs>\r\n  <style type=\"text/css\">*{stroke-linecap:butt;stroke-linejoin:round;}</style>\r\n </defs>\r\n <g id=\"figure_1\">\r\n  <g id=\"patch_1\">\r\n   <path d=\"M 0 261.19625 \r\nL 401.485937 261.19625 \r\nL 401.485937 0 \r\nL 0 0 \r\nz\r\n\" style=\"fill:none;\"/>\r\n  </g>\r\n  <g id=\"axes_1\">\r\n   <g id=\"patch_2\">\r\n    <path d=\"M 59.485938 224.64 \r\nL 394.285937 224.64 \r\nL 394.285937 7.2 \r\nL 59.485938 7.2 \r\nz\r\n\" style=\"fill:#ffffff;\"/>\r\n   </g>\r\n   <g id=\"patch_3\">\r\n    <path clip-path=\"url(#p773e9f7047)\" d=\"M 59.485938 211.05 \r\nL 378.34308 211.05 \r\nL 378.34308 183.87 \r\nL 59.485938 183.87 \r\nz\r\n\" style=\"fill:#1f77b4;\"/>\r\n   </g>\r\n   <g id=\"patch_4\">\r\n    <path clip-path=\"url(#p773e9f7047)\" d=\"M 59.485938 156.69 \r\nL 245.790558 156.69 \r\nL 245.790558 129.51 \r\nL 59.485938 129.51 \r\nz\r\n\" style=\"fill:#1f77b4;\"/>\r\n   </g>\r\n   <g id=\"patch_5\">\r\n    <path clip-path=\"url(#p773e9f7047)\" d=\"M 59.485938 102.33 \r\nL 61.414255 102.33 \r\nL 61.414255 75.15 \r\nL 59.485938 75.15 \r\nz\r\n\" style=\"fill:#1f77b4;\"/>\r\n   </g>\r\n   <g id=\"patch_6\">\r\n    <path clip-path=\"url(#p773e9f7047)\" d=\"M 59.485938 47.97 \r\nL 59.492142 47.97 \r\nL 59.492142 20.79 \r\nL 59.485938 20.79 \r\nz\r\n\" style=\"fill:#1f77b4;\"/>\r\n   </g>\r\n   <g id=\"matplotlib.axis_1\">\r\n    <g id=\"xtick_1\">\r\n     <g id=\"line2d_1\">\r\n      <defs>\r\n       <path d=\"M 0 0 \r\nL 0 3.5 \r\n\" id=\"m99d508690d\" style=\"stroke:#000000;stroke-width:0.8;\"/>\r\n      </defs>\r\n      <g>\r\n       <use style=\"stroke:#000000;stroke-width:0.8;\" x=\"59.485938\" xlink:href=\"#m99d508690d\" y=\"224.64\"/>\r\n      </g>\r\n     </g>\r\n     <g id=\"text_1\">\r\n      <!-- 0.0 -->\r\n      <g transform=\"translate(51.534375 239.238437)scale(0.1 -0.1)\">\r\n       <defs>\r\n        <path d=\"M 2034 4250 \r\nQ 1547 4250 1301 3770 \r\nQ 1056 3291 1056 2328 \r\nQ 1056 1369 1301 889 \r\nQ 1547 409 2034 409 \r\nQ 2525 409 2770 889 \r\nQ 3016 1369 3016 2328 \r\nQ 3016 3291 2770 3770 \r\nQ 2525 4250 2034 4250 \r\nz\r\nM 2034 4750 \r\nQ 2819 4750 3233 4129 \r\nQ 3647 3509 3647 2328 \r\nQ 3647 1150 3233 529 \r\nQ 2819 -91 2034 -91 \r\nQ 1250 -91 836 529 \r\nQ 422 1150 422 2328 \r\nQ 422 3509 836 4129 \r\nQ 1250 4750 2034 4750 \r\nz\r\n\" id=\"DejaVuSans-30\" transform=\"scale(0.015625)\"/>\r\n        <path d=\"M 684 794 \r\nL 1344 794 \r\nL 1344 0 \r\nL 684 0 \r\nL 684 794 \r\nz\r\n\" id=\"DejaVuSans-2e\" transform=\"scale(0.015625)\"/>\r\n       </defs>\r\n       <use xlink:href=\"#DejaVuSans-30\"/>\r\n       <use x=\"63.623047\" xlink:href=\"#DejaVuSans-2e\"/>\r\n       <use x=\"95.410156\" xlink:href=\"#DejaVuSans-30\"/>\r\n      </g>\r\n     </g>\r\n    </g>\r\n    <g id=\"xtick_2\">\r\n     <g id=\"line2d_2\">\r\n      <g>\r\n       <use style=\"stroke:#000000;stroke-width:0.8;\" x=\"118.573331\" xlink:href=\"#m99d508690d\" y=\"224.64\"/>\r\n      </g>\r\n     </g>\r\n     <g id=\"text_2\">\r\n      <!-- 0.2 -->\r\n      <g transform=\"translate(110.621769 239.238437)scale(0.1 -0.1)\">\r\n       <defs>\r\n        <path d=\"M 1228 531 \r\nL 3431 531 \r\nL 3431 0 \r\nL 469 0 \r\nL 469 531 \r\nQ 828 903 1448 1529 \r\nQ 2069 2156 2228 2338 \r\nQ 2531 2678 2651 2914 \r\nQ 2772 3150 2772 3378 \r\nQ 2772 3750 2511 3984 \r\nQ 2250 4219 1831 4219 \r\nQ 1534 4219 1204 4116 \r\nQ 875 4013 500 3803 \r\nL 500 4441 \r\nQ 881 4594 1212 4672 \r\nQ 1544 4750 1819 4750 \r\nQ 2544 4750 2975 4387 \r\nQ 3406 4025 3406 3419 \r\nQ 3406 3131 3298 2873 \r\nQ 3191 2616 2906 2266 \r\nQ 2828 2175 2409 1742 \r\nQ 1991 1309 1228 531 \r\nz\r\n\" id=\"DejaVuSans-32\" transform=\"scale(0.015625)\"/>\r\n       </defs>\r\n       <use xlink:href=\"#DejaVuSans-30\"/>\r\n       <use x=\"63.623047\" xlink:href=\"#DejaVuSans-2e\"/>\r\n       <use x=\"95.410156\" xlink:href=\"#DejaVuSans-32\"/>\r\n      </g>\r\n     </g>\r\n    </g>\r\n    <g id=\"xtick_3\">\r\n     <g id=\"line2d_3\">\r\n      <g>\r\n       <use style=\"stroke:#000000;stroke-width:0.8;\" x=\"177.660725\" xlink:href=\"#m99d508690d\" y=\"224.64\"/>\r\n      </g>\r\n     </g>\r\n     <g id=\"text_3\">\r\n      <!-- 0.4 -->\r\n      <g transform=\"translate(169.709162 239.238437)scale(0.1 -0.1)\">\r\n       <defs>\r\n        <path d=\"M 2419 4116 \r\nL 825 1625 \r\nL 2419 1625 \r\nL 2419 4116 \r\nz\r\nM 2253 4666 \r\nL 3047 4666 \r\nL 3047 1625 \r\nL 3713 1625 \r\nL 3713 1100 \r\nL 3047 1100 \r\nL 3047 0 \r\nL 2419 0 \r\nL 2419 1100 \r\nL 313 1100 \r\nL 313 1709 \r\nL 2253 4666 \r\nz\r\n\" id=\"DejaVuSans-34\" transform=\"scale(0.015625)\"/>\r\n       </defs>\r\n       <use xlink:href=\"#DejaVuSans-30\"/>\r\n       <use x=\"63.623047\" xlink:href=\"#DejaVuSans-2e\"/>\r\n       <use x=\"95.410156\" xlink:href=\"#DejaVuSans-34\"/>\r\n      </g>\r\n     </g>\r\n    </g>\r\n    <g id=\"xtick_4\">\r\n     <g id=\"line2d_4\">\r\n      <g>\r\n       <use style=\"stroke:#000000;stroke-width:0.8;\" x=\"236.748118\" xlink:href=\"#m99d508690d\" y=\"224.64\"/>\r\n      </g>\r\n     </g>\r\n     <g id=\"text_4\">\r\n      <!-- 0.6 -->\r\n      <g transform=\"translate(228.796556 239.238437)scale(0.1 -0.1)\">\r\n       <defs>\r\n        <path d=\"M 2113 2584 \r\nQ 1688 2584 1439 2293 \r\nQ 1191 2003 1191 1497 \r\nQ 1191 994 1439 701 \r\nQ 1688 409 2113 409 \r\nQ 2538 409 2786 701 \r\nQ 3034 994 3034 1497 \r\nQ 3034 2003 2786 2293 \r\nQ 2538 2584 2113 2584 \r\nz\r\nM 3366 4563 \r\nL 3366 3988 \r\nQ 3128 4100 2886 4159 \r\nQ 2644 4219 2406 4219 \r\nQ 1781 4219 1451 3797 \r\nQ 1122 3375 1075 2522 \r\nQ 1259 2794 1537 2939 \r\nQ 1816 3084 2150 3084 \r\nQ 2853 3084 3261 2657 \r\nQ 3669 2231 3669 1497 \r\nQ 3669 778 3244 343 \r\nQ 2819 -91 2113 -91 \r\nQ 1303 -91 875 529 \r\nQ 447 1150 447 2328 \r\nQ 447 3434 972 4092 \r\nQ 1497 4750 2381 4750 \r\nQ 2619 4750 2861 4703 \r\nQ 3103 4656 3366 4563 \r\nz\r\n\" id=\"DejaVuSans-36\" transform=\"scale(0.015625)\"/>\r\n       </defs>\r\n       <use xlink:href=\"#DejaVuSans-30\"/>\r\n       <use x=\"63.623047\" xlink:href=\"#DejaVuSans-2e\"/>\r\n       <use x=\"95.410156\" xlink:href=\"#DejaVuSans-36\"/>\r\n      </g>\r\n     </g>\r\n    </g>\r\n    <g id=\"xtick_5\">\r\n     <g id=\"line2d_5\">\r\n      <g>\r\n       <use style=\"stroke:#000000;stroke-width:0.8;\" x=\"295.835512\" xlink:href=\"#m99d508690d\" y=\"224.64\"/>\r\n      </g>\r\n     </g>\r\n     <g id=\"text_5\">\r\n      <!-- 0.8 -->\r\n      <g transform=\"translate(287.883949 239.238437)scale(0.1 -0.1)\">\r\n       <defs>\r\n        <path d=\"M 2034 2216 \r\nQ 1584 2216 1326 1975 \r\nQ 1069 1734 1069 1313 \r\nQ 1069 891 1326 650 \r\nQ 1584 409 2034 409 \r\nQ 2484 409 2743 651 \r\nQ 3003 894 3003 1313 \r\nQ 3003 1734 2745 1975 \r\nQ 2488 2216 2034 2216 \r\nz\r\nM 1403 2484 \r\nQ 997 2584 770 2862 \r\nQ 544 3141 544 3541 \r\nQ 544 4100 942 4425 \r\nQ 1341 4750 2034 4750 \r\nQ 2731 4750 3128 4425 \r\nQ 3525 4100 3525 3541 \r\nQ 3525 3141 3298 2862 \r\nQ 3072 2584 2669 2484 \r\nQ 3125 2378 3379 2068 \r\nQ 3634 1759 3634 1313 \r\nQ 3634 634 3220 271 \r\nQ 2806 -91 2034 -91 \r\nQ 1263 -91 848 271 \r\nQ 434 634 434 1313 \r\nQ 434 1759 690 2068 \r\nQ 947 2378 1403 2484 \r\nz\r\nM 1172 3481 \r\nQ 1172 3119 1398 2916 \r\nQ 1625 2713 2034 2713 \r\nQ 2441 2713 2670 2916 \r\nQ 2900 3119 2900 3481 \r\nQ 2900 3844 2670 4047 \r\nQ 2441 4250 2034 4250 \r\nQ 1625 4250 1398 4047 \r\nQ 1172 3844 1172 3481 \r\nz\r\n\" id=\"DejaVuSans-38\" transform=\"scale(0.015625)\"/>\r\n       </defs>\r\n       <use xlink:href=\"#DejaVuSans-30\"/>\r\n       <use x=\"63.623047\" xlink:href=\"#DejaVuSans-2e\"/>\r\n       <use x=\"95.410156\" xlink:href=\"#DejaVuSans-38\"/>\r\n      </g>\r\n     </g>\r\n    </g>\r\n    <g id=\"xtick_6\">\r\n     <g id=\"line2d_6\">\r\n      <g>\r\n       <use style=\"stroke:#000000;stroke-width:0.8;\" x=\"354.922906\" xlink:href=\"#m99d508690d\" y=\"224.64\"/>\r\n      </g>\r\n     </g>\r\n     <g id=\"text_6\">\r\n      <!-- 1.0 -->\r\n      <g transform=\"translate(346.971343 239.238437)scale(0.1 -0.1)\">\r\n       <defs>\r\n        <path d=\"M 794 531 \r\nL 1825 531 \r\nL 1825 4091 \r\nL 703 3866 \r\nL 703 4441 \r\nL 1819 4666 \r\nL 2450 4666 \r\nL 2450 531 \r\nL 3481 531 \r\nL 3481 0 \r\nL 794 0 \r\nL 794 531 \r\nz\r\n\" id=\"DejaVuSans-31\" transform=\"scale(0.015625)\"/>\r\n       </defs>\r\n       <use xlink:href=\"#DejaVuSans-31\"/>\r\n       <use x=\"63.623047\" xlink:href=\"#DejaVuSans-2e\"/>\r\n       <use x=\"95.410156\" xlink:href=\"#DejaVuSans-30\"/>\r\n      </g>\r\n     </g>\r\n    </g>\r\n    <g id=\"text_7\">\r\n     <!-- 1e6 -->\r\n     <g transform=\"translate(375.407812 251.916562)scale(0.1 -0.1)\">\r\n      <defs>\r\n       <path d=\"M 3597 1894 \r\nL 3597 1613 \r\nL 953 1613 \r\nQ 991 1019 1311 708 \r\nQ 1631 397 2203 397 \r\nQ 2534 397 2845 478 \r\nQ 3156 559 3463 722 \r\nL 3463 178 \r\nQ 3153 47 2828 -22 \r\nQ 2503 -91 2169 -91 \r\nQ 1331 -91 842 396 \r\nQ 353 884 353 1716 \r\nQ 353 2575 817 3079 \r\nQ 1281 3584 2069 3584 \r\nQ 2775 3584 3186 3129 \r\nQ 3597 2675 3597 1894 \r\nz\r\nM 3022 2063 \r\nQ 3016 2534 2758 2815 \r\nQ 2500 3097 2075 3097 \r\nQ 1594 3097 1305 2825 \r\nQ 1016 2553 972 2059 \r\nL 3022 2063 \r\nz\r\n\" id=\"DejaVuSans-65\" transform=\"scale(0.015625)\"/>\r\n      </defs>\r\n      <use xlink:href=\"#DejaVuSans-31\"/>\r\n      <use x=\"63.623047\" xlink:href=\"#DejaVuSans-65\"/>\r\n      <use x=\"125.146484\" xlink:href=\"#DejaVuSans-36\"/>\r\n     </g>\r\n    </g>\r\n   </g>\r\n   <g id=\"matplotlib.axis_2\">\r\n    <g id=\"ytick_1\">\r\n     <g id=\"line2d_7\">\r\n      <defs>\r\n       <path d=\"M 0 0 \r\nL -3.5 0 \r\n\" id=\"m7cea14d743\" style=\"stroke:#000000;stroke-width:0.8;\"/>\r\n      </defs>\r\n      <g>\r\n       <use style=\"stroke:#000000;stroke-width:0.8;\" x=\"59.485938\" xlink:href=\"#m7cea14d743\" y=\"197.46\"/>\r\n      </g>\r\n     </g>\r\n     <g id=\"text_8\">\r\n      <!-- Closed -->\r\n      <g transform=\"translate(18.895313 201.259219)scale(0.1 -0.1)\">\r\n       <defs>\r\n        <path d=\"M 4122 4306 \r\nL 4122 3641 \r\nQ 3803 3938 3442 4084 \r\nQ 3081 4231 2675 4231 \r\nQ 1875 4231 1450 3742 \r\nQ 1025 3253 1025 2328 \r\nQ 1025 1406 1450 917 \r\nQ 1875 428 2675 428 \r\nQ 3081 428 3442 575 \r\nQ 3803 722 4122 1019 \r\nL 4122 359 \r\nQ 3791 134 3420 21 \r\nQ 3050 -91 2638 -91 \r\nQ 1578 -91 968 557 \r\nQ 359 1206 359 2328 \r\nQ 359 3453 968 4101 \r\nQ 1578 4750 2638 4750 \r\nQ 3056 4750 3426 4639 \r\nQ 3797 4528 4122 4306 \r\nz\r\n\" id=\"DejaVuSans-43\" transform=\"scale(0.015625)\"/>\r\n        <path d=\"M 603 4863 \r\nL 1178 4863 \r\nL 1178 0 \r\nL 603 0 \r\nL 603 4863 \r\nz\r\n\" id=\"DejaVuSans-6c\" transform=\"scale(0.015625)\"/>\r\n        <path d=\"M 1959 3097 \r\nQ 1497 3097 1228 2736 \r\nQ 959 2375 959 1747 \r\nQ 959 1119 1226 758 \r\nQ 1494 397 1959 397 \r\nQ 2419 397 2687 759 \r\nQ 2956 1122 2956 1747 \r\nQ 2956 2369 2687 2733 \r\nQ 2419 3097 1959 3097 \r\nz\r\nM 1959 3584 \r\nQ 2709 3584 3137 3096 \r\nQ 3566 2609 3566 1747 \r\nQ 3566 888 3137 398 \r\nQ 2709 -91 1959 -91 \r\nQ 1206 -91 779 398 \r\nQ 353 888 353 1747 \r\nQ 353 2609 779 3096 \r\nQ 1206 3584 1959 3584 \r\nz\r\n\" id=\"DejaVuSans-6f\" transform=\"scale(0.015625)\"/>\r\n        <path d=\"M 2834 3397 \r\nL 2834 2853 \r\nQ 2591 2978 2328 3040 \r\nQ 2066 3103 1784 3103 \r\nQ 1356 3103 1142 2972 \r\nQ 928 2841 928 2578 \r\nQ 928 2378 1081 2264 \r\nQ 1234 2150 1697 2047 \r\nL 1894 2003 \r\nQ 2506 1872 2764 1633 \r\nQ 3022 1394 3022 966 \r\nQ 3022 478 2636 193 \r\nQ 2250 -91 1575 -91 \r\nQ 1294 -91 989 -36 \r\nQ 684 19 347 128 \r\nL 347 722 \r\nQ 666 556 975 473 \r\nQ 1284 391 1588 391 \r\nQ 1994 391 2212 530 \r\nQ 2431 669 2431 922 \r\nQ 2431 1156 2273 1281 \r\nQ 2116 1406 1581 1522 \r\nL 1381 1569 \r\nQ 847 1681 609 1914 \r\nQ 372 2147 372 2553 \r\nQ 372 3047 722 3315 \r\nQ 1072 3584 1716 3584 \r\nQ 2034 3584 2315 3537 \r\nQ 2597 3491 2834 3397 \r\nz\r\n\" id=\"DejaVuSans-73\" transform=\"scale(0.015625)\"/>\r\n        <path d=\"M 2906 2969 \r\nL 2906 4863 \r\nL 3481 4863 \r\nL 3481 0 \r\nL 2906 0 \r\nL 2906 525 \r\nQ 2725 213 2448 61 \r\nQ 2172 -91 1784 -91 \r\nQ 1150 -91 751 415 \r\nQ 353 922 353 1747 \r\nQ 353 2572 751 3078 \r\nQ 1150 3584 1784 3584 \r\nQ 2172 3584 2448 3432 \r\nQ 2725 3281 2906 2969 \r\nz\r\nM 947 1747 \r\nQ 947 1113 1208 752 \r\nQ 1469 391 1925 391 \r\nQ 2381 391 2643 752 \r\nQ 2906 1113 2906 1747 \r\nQ 2906 2381 2643 2742 \r\nQ 2381 3103 1925 3103 \r\nQ 1469 3103 1208 2742 \r\nQ 947 2381 947 1747 \r\nz\r\n\" id=\"DejaVuSans-64\" transform=\"scale(0.015625)\"/>\r\n       </defs>\r\n       <use xlink:href=\"#DejaVuSans-43\"/>\r\n       <use x=\"69.824219\" xlink:href=\"#DejaVuSans-6c\"/>\r\n       <use x=\"97.607422\" xlink:href=\"#DejaVuSans-6f\"/>\r\n       <use x=\"158.789062\" xlink:href=\"#DejaVuSans-73\"/>\r\n       <use x=\"210.888672\" xlink:href=\"#DejaVuSans-65\"/>\r\n       <use x=\"272.412109\" xlink:href=\"#DejaVuSans-64\"/>\r\n      </g>\r\n     </g>\r\n    </g>\r\n    <g id=\"ytick_2\">\r\n     <g id=\"line2d_8\">\r\n      <g>\r\n       <use style=\"stroke:#000000;stroke-width:0.8;\" x=\"59.485938\" xlink:href=\"#m7cea14d743\" y=\"143.1\"/>\r\n      </g>\r\n     </g>\r\n     <g id=\"text_9\">\r\n      <!-- Active -->\r\n      <g transform=\"translate(21.551563 146.899219)scale(0.1 -0.1)\">\r\n       <defs>\r\n        <path d=\"M 2188 4044 \r\nL 1331 1722 \r\nL 3047 1722 \r\nL 2188 4044 \r\nz\r\nM 1831 4666 \r\nL 2547 4666 \r\nL 4325 0 \r\nL 3669 0 \r\nL 3244 1197 \r\nL 1141 1197 \r\nL 716 0 \r\nL 50 0 \r\nL 1831 4666 \r\nz\r\n\" id=\"DejaVuSans-41\" transform=\"scale(0.015625)\"/>\r\n        <path d=\"M 3122 3366 \r\nL 3122 2828 \r\nQ 2878 2963 2633 3030 \r\nQ 2388 3097 2138 3097 \r\nQ 1578 3097 1268 2742 \r\nQ 959 2388 959 1747 \r\nQ 959 1106 1268 751 \r\nQ 1578 397 2138 397 \r\nQ 2388 397 2633 464 \r\nQ 2878 531 3122 666 \r\nL 3122 134 \r\nQ 2881 22 2623 -34 \r\nQ 2366 -91 2075 -91 \r\nQ 1284 -91 818 406 \r\nQ 353 903 353 1747 \r\nQ 353 2603 823 3093 \r\nQ 1294 3584 2113 3584 \r\nQ 2378 3584 2631 3529 \r\nQ 2884 3475 3122 3366 \r\nz\r\n\" id=\"DejaVuSans-63\" transform=\"scale(0.015625)\"/>\r\n        <path d=\"M 1172 4494 \r\nL 1172 3500 \r\nL 2356 3500 \r\nL 2356 3053 \r\nL 1172 3053 \r\nL 1172 1153 \r\nQ 1172 725 1289 603 \r\nQ 1406 481 1766 481 \r\nL 2356 481 \r\nL 2356 0 \r\nL 1766 0 \r\nQ 1100 0 847 248 \r\nQ 594 497 594 1153 \r\nL 594 3053 \r\nL 172 3053 \r\nL 172 3500 \r\nL 594 3500 \r\nL 594 4494 \r\nL 1172 4494 \r\nz\r\n\" id=\"DejaVuSans-74\" transform=\"scale(0.015625)\"/>\r\n        <path d=\"M 603 3500 \r\nL 1178 3500 \r\nL 1178 0 \r\nL 603 0 \r\nL 603 3500 \r\nz\r\nM 603 4863 \r\nL 1178 4863 \r\nL 1178 4134 \r\nL 603 4134 \r\nL 603 4863 \r\nz\r\n\" id=\"DejaVuSans-69\" transform=\"scale(0.015625)\"/>\r\n        <path d=\"M 191 3500 \r\nL 800 3500 \r\nL 1894 563 \r\nL 2988 3500 \r\nL 3597 3500 \r\nL 2284 0 \r\nL 1503 0 \r\nL 191 3500 \r\nz\r\n\" id=\"DejaVuSans-76\" transform=\"scale(0.015625)\"/>\r\n       </defs>\r\n       <use xlink:href=\"#DejaVuSans-41\"/>\r\n       <use x=\"66.658203\" xlink:href=\"#DejaVuSans-63\"/>\r\n       <use x=\"121.638672\" xlink:href=\"#DejaVuSans-74\"/>\r\n       <use x=\"160.847656\" xlink:href=\"#DejaVuSans-69\"/>\r\n       <use x=\"188.630859\" xlink:href=\"#DejaVuSans-76\"/>\r\n       <use x=\"247.810547\" xlink:href=\"#DejaVuSans-65\"/>\r\n      </g>\r\n     </g>\r\n    </g>\r\n    <g id=\"ytick_3\">\r\n     <g id=\"line2d_9\">\r\n      <g>\r\n       <use style=\"stroke:#000000;stroke-width:0.8;\" x=\"59.485938\" xlink:href=\"#m7cea14d743\" y=\"88.74\"/>\r\n      </g>\r\n     </g>\r\n     <g id=\"text_10\">\r\n      <!-- Sold -->\r\n      <g transform=\"translate(30.892188 92.539219)scale(0.1 -0.1)\">\r\n       <defs>\r\n        <path d=\"M 3425 4513 \r\nL 3425 3897 \r\nQ 3066 4069 2747 4153 \r\nQ 2428 4238 2131 4238 \r\nQ 1616 4238 1336 4038 \r\nQ 1056 3838 1056 3469 \r\nQ 1056 3159 1242 3001 \r\nQ 1428 2844 1947 2747 \r\nL 2328 2669 \r\nQ 3034 2534 3370 2195 \r\nQ 3706 1856 3706 1288 \r\nQ 3706 609 3251 259 \r\nQ 2797 -91 1919 -91 \r\nQ 1588 -91 1214 -16 \r\nQ 841 59 441 206 \r\nL 441 856 \r\nQ 825 641 1194 531 \r\nQ 1563 422 1919 422 \r\nQ 2459 422 2753 634 \r\nQ 3047 847 3047 1241 \r\nQ 3047 1584 2836 1778 \r\nQ 2625 1972 2144 2069 \r\nL 1759 2144 \r\nQ 1053 2284 737 2584 \r\nQ 422 2884 422 3419 \r\nQ 422 4038 858 4394 \r\nQ 1294 4750 2059 4750 \r\nQ 2388 4750 2728 4690 \r\nQ 3069 4631 3425 4513 \r\nz\r\n\" id=\"DejaVuSans-53\" transform=\"scale(0.015625)\"/>\r\n       </defs>\r\n       <use xlink:href=\"#DejaVuSans-53\"/>\r\n       <use x=\"63.476562\" xlink:href=\"#DejaVuSans-6f\"/>\r\n       <use x=\"124.658203\" xlink:href=\"#DejaVuSans-6c\"/>\r\n       <use x=\"152.441406\" xlink:href=\"#DejaVuSans-64\"/>\r\n      </g>\r\n     </g>\r\n    </g>\r\n    <g id=\"ytick_4\">\r\n     <g id=\"line2d_10\">\r\n      <g>\r\n       <use style=\"stroke:#000000;stroke-width:0.8;\" x=\"59.485938\" xlink:href=\"#m7cea14d743\" y=\"34.38\"/>\r\n      </g>\r\n     </g>\r\n     <g id=\"text_11\">\r\n      <!-- Bad debt -->\r\n      <g transform=\"translate(7.2 38.179219)scale(0.1 -0.1)\">\r\n       <defs>\r\n        <path d=\"M 1259 2228 \r\nL 1259 519 \r\nL 2272 519 \r\nQ 2781 519 3026 730 \r\nQ 3272 941 3272 1375 \r\nQ 3272 1813 3026 2020 \r\nQ 2781 2228 2272 2228 \r\nL 1259 2228 \r\nz\r\nM 1259 4147 \r\nL 1259 2741 \r\nL 2194 2741 \r\nQ 2656 2741 2882 2914 \r\nQ 3109 3088 3109 3444 \r\nQ 3109 3797 2882 3972 \r\nQ 2656 4147 2194 4147 \r\nL 1259 4147 \r\nz\r\nM 628 4666 \r\nL 2241 4666 \r\nQ 2963 4666 3353 4366 \r\nQ 3744 4066 3744 3513 \r\nQ 3744 3084 3544 2831 \r\nQ 3344 2578 2956 2516 \r\nQ 3422 2416 3680 2098 \r\nQ 3938 1781 3938 1306 \r\nQ 3938 681 3513 340 \r\nQ 3088 0 2303 0 \r\nL 628 0 \r\nL 628 4666 \r\nz\r\n\" id=\"DejaVuSans-42\" transform=\"scale(0.015625)\"/>\r\n        <path d=\"M 2194 1759 \r\nQ 1497 1759 1228 1600 \r\nQ 959 1441 959 1056 \r\nQ 959 750 1161 570 \r\nQ 1363 391 1709 391 \r\nQ 2188 391 2477 730 \r\nQ 2766 1069 2766 1631 \r\nL 2766 1759 \r\nL 2194 1759 \r\nz\r\nM 3341 1997 \r\nL 3341 0 \r\nL 2766 0 \r\nL 2766 531 \r\nQ 2569 213 2275 61 \r\nQ 1981 -91 1556 -91 \r\nQ 1019 -91 701 211 \r\nQ 384 513 384 1019 \r\nQ 384 1609 779 1909 \r\nQ 1175 2209 1959 2209 \r\nL 2766 2209 \r\nL 2766 2266 \r\nQ 2766 2663 2505 2880 \r\nQ 2244 3097 1772 3097 \r\nQ 1472 3097 1187 3025 \r\nQ 903 2953 641 2809 \r\nL 641 3341 \r\nQ 956 3463 1253 3523 \r\nQ 1550 3584 1831 3584 \r\nQ 2591 3584 2966 3190 \r\nQ 3341 2797 3341 1997 \r\nz\r\n\" id=\"DejaVuSans-61\" transform=\"scale(0.015625)\"/>\r\n        <path id=\"DejaVuSans-20\" transform=\"scale(0.015625)\"/>\r\n        <path d=\"M 3116 1747 \r\nQ 3116 2381 2855 2742 \r\nQ 2594 3103 2138 3103 \r\nQ 1681 3103 1420 2742 \r\nQ 1159 2381 1159 1747 \r\nQ 1159 1113 1420 752 \r\nQ 1681 391 2138 391 \r\nQ 2594 391 2855 752 \r\nQ 3116 1113 3116 1747 \r\nz\r\nM 1159 2969 \r\nQ 1341 3281 1617 3432 \r\nQ 1894 3584 2278 3584 \r\nQ 2916 3584 3314 3078 \r\nQ 3713 2572 3713 1747 \r\nQ 3713 922 3314 415 \r\nQ 2916 -91 2278 -91 \r\nQ 1894 -91 1617 61 \r\nQ 1341 213 1159 525 \r\nL 1159 0 \r\nL 581 0 \r\nL 581 4863 \r\nL 1159 4863 \r\nL 1159 2969 \r\nz\r\n\" id=\"DejaVuSans-62\" transform=\"scale(0.015625)\"/>\r\n       </defs>\r\n       <use xlink:href=\"#DejaVuSans-42\"/>\r\n       <use x=\"68.603516\" xlink:href=\"#DejaVuSans-61\"/>\r\n       <use x=\"129.882812\" xlink:href=\"#DejaVuSans-64\"/>\r\n       <use x=\"193.359375\" xlink:href=\"#DejaVuSans-20\"/>\r\n       <use x=\"225.146484\" xlink:href=\"#DejaVuSans-64\"/>\r\n       <use x=\"288.623047\" xlink:href=\"#DejaVuSans-65\"/>\r\n       <use x=\"350.146484\" xlink:href=\"#DejaVuSans-62\"/>\r\n       <use x=\"413.623047\" xlink:href=\"#DejaVuSans-74\"/>\r\n      </g>\r\n     </g>\r\n    </g>\r\n   </g>\r\n   <g id=\"patch_7\">\r\n    <path d=\"M 59.485938 224.64 \r\nL 59.485938 7.2 \r\n\" style=\"fill:none;stroke:#000000;stroke-linecap:square;stroke-linejoin:miter;stroke-width:0.8;\"/>\r\n   </g>\r\n   <g id=\"patch_8\">\r\n    <path d=\"M 394.285937 224.64 \r\nL 394.285937 7.2 \r\n\" style=\"fill:none;stroke:#000000;stroke-linecap:square;stroke-linejoin:miter;stroke-width:0.8;\"/>\r\n   </g>\r\n   <g id=\"patch_9\">\r\n    <path d=\"M 59.485938 224.64 \r\nL 394.285937 224.64 \r\n\" style=\"fill:none;stroke:#000000;stroke-linecap:square;stroke-linejoin:miter;stroke-width:0.8;\"/>\r\n   </g>\r\n   <g id=\"patch_10\">\r\n    <path d=\"M 59.485938 7.2 \r\nL 394.285937 7.2 \r\n\" style=\"fill:none;stroke:#000000;stroke-linecap:square;stroke-linejoin:miter;stroke-width:0.8;\"/>\r\n   </g>\r\n  </g>\r\n </g>\r\n <defs>\r\n  <clipPath id=\"p773e9f7047\">\r\n   <rect height=\"217.44\" width=\"334.8\" x=\"59.485938\" y=\"7.2\"/>\r\n  </clipPath>\r\n </defs>\r\n</svg>\r\n",
      "image/png": "[encoded data removed]"
     },
     "metadata": {
      "needs_background": "light"
     }
    },
    {
     "output_type": "stream",
     "name": "stdout",
     "text": [
      "---------------------------------------------------------------------------------------------------- \n CREDIT_CURRENCY\n"
     ]
    },
    {
     "output_type": "display_data",
     "data": {
      "text/plain": "<Figure size 432x288 with 1 Axes>",
      "image/svg+xml": "<?xml version=\"1.0\" encoding=\"utf-8\" standalone=\"no\"?>\r\n<!DOCTYPE svg PUBLIC \"-//W3C//DTD SVG 1.1//EN\"\r\n  \"http://www.w3.org/Graphics/SVG/1.1/DTD/svg11.dtd\">\r\n<svg height=\"261.19625pt\" version=\"1.1\" viewBox=\"0 0 410.9997 261.19625\" width=\"410.9997pt\" xmlns=\"http://www.w3.org/2000/svg\" xmlns:xlink=\"http://www.w3.org/1999/xlink\">\r\n <metadata>\r\n  <rdf:RDF xmlns:cc=\"http://creativecommons.org/ns#\" xmlns:dc=\"http://purl.org/dc/elements/1.1/\" xmlns:rdf=\"http://www.w3.org/1999/02/22-rdf-syntax-ns#\">\r\n   <cc:Work>\r\n    <dc:type rdf:resource=\"http://purl.org/dc/dcmitype/StillImage\"/>\r\n    <dc:date>2021-06-13T12:12:59.270574</dc:date>\r\n    <dc:format>image/svg+xml</dc:format>\r\n    <dc:creator>\r\n     <cc:Agent>\r\n      <dc:title>Matplotlib v3.4.2, https://matplotlib.org/</dc:title>\r\n     </cc:Agent>\r\n    </dc:creator>\r\n   </cc:Work>\r\n  </rdf:RDF>\r\n </metadata>\r\n <defs>\r\n  <style type=\"text/css\">*{stroke-linecap:butt;stroke-linejoin:round;}</style>\r\n </defs>\r\n <g id=\"figure_1\">\r\n  <g id=\"patch_1\">\r\n   <path d=\"M 0 261.19625 \r\nL 410.9997 261.19625 \r\nL 410.9997 0 \r\nL 0 0 \r\nz\r\n\" style=\"fill:none;\"/>\r\n  </g>\r\n  <g id=\"axes_1\">\r\n   <g id=\"patch_2\">\r\n    <path d=\"M 67.30625 224.64 \r\nL 402.10625 224.64 \r\nL 402.10625 7.2 \r\nL 67.30625 7.2 \r\nz\r\n\" style=\"fill:#ffffff;\"/>\r\n   </g>\r\n   <g id=\"patch_3\">\r\n    <path clip-path=\"url(#pd34d82ebe8)\" d=\"M 67.30625 211.05 \r\nL 386.163393 211.05 \r\nL 386.163393 183.87 \r\nL 67.30625 183.87 \r\nz\r\n\" style=\"fill:#1f77b4;\"/>\r\n   </g>\r\n   <g id=\"patch_4\">\r\n    <path clip-path=\"url(#pd34d82ebe8)\" d=\"M 67.30625 156.69 \r\nL 67.533817 156.69 \r\nL 67.533817 129.51 \r\nL 67.30625 129.51 \r\nz\r\n\" style=\"fill:#1f77b4;\"/>\r\n   </g>\r\n   <g id=\"patch_5\">\r\n    <path clip-path=\"url(#pd34d82ebe8)\" d=\"M 67.30625 102.33 \r\nL 67.3386 102.33 \r\nL 67.3386 75.15 \r\nL 67.30625 75.15 \r\nz\r\n\" style=\"fill:#1f77b4;\"/>\r\n   </g>\r\n   <g id=\"patch_6\">\r\n    <path clip-path=\"url(#pd34d82ebe8)\" d=\"M 67.30625 47.97 \r\nL 67.308109 47.97 \r\nL 67.308109 20.79 \r\nL 67.30625 20.79 \r\nz\r\n\" style=\"fill:#1f77b4;\"/>\r\n   </g>\r\n   <g id=\"matplotlib.axis_1\">\r\n    <g id=\"xtick_1\">\r\n     <g id=\"line2d_1\">\r\n      <defs>\r\n       <path d=\"M 0 0 \r\nL 0 3.5 \r\n\" id=\"mab96b13074\" style=\"stroke:#000000;stroke-width:0.8;\"/>\r\n      </defs>\r\n      <g>\r\n       <use style=\"stroke:#000000;stroke-width:0.8;\" x=\"67.30625\" xlink:href=\"#mab96b13074\" y=\"224.64\"/>\r\n      </g>\r\n     </g>\r\n     <g id=\"text_1\">\r\n      <!-- 0.00 -->\r\n      <g transform=\"translate(56.173438 239.238437)scale(0.1 -0.1)\">\r\n       <defs>\r\n        <path d=\"M 2034 4250 \r\nQ 1547 4250 1301 3770 \r\nQ 1056 3291 1056 2328 \r\nQ 1056 1369 1301 889 \r\nQ 1547 409 2034 409 \r\nQ 2525 409 2770 889 \r\nQ 3016 1369 3016 2328 \r\nQ 3016 3291 2770 3770 \r\nQ 2525 4250 2034 4250 \r\nz\r\nM 2034 4750 \r\nQ 2819 4750 3233 4129 \r\nQ 3647 3509 3647 2328 \r\nQ 3647 1150 3233 529 \r\nQ 2819 -91 2034 -91 \r\nQ 1250 -91 836 529 \r\nQ 422 1150 422 2328 \r\nQ 422 3509 836 4129 \r\nQ 1250 4750 2034 4750 \r\nz\r\n\" id=\"DejaVuSans-30\" transform=\"scale(0.015625)\"/>\r\n        <path d=\"M 684 794 \r\nL 1344 794 \r\nL 1344 0 \r\nL 684 0 \r\nL 684 794 \r\nz\r\n\" id=\"DejaVuSans-2e\" transform=\"scale(0.015625)\"/>\r\n       </defs>\r\n       <use xlink:href=\"#DejaVuSans-30\"/>\r\n       <use x=\"63.623047\" xlink:href=\"#DejaVuSans-2e\"/>\r\n       <use x=\"95.410156\" xlink:href=\"#DejaVuSans-30\"/>\r\n       <use x=\"159.033203\" xlink:href=\"#DejaVuSans-30\"/>\r\n      </g>\r\n     </g>\r\n    </g>\r\n    <g id=\"xtick_2\">\r\n     <g id=\"line2d_2\">\r\n      <g>\r\n       <use style=\"stroke:#000000;stroke-width:0.8;\" x=\"113.786341\" xlink:href=\"#mab96b13074\" y=\"224.64\"/>\r\n      </g>\r\n     </g>\r\n     <g id=\"text_2\">\r\n      <!-- 0.25 -->\r\n      <g transform=\"translate(102.653529 239.238437)scale(0.1 -0.1)\">\r\n       <defs>\r\n        <path d=\"M 1228 531 \r\nL 3431 531 \r\nL 3431 0 \r\nL 469 0 \r\nL 469 531 \r\nQ 828 903 1448 1529 \r\nQ 2069 2156 2228 2338 \r\nQ 2531 2678 2651 2914 \r\nQ 2772 3150 2772 3378 \r\nQ 2772 3750 2511 3984 \r\nQ 2250 4219 1831 4219 \r\nQ 1534 4219 1204 4116 \r\nQ 875 4013 500 3803 \r\nL 500 4441 \r\nQ 881 4594 1212 4672 \r\nQ 1544 4750 1819 4750 \r\nQ 2544 4750 2975 4387 \r\nQ 3406 4025 3406 3419 \r\nQ 3406 3131 3298 2873 \r\nQ 3191 2616 2906 2266 \r\nQ 2828 2175 2409 1742 \r\nQ 1991 1309 1228 531 \r\nz\r\n\" id=\"DejaVuSans-32\" transform=\"scale(0.015625)\"/>\r\n        <path d=\"M 691 4666 \r\nL 3169 4666 \r\nL 3169 4134 \r\nL 1269 4134 \r\nL 1269 2991 \r\nQ 1406 3038 1543 3061 \r\nQ 1681 3084 1819 3084 \r\nQ 2600 3084 3056 2656 \r\nQ 3513 2228 3513 1497 \r\nQ 3513 744 3044 326 \r\nQ 2575 -91 1722 -91 \r\nQ 1428 -91 1123 -41 \r\nQ 819 9 494 109 \r\nL 494 744 \r\nQ 775 591 1075 516 \r\nQ 1375 441 1709 441 \r\nQ 2250 441 2565 725 \r\nQ 2881 1009 2881 1497 \r\nQ 2881 1984 2565 2268 \r\nQ 2250 2553 1709 2553 \r\nQ 1456 2553 1204 2497 \r\nQ 953 2441 691 2322 \r\nL 691 4666 \r\nz\r\n\" id=\"DejaVuSans-35\" transform=\"scale(0.015625)\"/>\r\n       </defs>\r\n       <use xlink:href=\"#DejaVuSans-30\"/>\r\n       <use x=\"63.623047\" xlink:href=\"#DejaVuSans-2e\"/>\r\n       <use x=\"95.410156\" xlink:href=\"#DejaVuSans-32\"/>\r\n       <use x=\"159.033203\" xlink:href=\"#DejaVuSans-35\"/>\r\n      </g>\r\n     </g>\r\n    </g>\r\n    <g id=\"xtick_3\">\r\n     <g id=\"line2d_3\">\r\n      <g>\r\n       <use style=\"stroke:#000000;stroke-width:0.8;\" x=\"160.266432\" xlink:href=\"#mab96b13074\" y=\"224.64\"/>\r\n      </g>\r\n     </g>\r\n     <g id=\"text_3\">\r\n      <!-- 0.50 -->\r\n      <g transform=\"translate(149.13362 239.238437)scale(0.1 -0.1)\">\r\n       <use xlink:href=\"#DejaVuSans-30\"/>\r\n       <use x=\"63.623047\" xlink:href=\"#DejaVuSans-2e\"/>\r\n       <use x=\"95.410156\" xlink:href=\"#DejaVuSans-35\"/>\r\n       <use x=\"159.033203\" xlink:href=\"#DejaVuSans-30\"/>\r\n      </g>\r\n     </g>\r\n    </g>\r\n    <g id=\"xtick_4\">\r\n     <g id=\"line2d_4\">\r\n      <g>\r\n       <use style=\"stroke:#000000;stroke-width:0.8;\" x=\"206.746523\" xlink:href=\"#mab96b13074\" y=\"224.64\"/>\r\n      </g>\r\n     </g>\r\n     <g id=\"text_4\">\r\n      <!-- 0.75 -->\r\n      <g transform=\"translate(195.613711 239.238437)scale(0.1 -0.1)\">\r\n       <defs>\r\n        <path d=\"M 525 4666 \r\nL 3525 4666 \r\nL 3525 4397 \r\nL 1831 0 \r\nL 1172 0 \r\nL 2766 4134 \r\nL 525 4134 \r\nL 525 4666 \r\nz\r\n\" id=\"DejaVuSans-37\" transform=\"scale(0.015625)\"/>\r\n       </defs>\r\n       <use xlink:href=\"#DejaVuSans-30\"/>\r\n       <use x=\"63.623047\" xlink:href=\"#DejaVuSans-2e\"/>\r\n       <use x=\"95.410156\" xlink:href=\"#DejaVuSans-37\"/>\r\n       <use x=\"159.033203\" xlink:href=\"#DejaVuSans-35\"/>\r\n      </g>\r\n     </g>\r\n    </g>\r\n    <g id=\"xtick_5\">\r\n     <g id=\"line2d_5\">\r\n      <g>\r\n       <use style=\"stroke:#000000;stroke-width:0.8;\" x=\"253.226614\" xlink:href=\"#mab96b13074\" y=\"224.64\"/>\r\n      </g>\r\n     </g>\r\n     <g id=\"text_5\">\r\n      <!-- 1.00 -->\r\n      <g transform=\"translate(242.093802 239.238437)scale(0.1 -0.1)\">\r\n       <defs>\r\n        <path d=\"M 794 531 \r\nL 1825 531 \r\nL 1825 4091 \r\nL 703 3866 \r\nL 703 4441 \r\nL 1819 4666 \r\nL 2450 4666 \r\nL 2450 531 \r\nL 3481 531 \r\nL 3481 0 \r\nL 794 0 \r\nL 794 531 \r\nz\r\n\" id=\"DejaVuSans-31\" transform=\"scale(0.015625)\"/>\r\n       </defs>\r\n       <use xlink:href=\"#DejaVuSans-31\"/>\r\n       <use x=\"63.623047\" xlink:href=\"#DejaVuSans-2e\"/>\r\n       <use x=\"95.410156\" xlink:href=\"#DejaVuSans-30\"/>\r\n       <use x=\"159.033203\" xlink:href=\"#DejaVuSans-30\"/>\r\n      </g>\r\n     </g>\r\n    </g>\r\n    <g id=\"xtick_6\">\r\n     <g id=\"line2d_6\">\r\n      <g>\r\n       <use style=\"stroke:#000000;stroke-width:0.8;\" x=\"299.706705\" xlink:href=\"#mab96b13074\" y=\"224.64\"/>\r\n      </g>\r\n     </g>\r\n     <g id=\"text_6\">\r\n      <!-- 1.25 -->\r\n      <g transform=\"translate(288.573893 239.238437)scale(0.1 -0.1)\">\r\n       <use xlink:href=\"#DejaVuSans-31\"/>\r\n       <use x=\"63.623047\" xlink:href=\"#DejaVuSans-2e\"/>\r\n       <use x=\"95.410156\" xlink:href=\"#DejaVuSans-32\"/>\r\n       <use x=\"159.033203\" xlink:href=\"#DejaVuSans-35\"/>\r\n      </g>\r\n     </g>\r\n    </g>\r\n    <g id=\"xtick_7\">\r\n     <g id=\"line2d_7\">\r\n      <g>\r\n       <use style=\"stroke:#000000;stroke-width:0.8;\" x=\"346.186796\" xlink:href=\"#mab96b13074\" y=\"224.64\"/>\r\n      </g>\r\n     </g>\r\n     <g id=\"text_7\">\r\n      <!-- 1.50 -->\r\n      <g transform=\"translate(335.053984 239.238437)scale(0.1 -0.1)\">\r\n       <use xlink:href=\"#DejaVuSans-31\"/>\r\n       <use x=\"63.623047\" xlink:href=\"#DejaVuSans-2e\"/>\r\n       <use x=\"95.410156\" xlink:href=\"#DejaVuSans-35\"/>\r\n       <use x=\"159.033203\" xlink:href=\"#DejaVuSans-30\"/>\r\n      </g>\r\n     </g>\r\n    </g>\r\n    <g id=\"xtick_8\">\r\n     <g id=\"line2d_8\">\r\n      <g>\r\n       <use style=\"stroke:#000000;stroke-width:0.8;\" x=\"392.666887\" xlink:href=\"#mab96b13074\" y=\"224.64\"/>\r\n      </g>\r\n     </g>\r\n     <g id=\"text_8\">\r\n      <!-- 1.75 -->\r\n      <g transform=\"translate(381.534075 239.238437)scale(0.1 -0.1)\">\r\n       <use xlink:href=\"#DejaVuSans-31\"/>\r\n       <use x=\"63.623047\" xlink:href=\"#DejaVuSans-2e\"/>\r\n       <use x=\"95.410156\" xlink:href=\"#DejaVuSans-37\"/>\r\n       <use x=\"159.033203\" xlink:href=\"#DejaVuSans-35\"/>\r\n      </g>\r\n     </g>\r\n    </g>\r\n    <g id=\"text_9\">\r\n     <!-- 1e6 -->\r\n     <g transform=\"translate(383.228125 251.916562)scale(0.1 -0.1)\">\r\n      <defs>\r\n       <path d=\"M 3597 1894 \r\nL 3597 1613 \r\nL 953 1613 \r\nQ 991 1019 1311 708 \r\nQ 1631 397 2203 397 \r\nQ 2534 397 2845 478 \r\nQ 3156 559 3463 722 \r\nL 3463 178 \r\nQ 3153 47 2828 -22 \r\nQ 2503 -91 2169 -91 \r\nQ 1331 -91 842 396 \r\nQ 353 884 353 1716 \r\nQ 353 2575 817 3079 \r\nQ 1281 3584 2069 3584 \r\nQ 2775 3584 3186 3129 \r\nQ 3597 2675 3597 1894 \r\nz\r\nM 3022 2063 \r\nQ 3016 2534 2758 2815 \r\nQ 2500 3097 2075 3097 \r\nQ 1594 3097 1305 2825 \r\nQ 1016 2553 972 2059 \r\nL 3022 2063 \r\nz\r\n\" id=\"DejaVuSans-65\" transform=\"scale(0.015625)\"/>\r\n       <path d=\"M 2113 2584 \r\nQ 1688 2584 1439 2293 \r\nQ 1191 2003 1191 1497 \r\nQ 1191 994 1439 701 \r\nQ 1688 409 2113 409 \r\nQ 2538 409 2786 701 \r\nQ 3034 994 3034 1497 \r\nQ 3034 2003 2786 2293 \r\nQ 2538 2584 2113 2584 \r\nz\r\nM 3366 4563 \r\nL 3366 3988 \r\nQ 3128 4100 2886 4159 \r\nQ 2644 4219 2406 4219 \r\nQ 1781 4219 1451 3797 \r\nQ 1122 3375 1075 2522 \r\nQ 1259 2794 1537 2939 \r\nQ 1816 3084 2150 3084 \r\nQ 2853 3084 3261 2657 \r\nQ 3669 2231 3669 1497 \r\nQ 3669 778 3244 343 \r\nQ 2819 -91 2113 -91 \r\nQ 1303 -91 875 529 \r\nQ 447 1150 447 2328 \r\nQ 447 3434 972 4092 \r\nQ 1497 4750 2381 4750 \r\nQ 2619 4750 2861 4703 \r\nQ 3103 4656 3366 4563 \r\nz\r\n\" id=\"DejaVuSans-36\" transform=\"scale(0.015625)\"/>\r\n      </defs>\r\n      <use xlink:href=\"#DejaVuSans-31\"/>\r\n      <use x=\"63.623047\" xlink:href=\"#DejaVuSans-65\"/>\r\n      <use x=\"125.146484\" xlink:href=\"#DejaVuSans-36\"/>\r\n     </g>\r\n    </g>\r\n   </g>\r\n   <g id=\"matplotlib.axis_2\">\r\n    <g id=\"ytick_1\">\r\n     <g id=\"line2d_9\">\r\n      <defs>\r\n       <path d=\"M 0 0 \r\nL -3.5 0 \r\n\" id=\"m0b4f8524d9\" style=\"stroke:#000000;stroke-width:0.8;\"/>\r\n      </defs>\r\n      <g>\r\n       <use style=\"stroke:#000000;stroke-width:0.8;\" x=\"67.30625\" xlink:href=\"#m0b4f8524d9\" y=\"197.46\"/>\r\n      </g>\r\n     </g>\r\n     <g id=\"text_10\">\r\n      <!-- currency 1 -->\r\n      <g transform=\"translate(7.2 201.259219)scale(0.1 -0.1)\">\r\n       <defs>\r\n        <path d=\"M 3122 3366 \r\nL 3122 2828 \r\nQ 2878 2963 2633 3030 \r\nQ 2388 3097 2138 3097 \r\nQ 1578 3097 1268 2742 \r\nQ 959 2388 959 1747 \r\nQ 959 1106 1268 751 \r\nQ 1578 397 2138 397 \r\nQ 2388 397 2633 464 \r\nQ 2878 531 3122 666 \r\nL 3122 134 \r\nQ 2881 22 2623 -34 \r\nQ 2366 -91 2075 -91 \r\nQ 1284 -91 818 406 \r\nQ 353 903 353 1747 \r\nQ 353 2603 823 3093 \r\nQ 1294 3584 2113 3584 \r\nQ 2378 3584 2631 3529 \r\nQ 2884 3475 3122 3366 \r\nz\r\n\" id=\"DejaVuSans-63\" transform=\"scale(0.015625)\"/>\r\n        <path d=\"M 544 1381 \r\nL 544 3500 \r\nL 1119 3500 \r\nL 1119 1403 \r\nQ 1119 906 1312 657 \r\nQ 1506 409 1894 409 \r\nQ 2359 409 2629 706 \r\nQ 2900 1003 2900 1516 \r\nL 2900 3500 \r\nL 3475 3500 \r\nL 3475 0 \r\nL 2900 0 \r\nL 2900 538 \r\nQ 2691 219 2414 64 \r\nQ 2138 -91 1772 -91 \r\nQ 1169 -91 856 284 \r\nQ 544 659 544 1381 \r\nz\r\nM 1991 3584 \r\nL 1991 3584 \r\nz\r\n\" id=\"DejaVuSans-75\" transform=\"scale(0.015625)\"/>\r\n        <path d=\"M 2631 2963 \r\nQ 2534 3019 2420 3045 \r\nQ 2306 3072 2169 3072 \r\nQ 1681 3072 1420 2755 \r\nQ 1159 2438 1159 1844 \r\nL 1159 0 \r\nL 581 0 \r\nL 581 3500 \r\nL 1159 3500 \r\nL 1159 2956 \r\nQ 1341 3275 1631 3429 \r\nQ 1922 3584 2338 3584 \r\nQ 2397 3584 2469 3576 \r\nQ 2541 3569 2628 3553 \r\nL 2631 2963 \r\nz\r\n\" id=\"DejaVuSans-72\" transform=\"scale(0.015625)\"/>\r\n        <path d=\"M 3513 2113 \r\nL 3513 0 \r\nL 2938 0 \r\nL 2938 2094 \r\nQ 2938 2591 2744 2837 \r\nQ 2550 3084 2163 3084 \r\nQ 1697 3084 1428 2787 \r\nQ 1159 2491 1159 1978 \r\nL 1159 0 \r\nL 581 0 \r\nL 581 3500 \r\nL 1159 3500 \r\nL 1159 2956 \r\nQ 1366 3272 1645 3428 \r\nQ 1925 3584 2291 3584 \r\nQ 2894 3584 3203 3211 \r\nQ 3513 2838 3513 2113 \r\nz\r\n\" id=\"DejaVuSans-6e\" transform=\"scale(0.015625)\"/>\r\n        <path d=\"M 2059 -325 \r\nQ 1816 -950 1584 -1140 \r\nQ 1353 -1331 966 -1331 \r\nL 506 -1331 \r\nL 506 -850 \r\nL 844 -850 \r\nQ 1081 -850 1212 -737 \r\nQ 1344 -625 1503 -206 \r\nL 1606 56 \r\nL 191 3500 \r\nL 800 3500 \r\nL 1894 763 \r\nL 2988 3500 \r\nL 3597 3500 \r\nL 2059 -325 \r\nz\r\n\" id=\"DejaVuSans-79\" transform=\"scale(0.015625)\"/>\r\n        <path id=\"DejaVuSans-20\" transform=\"scale(0.015625)\"/>\r\n       </defs>\r\n       <use xlink:href=\"#DejaVuSans-63\"/>\r\n       <use x=\"54.980469\" xlink:href=\"#DejaVuSans-75\"/>\r\n       <use x=\"118.359375\" xlink:href=\"#DejaVuSans-72\"/>\r\n       <use x=\"157.722656\" xlink:href=\"#DejaVuSans-72\"/>\r\n       <use x=\"196.585938\" xlink:href=\"#DejaVuSans-65\"/>\r\n       <use x=\"258.109375\" xlink:href=\"#DejaVuSans-6e\"/>\r\n       <use x=\"321.488281\" xlink:href=\"#DejaVuSans-63\"/>\r\n       <use x=\"376.46875\" xlink:href=\"#DejaVuSans-79\"/>\r\n       <use x=\"435.648438\" xlink:href=\"#DejaVuSans-20\"/>\r\n       <use x=\"467.435547\" xlink:href=\"#DejaVuSans-31\"/>\r\n      </g>\r\n     </g>\r\n    </g>\r\n    <g id=\"ytick_2\">\r\n     <g id=\"line2d_10\">\r\n      <g>\r\n       <use style=\"stroke:#000000;stroke-width:0.8;\" x=\"67.30625\" xlink:href=\"#m0b4f8524d9\" y=\"143.1\"/>\r\n      </g>\r\n     </g>\r\n     <g id=\"text_11\">\r\n      <!-- currency 2 -->\r\n      <g transform=\"translate(7.2 146.899219)scale(0.1 -0.1)\">\r\n       <use xlink:href=\"#DejaVuSans-63\"/>\r\n       <use x=\"54.980469\" xlink:href=\"#DejaVuSans-75\"/>\r\n       <use x=\"118.359375\" xlink:href=\"#DejaVuSans-72\"/>\r\n       <use x=\"157.722656\" xlink:href=\"#DejaVuSans-72\"/>\r\n       <use x=\"196.585938\" xlink:href=\"#DejaVuSans-65\"/>\r\n       <use x=\"258.109375\" xlink:href=\"#DejaVuSans-6e\"/>\r\n       <use x=\"321.488281\" xlink:href=\"#DejaVuSans-63\"/>\r\n       <use x=\"376.46875\" xlink:href=\"#DejaVuSans-79\"/>\r\n       <use x=\"435.648438\" xlink:href=\"#DejaVuSans-20\"/>\r\n       <use x=\"467.435547\" xlink:href=\"#DejaVuSans-32\"/>\r\n      </g>\r\n     </g>\r\n    </g>\r\n    <g id=\"ytick_3\">\r\n     <g id=\"line2d_11\">\r\n      <g>\r\n       <use style=\"stroke:#000000;stroke-width:0.8;\" x=\"67.30625\" xlink:href=\"#m0b4f8524d9\" y=\"88.74\"/>\r\n      </g>\r\n     </g>\r\n     <g id=\"text_12\">\r\n      <!-- currency 3 -->\r\n      <g transform=\"translate(7.2 92.539219)scale(0.1 -0.1)\">\r\n       <defs>\r\n        <path d=\"M 2597 2516 \r\nQ 3050 2419 3304 2112 \r\nQ 3559 1806 3559 1356 \r\nQ 3559 666 3084 287 \r\nQ 2609 -91 1734 -91 \r\nQ 1441 -91 1130 -33 \r\nQ 819 25 488 141 \r\nL 488 750 \r\nQ 750 597 1062 519 \r\nQ 1375 441 1716 441 \r\nQ 2309 441 2620 675 \r\nQ 2931 909 2931 1356 \r\nQ 2931 1769 2642 2001 \r\nQ 2353 2234 1838 2234 \r\nL 1294 2234 \r\nL 1294 2753 \r\nL 1863 2753 \r\nQ 2328 2753 2575 2939 \r\nQ 2822 3125 2822 3475 \r\nQ 2822 3834 2567 4026 \r\nQ 2313 4219 1838 4219 \r\nQ 1578 4219 1281 4162 \r\nQ 984 4106 628 3988 \r\nL 628 4550 \r\nQ 988 4650 1302 4700 \r\nQ 1616 4750 1894 4750 \r\nQ 2613 4750 3031 4423 \r\nQ 3450 4097 3450 3541 \r\nQ 3450 3153 3228 2886 \r\nQ 3006 2619 2597 2516 \r\nz\r\n\" id=\"DejaVuSans-33\" transform=\"scale(0.015625)\"/>\r\n       </defs>\r\n       <use xlink:href=\"#DejaVuSans-63\"/>\r\n       <use x=\"54.980469\" xlink:href=\"#DejaVuSans-75\"/>\r\n       <use x=\"118.359375\" xlink:href=\"#DejaVuSans-72\"/>\r\n       <use x=\"157.722656\" xlink:href=\"#DejaVuSans-72\"/>\r\n       <use x=\"196.585938\" xlink:href=\"#DejaVuSans-65\"/>\r\n       <use x=\"258.109375\" xlink:href=\"#DejaVuSans-6e\"/>\r\n       <use x=\"321.488281\" xlink:href=\"#DejaVuSans-63\"/>\r\n       <use x=\"376.46875\" xlink:href=\"#DejaVuSans-79\"/>\r\n       <use x=\"435.648438\" xlink:href=\"#DejaVuSans-20\"/>\r\n       <use x=\"467.435547\" xlink:href=\"#DejaVuSans-33\"/>\r\n      </g>\r\n     </g>\r\n    </g>\r\n    <g id=\"ytick_4\">\r\n     <g id=\"line2d_12\">\r\n      <g>\r\n       <use style=\"stroke:#000000;stroke-width:0.8;\" x=\"67.30625\" xlink:href=\"#m0b4f8524d9\" y=\"34.38\"/>\r\n      </g>\r\n     </g>\r\n     <g id=\"text_13\">\r\n      <!-- currency 4 -->\r\n      <g transform=\"translate(7.2 38.179219)scale(0.1 -0.1)\">\r\n       <defs>\r\n        <path d=\"M 2419 4116 \r\nL 825 1625 \r\nL 2419 1625 \r\nL 2419 4116 \r\nz\r\nM 2253 4666 \r\nL 3047 4666 \r\nL 3047 1625 \r\nL 3713 1625 \r\nL 3713 1100 \r\nL 3047 1100 \r\nL 3047 0 \r\nL 2419 0 \r\nL 2419 1100 \r\nL 313 1100 \r\nL 313 1709 \r\nL 2253 4666 \r\nz\r\n\" id=\"DejaVuSans-34\" transform=\"scale(0.015625)\"/>\r\n       </defs>\r\n       <use xlink:href=\"#DejaVuSans-63\"/>\r\n       <use x=\"54.980469\" xlink:href=\"#DejaVuSans-75\"/>\r\n       <use x=\"118.359375\" xlink:href=\"#DejaVuSans-72\"/>\r\n       <use x=\"157.722656\" xlink:href=\"#DejaVuSans-72\"/>\r\n       <use x=\"196.585938\" xlink:href=\"#DejaVuSans-65\"/>\r\n       <use x=\"258.109375\" xlink:href=\"#DejaVuSans-6e\"/>\r\n       <use x=\"321.488281\" xlink:href=\"#DejaVuSans-63\"/>\r\n       <use x=\"376.46875\" xlink:href=\"#DejaVuSans-79\"/>\r\n       <use x=\"435.648438\" xlink:href=\"#DejaVuSans-20\"/>\r\n       <use x=\"467.435547\" xlink:href=\"#DejaVuSans-34\"/>\r\n      </g>\r\n     </g>\r\n    </g>\r\n   </g>\r\n   <g id=\"patch_7\">\r\n    <path d=\"M 67.30625 224.64 \r\nL 67.30625 7.2 \r\n\" style=\"fill:none;stroke:#000000;stroke-linecap:square;stroke-linejoin:miter;stroke-width:0.8;\"/>\r\n   </g>\r\n   <g id=\"patch_8\">\r\n    <path d=\"M 402.10625 224.64 \r\nL 402.10625 7.2 \r\n\" style=\"fill:none;stroke:#000000;stroke-linecap:square;stroke-linejoin:miter;stroke-width:0.8;\"/>\r\n   </g>\r\n   <g id=\"patch_9\">\r\n    <path d=\"M 67.30625 224.64 \r\nL 402.10625 224.64 \r\n\" style=\"fill:none;stroke:#000000;stroke-linecap:square;stroke-linejoin:miter;stroke-width:0.8;\"/>\r\n   </g>\r\n   <g id=\"patch_10\">\r\n    <path d=\"M 67.30625 7.2 \r\nL 402.10625 7.2 \r\n\" style=\"fill:none;stroke:#000000;stroke-linecap:square;stroke-linejoin:miter;stroke-width:0.8;\"/>\r\n   </g>\r\n  </g>\r\n </g>\r\n <defs>\r\n  <clipPath id=\"pd34d82ebe8\">\r\n   <rect height=\"217.44\" width=\"334.8\" x=\"67.30625\" y=\"7.2\"/>\r\n  </clipPath>\r\n </defs>\r\n</svg>\r\n",
      "image/png": "[encoded data removed]"
     },
     "metadata": {
      "needs_background": "light"
     }
    },
    {
     "output_type": "stream",
     "name": "stdout",
     "text": [
      "---------------------------------------------------------------------------------------------------- \n CREDIT_TYPE\n"
     ]
    },
    {
     "output_type": "display_data",
     "data": {
      "text/plain": "<Figure size 432x288 with 1 Axes>",
      "image/svg+xml": "<?xml version=\"1.0\" encoding=\"utf-8\" standalone=\"no\"?>\r\n<!DOCTYPE svg PUBLIC \"-//W3C//DTD SVG 1.1//EN\"\r\n  \"http://www.w3.org/Graphics/SVG/1.1/DTD/svg11.dtd\">\r\n<svg height=\"261.19625pt\" version=\"1.1\" viewBox=\"0 0 581.614062 261.19625\" width=\"581.614062pt\" xmlns=\"http://www.w3.org/2000/svg\" xmlns:xlink=\"http://www.w3.org/1999/xlink\">\r\n <metadata>\r\n  <rdf:RDF xmlns:cc=\"http://creativecommons.org/ns#\" xmlns:dc=\"http://purl.org/dc/elements/1.1/\" xmlns:rdf=\"http://www.w3.org/1999/02/22-rdf-syntax-ns#\">\r\n   <cc:Work>\r\n    <dc:type rdf:resource=\"http://purl.org/dc/dcmitype/StillImage\"/>\r\n    <dc:date>2021-06-13T12:13:00.275854</dc:date>\r\n    <dc:format>image/svg+xml</dc:format>\r\n    <dc:creator>\r\n     <cc:Agent>\r\n      <dc:title>Matplotlib v3.4.2, https://matplotlib.org/</dc:title>\r\n     </cc:Agent>\r\n    </dc:creator>\r\n   </cc:Work>\r\n  </rdf:RDF>\r\n </metadata>\r\n <defs>\r\n  <style type=\"text/css\">*{stroke-linecap:butt;stroke-linejoin:round;}</style>\r\n </defs>\r\n <g id=\"figure_1\">\r\n  <g id=\"patch_1\">\r\n   <path d=\"M -0 261.19625 \r\nL 581.614062 261.19625 \r\nL 581.614062 0 \r\nL -0 0 \r\nz\r\n\" style=\"fill:none;\"/>\r\n  </g>\r\n  <g id=\"axes_1\">\r\n   <g id=\"patch_2\">\r\n    <path d=\"M 239.614062 224.64 \r\nL 574.414062 224.64 \r\nL 574.414062 7.2 \r\nL 239.614062 7.2 \r\nz\r\n\" style=\"fill:#ffffff;\"/>\r\n   </g>\r\n   <g id=\"patch_3\">\r\n    <path clip-path=\"url(#p979dd07020)\" d=\"M 239.614062 221.016 \r\nL 558.471205 221.016 \r\nL 558.471205 213.768 \r\nL 239.614062 213.768 \r\nz\r\n\" style=\"fill:#1f77b4;\"/>\r\n   </g>\r\n   <g id=\"patch_4\">\r\n    <path clip-path=\"url(#p979dd07020)\" d=\"M 239.614062 206.52 \r\nL 342.075881 206.52 \r\nL 342.075881 199.272 \r\nL 239.614062 199.272 \r\nz\r\n\" style=\"fill:#1f77b4;\"/>\r\n   </g>\r\n   <g id=\"patch_5\">\r\n    <path clip-path=\"url(#p979dd07020)\" d=\"M 239.614062 192.024 \r\nL 246.668272 192.024 \r\nL 246.668272 184.776 \r\nL 239.614062 184.776 \r\nz\r\n\" style=\"fill:#1f77b4;\"/>\r\n   </g>\r\n   <g id=\"patch_6\">\r\n    <path clip-path=\"url(#p979dd07020)\" d=\"M 239.614062 177.528 \r\nL 244.299291 177.528 \r\nL 244.299291 170.28 \r\nL 239.614062 170.28 \r\nz\r\n\" style=\"fill:#1f77b4;\"/>\r\n   </g>\r\n   <g id=\"patch_7\">\r\n    <path clip-path=\"url(#p979dd07020)\" d=\"M 239.614062 163.032 \r\nL 242.776356 163.032 \r\nL 242.776356 155.784 \r\nL 239.614062 155.784 \r\nz\r\n\" style=\"fill:#1f77b4;\"/>\r\n   </g>\r\n   <g id=\"patch_8\">\r\n    <path clip-path=\"url(#p979dd07020)\" d=\"M 239.614062 148.536 \r\nL 240.117207 148.536 \r\nL 240.117207 141.288 \r\nL 239.614062 141.288 \r\nz\r\n\" style=\"fill:#1f77b4;\"/>\r\n   </g>\r\n   <g id=\"patch_9\">\r\n    <path clip-path=\"url(#p979dd07020)\" d=\"M 239.614062 134.04 \r\nL 239.87315 134.04 \r\nL 239.87315 126.792 \r\nL 239.614062 126.792 \r\nz\r\n\" style=\"fill:#1f77b4;\"/>\r\n   </g>\r\n   <g id=\"patch_10\">\r\n    <path clip-path=\"url(#p979dd07020)\" d=\"M 239.614062 119.544 \r\nL 239.755452 119.544 \r\nL 239.755452 112.296 \r\nL 239.614062 112.296 \r\nz\r\n\" style=\"fill:#1f77b4;\"/>\r\n   </g>\r\n   <g id=\"patch_11\">\r\n    <path clip-path=\"url(#p979dd07020)\" d=\"M 239.614062 105.048 \r\nL 239.733543 105.048 \r\nL 239.733543 97.8 \r\nL 239.614062 97.8 \r\nz\r\n\" style=\"fill:#1f77b4;\"/>\r\n   </g>\r\n   <g id=\"patch_12\">\r\n    <path clip-path=\"url(#p979dd07020)\" d=\"M 239.614062 90.552 \r\nL 239.628329 90.552 \r\nL 239.628329 83.304 \r\nL 239.614062 83.304 \r\nz\r\n\" style=\"fill:#1f77b4;\"/>\r\n   </g>\r\n   <g id=\"patch_13\">\r\n    <path clip-path=\"url(#p979dd07020)\" d=\"M 239.614062 76.056 \r\nL 239.620941 76.056 \r\nL 239.620941 68.808 \r\nL 239.614062 68.808 \r\nz\r\n\" style=\"fill:#1f77b4;\"/>\r\n   </g>\r\n   <g id=\"patch_14\">\r\n    <path clip-path=\"url(#p979dd07020)\" d=\"M 239.614062 61.56 \r\nL 239.618903 61.56 \r\nL 239.618903 54.312 \r\nL 239.614062 54.312 \r\nz\r\n\" style=\"fill:#1f77b4;\"/>\r\n   </g>\r\n   <g id=\"patch_15\">\r\n    <path clip-path=\"url(#p979dd07020)\" d=\"M 239.614062 47.064 \r\nL 239.615082 47.064 \r\nL 239.615082 39.816 \r\nL 239.614062 39.816 \r\nz\r\n\" style=\"fill:#1f77b4;\"/>\r\n   </g>\r\n   <g id=\"patch_16\">\r\n    <path clip-path=\"url(#p979dd07020)\" d=\"M 239.614062 32.568 \r\nL 239.614317 32.568 \r\nL 239.614317 25.32 \r\nL 239.614062 25.32 \r\nz\r\n\" style=\"fill:#1f77b4;\"/>\r\n   </g>\r\n   <g id=\"patch_17\">\r\n    <path clip-path=\"url(#p979dd07020)\" d=\"M 239.614062 18.072 \r\nL 239.614317 18.072 \r\nL 239.614317 10.824 \r\nL 239.614062 10.824 \r\nz\r\n\" style=\"fill:#1f77b4;\"/>\r\n   </g>\r\n   <g id=\"matplotlib.axis_1\">\r\n    <g id=\"xtick_1\">\r\n     <g id=\"line2d_1\">\r\n      <defs>\r\n       <path d=\"M 0 0 \r\nL 0 3.5 \r\n\" id=\"m23d1d9edde\" style=\"stroke:#000000;stroke-width:0.8;\"/>\r\n      </defs>\r\n      <g>\r\n       <use style=\"stroke:#000000;stroke-width:0.8;\" x=\"239.614062\" xlink:href=\"#m23d1d9edde\" y=\"224.64\"/>\r\n      </g>\r\n     </g>\r\n     <g id=\"text_1\">\r\n      <!-- 0.0 -->\r\n      <g transform=\"translate(231.6625 239.238437)scale(0.1 -0.1)\">\r\n       <defs>\r\n        <path d=\"M 2034 4250 \r\nQ 1547 4250 1301 3770 \r\nQ 1056 3291 1056 2328 \r\nQ 1056 1369 1301 889 \r\nQ 1547 409 2034 409 \r\nQ 2525 409 2770 889 \r\nQ 3016 1369 3016 2328 \r\nQ 3016 3291 2770 3770 \r\nQ 2525 4250 2034 4250 \r\nz\r\nM 2034 4750 \r\nQ 2819 4750 3233 4129 \r\nQ 3647 3509 3647 2328 \r\nQ 3647 1150 3233 529 \r\nQ 2819 -91 2034 -91 \r\nQ 1250 -91 836 529 \r\nQ 422 1150 422 2328 \r\nQ 422 3509 836 4129 \r\nQ 1250 4750 2034 4750 \r\nz\r\n\" id=\"DejaVuSans-30\" transform=\"scale(0.015625)\"/>\r\n        <path d=\"M 684 794 \r\nL 1344 794 \r\nL 1344 0 \r\nL 684 0 \r\nL 684 794 \r\nz\r\n\" id=\"DejaVuSans-2e\" transform=\"scale(0.015625)\"/>\r\n       </defs>\r\n       <use xlink:href=\"#DejaVuSans-30\"/>\r\n       <use x=\"63.623047\" xlink:href=\"#DejaVuSans-2e\"/>\r\n       <use x=\"95.410156\" xlink:href=\"#DejaVuSans-30\"/>\r\n      </g>\r\n     </g>\r\n    </g>\r\n    <g id=\"xtick_2\">\r\n     <g id=\"line2d_2\">\r\n      <g>\r\n       <use style=\"stroke:#000000;stroke-width:0.8;\" x=\"290.565376\" xlink:href=\"#m23d1d9edde\" y=\"224.64\"/>\r\n      </g>\r\n     </g>\r\n     <g id=\"text_2\">\r\n      <!-- 0.2 -->\r\n      <g transform=\"translate(282.613814 239.238437)scale(0.1 -0.1)\">\r\n       <defs>\r\n        <path d=\"M 1228 531 \r\nL 3431 531 \r\nL 3431 0 \r\nL 469 0 \r\nL 469 531 \r\nQ 828 903 1448 1529 \r\nQ 2069 2156 2228 2338 \r\nQ 2531 2678 2651 2914 \r\nQ 2772 3150 2772 3378 \r\nQ 2772 3750 2511 3984 \r\nQ 2250 4219 1831 4219 \r\nQ 1534 4219 1204 4116 \r\nQ 875 4013 500 3803 \r\nL 500 4441 \r\nQ 881 4594 1212 4672 \r\nQ 1544 4750 1819 4750 \r\nQ 2544 4750 2975 4387 \r\nQ 3406 4025 3406 3419 \r\nQ 3406 3131 3298 2873 \r\nQ 3191 2616 2906 2266 \r\nQ 2828 2175 2409 1742 \r\nQ 1991 1309 1228 531 \r\nz\r\n\" id=\"DejaVuSans-32\" transform=\"scale(0.015625)\"/>\r\n       </defs>\r\n       <use xlink:href=\"#DejaVuSans-30\"/>\r\n       <use x=\"63.623047\" xlink:href=\"#DejaVuSans-2e\"/>\r\n       <use x=\"95.410156\" xlink:href=\"#DejaVuSans-32\"/>\r\n      </g>\r\n     </g>\r\n    </g>\r\n    <g id=\"xtick_3\">\r\n     <g id=\"line2d_3\">\r\n      <g>\r\n       <use style=\"stroke:#000000;stroke-width:0.8;\" x=\"341.51669\" xlink:href=\"#m23d1d9edde\" y=\"224.64\"/>\r\n      </g>\r\n     </g>\r\n     <g id=\"text_3\">\r\n      <!-- 0.4 -->\r\n      <g transform=\"translate(333.565128 239.238437)scale(0.1 -0.1)\">\r\n       <defs>\r\n        <path d=\"M 2419 4116 \r\nL 825 1625 \r\nL 2419 1625 \r\nL 2419 4116 \r\nz\r\nM 2253 4666 \r\nL 3047 4666 \r\nL 3047 1625 \r\nL 3713 1625 \r\nL 3713 1100 \r\nL 3047 1100 \r\nL 3047 0 \r\nL 2419 0 \r\nL 2419 1100 \r\nL 313 1100 \r\nL 313 1709 \r\nL 2253 4666 \r\nz\r\n\" id=\"DejaVuSans-34\" transform=\"scale(0.015625)\"/>\r\n       </defs>\r\n       <use xlink:href=\"#DejaVuSans-30\"/>\r\n       <use x=\"63.623047\" xlink:href=\"#DejaVuSans-2e\"/>\r\n       <use x=\"95.410156\" xlink:href=\"#DejaVuSans-34\"/>\r\n      </g>\r\n     </g>\r\n    </g>\r\n    <g id=\"xtick_4\">\r\n     <g id=\"line2d_4\">\r\n      <g>\r\n       <use style=\"stroke:#000000;stroke-width:0.8;\" x=\"392.468004\" xlink:href=\"#m23d1d9edde\" y=\"224.64\"/>\r\n      </g>\r\n     </g>\r\n     <g id=\"text_4\">\r\n      <!-- 0.6 -->\r\n      <g transform=\"translate(384.516441 239.238437)scale(0.1 -0.1)\">\r\n       <defs>\r\n        <path d=\"M 2113 2584 \r\nQ 1688 2584 1439 2293 \r\nQ 1191 2003 1191 1497 \r\nQ 1191 994 1439 701 \r\nQ 1688 409 2113 409 \r\nQ 2538 409 2786 701 \r\nQ 3034 994 3034 1497 \r\nQ 3034 2003 2786 2293 \r\nQ 2538 2584 2113 2584 \r\nz\r\nM 3366 4563 \r\nL 3366 3988 \r\nQ 3128 4100 2886 4159 \r\nQ 2644 4219 2406 4219 \r\nQ 1781 4219 1451 3797 \r\nQ 1122 3375 1075 2522 \r\nQ 1259 2794 1537 2939 \r\nQ 1816 3084 2150 3084 \r\nQ 2853 3084 3261 2657 \r\nQ 3669 2231 3669 1497 \r\nQ 3669 778 3244 343 \r\nQ 2819 -91 2113 -91 \r\nQ 1303 -91 875 529 \r\nQ 447 1150 447 2328 \r\nQ 447 3434 972 4092 \r\nQ 1497 4750 2381 4750 \r\nQ 2619 4750 2861 4703 \r\nQ 3103 4656 3366 4563 \r\nz\r\n\" id=\"DejaVuSans-36\" transform=\"scale(0.015625)\"/>\r\n       </defs>\r\n       <use xlink:href=\"#DejaVuSans-30\"/>\r\n       <use x=\"63.623047\" xlink:href=\"#DejaVuSans-2e\"/>\r\n       <use x=\"95.410156\" xlink:href=\"#DejaVuSans-36\"/>\r\n      </g>\r\n     </g>\r\n    </g>\r\n    <g id=\"xtick_5\">\r\n     <g id=\"line2d_5\">\r\n      <g>\r\n       <use style=\"stroke:#000000;stroke-width:0.8;\" x=\"443.419318\" xlink:href=\"#m23d1d9edde\" y=\"224.64\"/>\r\n      </g>\r\n     </g>\r\n     <g id=\"text_5\">\r\n      <!-- 0.8 -->\r\n      <g transform=\"translate(435.467755 239.238437)scale(0.1 -0.1)\">\r\n       <defs>\r\n        <path d=\"M 2034 2216 \r\nQ 1584 2216 1326 1975 \r\nQ 1069 1734 1069 1313 \r\nQ 1069 891 1326 650 \r\nQ 1584 409 2034 409 \r\nQ 2484 409 2743 651 \r\nQ 3003 894 3003 1313 \r\nQ 3003 1734 2745 1975 \r\nQ 2488 2216 2034 2216 \r\nz\r\nM 1403 2484 \r\nQ 997 2584 770 2862 \r\nQ 544 3141 544 3541 \r\nQ 544 4100 942 4425 \r\nQ 1341 4750 2034 4750 \r\nQ 2731 4750 3128 4425 \r\nQ 3525 4100 3525 3541 \r\nQ 3525 3141 3298 2862 \r\nQ 3072 2584 2669 2484 \r\nQ 3125 2378 3379 2068 \r\nQ 3634 1759 3634 1313 \r\nQ 3634 634 3220 271 \r\nQ 2806 -91 2034 -91 \r\nQ 1263 -91 848 271 \r\nQ 434 634 434 1313 \r\nQ 434 1759 690 2068 \r\nQ 947 2378 1403 2484 \r\nz\r\nM 1172 3481 \r\nQ 1172 3119 1398 2916 \r\nQ 1625 2713 2034 2713 \r\nQ 2441 2713 2670 2916 \r\nQ 2900 3119 2900 3481 \r\nQ 2900 3844 2670 4047 \r\nQ 2441 4250 2034 4250 \r\nQ 1625 4250 1398 4047 \r\nQ 1172 3844 1172 3481 \r\nz\r\n\" id=\"DejaVuSans-38\" transform=\"scale(0.015625)\"/>\r\n       </defs>\r\n       <use xlink:href=\"#DejaVuSans-30\"/>\r\n       <use x=\"63.623047\" xlink:href=\"#DejaVuSans-2e\"/>\r\n       <use x=\"95.410156\" xlink:href=\"#DejaVuSans-38\"/>\r\n      </g>\r\n     </g>\r\n    </g>\r\n    <g id=\"xtick_6\">\r\n     <g id=\"line2d_6\">\r\n      <g>\r\n       <use style=\"stroke:#000000;stroke-width:0.8;\" x=\"494.370631\" xlink:href=\"#m23d1d9edde\" y=\"224.64\"/>\r\n      </g>\r\n     </g>\r\n     <g id=\"text_6\">\r\n      <!-- 1.0 -->\r\n      <g transform=\"translate(486.419069 239.238437)scale(0.1 -0.1)\">\r\n       <defs>\r\n        <path d=\"M 794 531 \r\nL 1825 531 \r\nL 1825 4091 \r\nL 703 3866 \r\nL 703 4441 \r\nL 1819 4666 \r\nL 2450 4666 \r\nL 2450 531 \r\nL 3481 531 \r\nL 3481 0 \r\nL 794 0 \r\nL 794 531 \r\nz\r\n\" id=\"DejaVuSans-31\" transform=\"scale(0.015625)\"/>\r\n       </defs>\r\n       <use xlink:href=\"#DejaVuSans-31\"/>\r\n       <use x=\"63.623047\" xlink:href=\"#DejaVuSans-2e\"/>\r\n       <use x=\"95.410156\" xlink:href=\"#DejaVuSans-30\"/>\r\n      </g>\r\n     </g>\r\n    </g>\r\n    <g id=\"xtick_7\">\r\n     <g id=\"line2d_7\">\r\n      <g>\r\n       <use style=\"stroke:#000000;stroke-width:0.8;\" x=\"545.321945\" xlink:href=\"#m23d1d9edde\" y=\"224.64\"/>\r\n      </g>\r\n     </g>\r\n     <g id=\"text_7\">\r\n      <!-- 1.2 -->\r\n      <g transform=\"translate(537.370383 239.238437)scale(0.1 -0.1)\">\r\n       <use xlink:href=\"#DejaVuSans-31\"/>\r\n       <use x=\"63.623047\" xlink:href=\"#DejaVuSans-2e\"/>\r\n       <use x=\"95.410156\" xlink:href=\"#DejaVuSans-32\"/>\r\n      </g>\r\n     </g>\r\n    </g>\r\n    <g id=\"text_8\">\r\n     <!-- 1e6 -->\r\n     <g transform=\"translate(555.535938 251.916562)scale(0.1 -0.1)\">\r\n      <defs>\r\n       <path d=\"M 3597 1894 \r\nL 3597 1613 \r\nL 953 1613 \r\nQ 991 1019 1311 708 \r\nQ 1631 397 2203 397 \r\nQ 2534 397 2845 478 \r\nQ 3156 559 3463 722 \r\nL 3463 178 \r\nQ 3153 47 2828 -22 \r\nQ 2503 -91 2169 -91 \r\nQ 1331 -91 842 396 \r\nQ 353 884 353 1716 \r\nQ 353 2575 817 3079 \r\nQ 1281 3584 2069 3584 \r\nQ 2775 3584 3186 3129 \r\nQ 3597 2675 3597 1894 \r\nz\r\nM 3022 2063 \r\nQ 3016 2534 2758 2815 \r\nQ 2500 3097 2075 3097 \r\nQ 1594 3097 1305 2825 \r\nQ 1016 2553 972 2059 \r\nL 3022 2063 \r\nz\r\n\" id=\"DejaVuSans-65\" transform=\"scale(0.015625)\"/>\r\n      </defs>\r\n      <use xlink:href=\"#DejaVuSans-31\"/>\r\n      <use x=\"63.623047\" xlink:href=\"#DejaVuSans-65\"/>\r\n      <use x=\"125.146484\" xlink:href=\"#DejaVuSans-36\"/>\r\n     </g>\r\n    </g>\r\n   </g>\r\n   <g id=\"matplotlib.axis_2\">\r\n    <g id=\"ytick_1\">\r\n     <g id=\"line2d_8\">\r\n      <defs>\r\n       <path d=\"M 0 0 \r\nL -3.5 0 \r\n\" id=\"mb428af0119\" style=\"stroke:#000000;stroke-width:0.8;\"/>\r\n      </defs>\r\n      <g>\r\n       <use style=\"stroke:#000000;stroke-width:0.8;\" x=\"239.614062\" xlink:href=\"#mb428af0119\" y=\"217.392\"/>\r\n      </g>\r\n     </g>\r\n     <g id=\"text_9\">\r\n      <!-- Consumer credit -->\r\n      <g transform=\"translate(149.860937 221.191219)scale(0.1 -0.1)\">\r\n       <defs>\r\n        <path d=\"M 4122 4306 \r\nL 4122 3641 \r\nQ 3803 3938 3442 4084 \r\nQ 3081 4231 2675 4231 \r\nQ 1875 4231 1450 3742 \r\nQ 1025 3253 1025 2328 \r\nQ 1025 1406 1450 917 \r\nQ 1875 428 2675 428 \r\nQ 3081 428 3442 575 \r\nQ 3803 722 4122 1019 \r\nL 4122 359 \r\nQ 3791 134 3420 21 \r\nQ 3050 -91 2638 -91 \r\nQ 1578 -91 968 557 \r\nQ 359 1206 359 2328 \r\nQ 359 3453 968 4101 \r\nQ 1578 4750 2638 4750 \r\nQ 3056 4750 3426 4639 \r\nQ 3797 4528 4122 4306 \r\nz\r\n\" id=\"DejaVuSans-43\" transform=\"scale(0.015625)\"/>\r\n        <path d=\"M 1959 3097 \r\nQ 1497 3097 1228 2736 \r\nQ 959 2375 959 1747 \r\nQ 959 1119 1226 758 \r\nQ 1494 397 1959 397 \r\nQ 2419 397 2687 759 \r\nQ 2956 1122 2956 1747 \r\nQ 2956 2369 2687 2733 \r\nQ 2419 3097 1959 3097 \r\nz\r\nM 1959 3584 \r\nQ 2709 3584 3137 3096 \r\nQ 3566 2609 3566 1747 \r\nQ 3566 888 3137 398 \r\nQ 2709 -91 1959 -91 \r\nQ 1206 -91 779 398 \r\nQ 353 888 353 1747 \r\nQ 353 2609 779 3096 \r\nQ 1206 3584 1959 3584 \r\nz\r\n\" id=\"DejaVuSans-6f\" transform=\"scale(0.015625)\"/>\r\n        <path d=\"M 3513 2113 \r\nL 3513 0 \r\nL 2938 0 \r\nL 2938 2094 \r\nQ 2938 2591 2744 2837 \r\nQ 2550 3084 2163 3084 \r\nQ 1697 3084 1428 2787 \r\nQ 1159 2491 1159 1978 \r\nL 1159 0 \r\nL 581 0 \r\nL 581 3500 \r\nL 1159 3500 \r\nL 1159 2956 \r\nQ 1366 3272 1645 3428 \r\nQ 1925 3584 2291 3584 \r\nQ 2894 3584 3203 3211 \r\nQ 3513 2838 3513 2113 \r\nz\r\n\" id=\"DejaVuSans-6e\" transform=\"scale(0.015625)\"/>\r\n        <path d=\"M 2834 3397 \r\nL 2834 2853 \r\nQ 2591 2978 2328 3040 \r\nQ 2066 3103 1784 3103 \r\nQ 1356 3103 1142 2972 \r\nQ 928 2841 928 2578 \r\nQ 928 2378 1081 2264 \r\nQ 1234 2150 1697 2047 \r\nL 1894 2003 \r\nQ 2506 1872 2764 1633 \r\nQ 3022 1394 3022 966 \r\nQ 3022 478 2636 193 \r\nQ 2250 -91 1575 -91 \r\nQ 1294 -91 989 -36 \r\nQ 684 19 347 128 \r\nL 347 722 \r\nQ 666 556 975 473 \r\nQ 1284 391 1588 391 \r\nQ 1994 391 2212 530 \r\nQ 2431 669 2431 922 \r\nQ 2431 1156 2273 1281 \r\nQ 2116 1406 1581 1522 \r\nL 1381 1569 \r\nQ 847 1681 609 1914 \r\nQ 372 2147 372 2553 \r\nQ 372 3047 722 3315 \r\nQ 1072 3584 1716 3584 \r\nQ 2034 3584 2315 3537 \r\nQ 2597 3491 2834 3397 \r\nz\r\n\" id=\"DejaVuSans-73\" transform=\"scale(0.015625)\"/>\r\n        <path d=\"M 544 1381 \r\nL 544 3500 \r\nL 1119 3500 \r\nL 1119 1403 \r\nQ 1119 906 1312 657 \r\nQ 1506 409 1894 409 \r\nQ 2359 409 2629 706 \r\nQ 2900 1003 2900 1516 \r\nL 2900 3500 \r\nL 3475 3500 \r\nL 3475 0 \r\nL 2900 0 \r\nL 2900 538 \r\nQ 2691 219 2414 64 \r\nQ 2138 -91 1772 -91 \r\nQ 1169 -91 856 284 \r\nQ 544 659 544 1381 \r\nz\r\nM 1991 3584 \r\nL 1991 3584 \r\nz\r\n\" id=\"DejaVuSans-75\" transform=\"scale(0.015625)\"/>\r\n        <path d=\"M 3328 2828 \r\nQ 3544 3216 3844 3400 \r\nQ 4144 3584 4550 3584 \r\nQ 5097 3584 5394 3201 \r\nQ 5691 2819 5691 2113 \r\nL 5691 0 \r\nL 5113 0 \r\nL 5113 2094 \r\nQ 5113 2597 4934 2840 \r\nQ 4756 3084 4391 3084 \r\nQ 3944 3084 3684 2787 \r\nQ 3425 2491 3425 1978 \r\nL 3425 0 \r\nL 2847 0 \r\nL 2847 2094 \r\nQ 2847 2600 2669 2842 \r\nQ 2491 3084 2119 3084 \r\nQ 1678 3084 1418 2786 \r\nQ 1159 2488 1159 1978 \r\nL 1159 0 \r\nL 581 0 \r\nL 581 3500 \r\nL 1159 3500 \r\nL 1159 2956 \r\nQ 1356 3278 1631 3431 \r\nQ 1906 3584 2284 3584 \r\nQ 2666 3584 2933 3390 \r\nQ 3200 3197 3328 2828 \r\nz\r\n\" id=\"DejaVuSans-6d\" transform=\"scale(0.015625)\"/>\r\n        <path d=\"M 2631 2963 \r\nQ 2534 3019 2420 3045 \r\nQ 2306 3072 2169 3072 \r\nQ 1681 3072 1420 2755 \r\nQ 1159 2438 1159 1844 \r\nL 1159 0 \r\nL 581 0 \r\nL 581 3500 \r\nL 1159 3500 \r\nL 1159 2956 \r\nQ 1341 3275 1631 3429 \r\nQ 1922 3584 2338 3584 \r\nQ 2397 3584 2469 3576 \r\nQ 2541 3569 2628 3553 \r\nL 2631 2963 \r\nz\r\n\" id=\"DejaVuSans-72\" transform=\"scale(0.015625)\"/>\r\n        <path id=\"DejaVuSans-20\" transform=\"scale(0.015625)\"/>\r\n        <path d=\"M 3122 3366 \r\nL 3122 2828 \r\nQ 2878 2963 2633 3030 \r\nQ 2388 3097 2138 3097 \r\nQ 1578 3097 1268 2742 \r\nQ 959 2388 959 1747 \r\nQ 959 1106 1268 751 \r\nQ 1578 397 2138 397 \r\nQ 2388 397 2633 464 \r\nQ 2878 531 3122 666 \r\nL 3122 134 \r\nQ 2881 22 2623 -34 \r\nQ 2366 -91 2075 -91 \r\nQ 1284 -91 818 406 \r\nQ 353 903 353 1747 \r\nQ 353 2603 823 3093 \r\nQ 1294 3584 2113 3584 \r\nQ 2378 3584 2631 3529 \r\nQ 2884 3475 3122 3366 \r\nz\r\n\" id=\"DejaVuSans-63\" transform=\"scale(0.015625)\"/>\r\n        <path d=\"M 2906 2969 \r\nL 2906 4863 \r\nL 3481 4863 \r\nL 3481 0 \r\nL 2906 0 \r\nL 2906 525 \r\nQ 2725 213 2448 61 \r\nQ 2172 -91 1784 -91 \r\nQ 1150 -91 751 415 \r\nQ 353 922 353 1747 \r\nQ 353 2572 751 3078 \r\nQ 1150 3584 1784 3584 \r\nQ 2172 3584 2448 3432 \r\nQ 2725 3281 2906 2969 \r\nz\r\nM 947 1747 \r\nQ 947 1113 1208 752 \r\nQ 1469 391 1925 391 \r\nQ 2381 391 2643 752 \r\nQ 2906 1113 2906 1747 \r\nQ 2906 2381 2643 2742 \r\nQ 2381 3103 1925 3103 \r\nQ 1469 3103 1208 2742 \r\nQ 947 2381 947 1747 \r\nz\r\n\" id=\"DejaVuSans-64\" transform=\"scale(0.015625)\"/>\r\n        <path d=\"M 603 3500 \r\nL 1178 3500 \r\nL 1178 0 \r\nL 603 0 \r\nL 603 3500 \r\nz\r\nM 603 4863 \r\nL 1178 4863 \r\nL 1178 4134 \r\nL 603 4134 \r\nL 603 4863 \r\nz\r\n\" id=\"DejaVuSans-69\" transform=\"scale(0.015625)\"/>\r\n        <path d=\"M 1172 4494 \r\nL 1172 3500 \r\nL 2356 3500 \r\nL 2356 3053 \r\nL 1172 3053 \r\nL 1172 1153 \r\nQ 1172 725 1289 603 \r\nQ 1406 481 1766 481 \r\nL 2356 481 \r\nL 2356 0 \r\nL 1766 0 \r\nQ 1100 0 847 248 \r\nQ 594 497 594 1153 \r\nL 594 3053 \r\nL 172 3053 \r\nL 172 3500 \r\nL 594 3500 \r\nL 594 4494 \r\nL 1172 4494 \r\nz\r\n\" id=\"DejaVuSans-74\" transform=\"scale(0.015625)\"/>\r\n       </defs>\r\n       <use xlink:href=\"#DejaVuSans-43\"/>\r\n       <use x=\"69.824219\" xlink:href=\"#DejaVuSans-6f\"/>\r\n       <use x=\"131.005859\" xlink:href=\"#DejaVuSans-6e\"/>\r\n       <use x=\"194.384766\" xlink:href=\"#DejaVuSans-73\"/>\r\n       <use x=\"246.484375\" xlink:href=\"#DejaVuSans-75\"/>\r\n       <use x=\"309.863281\" xlink:href=\"#DejaVuSans-6d\"/>\r\n       <use x=\"407.275391\" xlink:href=\"#DejaVuSans-65\"/>\r\n       <use x=\"468.798828\" xlink:href=\"#DejaVuSans-72\"/>\r\n       <use x=\"509.912109\" xlink:href=\"#DejaVuSans-20\"/>\r\n       <use x=\"541.699219\" xlink:href=\"#DejaVuSans-63\"/>\r\n       <use x=\"596.679688\" xlink:href=\"#DejaVuSans-72\"/>\r\n       <use x=\"635.542969\" xlink:href=\"#DejaVuSans-65\"/>\r\n       <use x=\"697.066406\" xlink:href=\"#DejaVuSans-64\"/>\r\n       <use x=\"760.542969\" xlink:href=\"#DejaVuSans-69\"/>\r\n       <use x=\"788.326172\" xlink:href=\"#DejaVuSans-74\"/>\r\n      </g>\r\n     </g>\r\n    </g>\r\n    <g id=\"ytick_2\">\r\n     <g id=\"line2d_9\">\r\n      <g>\r\n       <use style=\"stroke:#000000;stroke-width:0.8;\" x=\"239.614062\" xlink:href=\"#mb428af0119\" y=\"202.896\"/>\r\n      </g>\r\n     </g>\r\n     <g id=\"text_10\">\r\n      <!-- Credit card -->\r\n      <g transform=\"translate(177.45625 206.695219)scale(0.1 -0.1)\">\r\n       <defs>\r\n        <path d=\"M 2194 1759 \r\nQ 1497 1759 1228 1600 \r\nQ 959 1441 959 1056 \r\nQ 959 750 1161 570 \r\nQ 1363 391 1709 391 \r\nQ 2188 391 2477 730 \r\nQ 2766 1069 2766 1631 \r\nL 2766 1759 \r\nL 2194 1759 \r\nz\r\nM 3341 1997 \r\nL 3341 0 \r\nL 2766 0 \r\nL 2766 531 \r\nQ 2569 213 2275 61 \r\nQ 1981 -91 1556 -91 \r\nQ 1019 -91 701 211 \r\nQ 384 513 384 1019 \r\nQ 384 1609 779 1909 \r\nQ 1175 2209 1959 2209 \r\nL 2766 2209 \r\nL 2766 2266 \r\nQ 2766 2663 2505 2880 \r\nQ 2244 3097 1772 3097 \r\nQ 1472 3097 1187 3025 \r\nQ 903 2953 641 2809 \r\nL 641 3341 \r\nQ 956 3463 1253 3523 \r\nQ 1550 3584 1831 3584 \r\nQ 2591 3584 2966 3190 \r\nQ 3341 2797 3341 1997 \r\nz\r\n\" id=\"DejaVuSans-61\" transform=\"scale(0.015625)\"/>\r\n       </defs>\r\n       <use xlink:href=\"#DejaVuSans-43\"/>\r\n       <use x=\"69.824219\" xlink:href=\"#DejaVuSans-72\"/>\r\n       <use x=\"108.6875\" xlink:href=\"#DejaVuSans-65\"/>\r\n       <use x=\"170.210938\" xlink:href=\"#DejaVuSans-64\"/>\r\n       <use x=\"233.6875\" xlink:href=\"#DejaVuSans-69\"/>\r\n       <use x=\"261.470703\" xlink:href=\"#DejaVuSans-74\"/>\r\n       <use x=\"300.679688\" xlink:href=\"#DejaVuSans-20\"/>\r\n       <use x=\"332.466797\" xlink:href=\"#DejaVuSans-63\"/>\r\n       <use x=\"387.447266\" xlink:href=\"#DejaVuSans-61\"/>\r\n       <use x=\"448.726562\" xlink:href=\"#DejaVuSans-72\"/>\r\n       <use x=\"488.089844\" xlink:href=\"#DejaVuSans-64\"/>\r\n      </g>\r\n     </g>\r\n    </g>\r\n    <g id=\"ytick_3\">\r\n     <g id=\"line2d_10\">\r\n      <g>\r\n       <use style=\"stroke:#000000;stroke-width:0.8;\" x=\"239.614062\" xlink:href=\"#mb428af0119\" y=\"188.4\"/>\r\n      </g>\r\n     </g>\r\n     <g id=\"text_11\">\r\n      <!-- Car loan -->\r\n      <g transform=\"translate(190.851562 192.199219)scale(0.1 -0.1)\">\r\n       <defs>\r\n        <path d=\"M 603 4863 \r\nL 1178 4863 \r\nL 1178 0 \r\nL 603 0 \r\nL 603 4863 \r\nz\r\n\" id=\"DejaVuSans-6c\" transform=\"scale(0.015625)\"/>\r\n       </defs>\r\n       <use xlink:href=\"#DejaVuSans-43\"/>\r\n       <use x=\"69.824219\" xlink:href=\"#DejaVuSans-61\"/>\r\n       <use x=\"131.103516\" xlink:href=\"#DejaVuSans-72\"/>\r\n       <use x=\"172.216797\" xlink:href=\"#DejaVuSans-20\"/>\r\n       <use x=\"204.003906\" xlink:href=\"#DejaVuSans-6c\"/>\r\n       <use x=\"231.787109\" xlink:href=\"#DejaVuSans-6f\"/>\r\n       <use x=\"292.96875\" xlink:href=\"#DejaVuSans-61\"/>\r\n       <use x=\"354.248047\" xlink:href=\"#DejaVuSans-6e\"/>\r\n      </g>\r\n     </g>\r\n    </g>\r\n    <g id=\"ytick_4\">\r\n     <g id=\"line2d_11\">\r\n      <g>\r\n       <use style=\"stroke:#000000;stroke-width:0.8;\" x=\"239.614062\" xlink:href=\"#mb428af0119\" y=\"173.904\"/>\r\n      </g>\r\n     </g>\r\n     <g id=\"text_12\">\r\n      <!-- Mortgage -->\r\n      <g transform=\"translate(184.857812 177.703219)scale(0.1 -0.1)\">\r\n       <defs>\r\n        <path d=\"M 628 4666 \r\nL 1569 4666 \r\nL 2759 1491 \r\nL 3956 4666 \r\nL 4897 4666 \r\nL 4897 0 \r\nL 4281 0 \r\nL 4281 4097 \r\nL 3078 897 \r\nL 2444 897 \r\nL 1241 4097 \r\nL 1241 0 \r\nL 628 0 \r\nL 628 4666 \r\nz\r\n\" id=\"DejaVuSans-4d\" transform=\"scale(0.015625)\"/>\r\n        <path d=\"M 2906 1791 \r\nQ 2906 2416 2648 2759 \r\nQ 2391 3103 1925 3103 \r\nQ 1463 3103 1205 2759 \r\nQ 947 2416 947 1791 \r\nQ 947 1169 1205 825 \r\nQ 1463 481 1925 481 \r\nQ 2391 481 2648 825 \r\nQ 2906 1169 2906 1791 \r\nz\r\nM 3481 434 \r\nQ 3481 -459 3084 -895 \r\nQ 2688 -1331 1869 -1331 \r\nQ 1566 -1331 1297 -1286 \r\nQ 1028 -1241 775 -1147 \r\nL 775 -588 \r\nQ 1028 -725 1275 -790 \r\nQ 1522 -856 1778 -856 \r\nQ 2344 -856 2625 -561 \r\nQ 2906 -266 2906 331 \r\nL 2906 616 \r\nQ 2728 306 2450 153 \r\nQ 2172 0 1784 0 \r\nQ 1141 0 747 490 \r\nQ 353 981 353 1791 \r\nQ 353 2603 747 3093 \r\nQ 1141 3584 1784 3584 \r\nQ 2172 3584 2450 3431 \r\nQ 2728 3278 2906 2969 \r\nL 2906 3500 \r\nL 3481 3500 \r\nL 3481 434 \r\nz\r\n\" id=\"DejaVuSans-67\" transform=\"scale(0.015625)\"/>\r\n       </defs>\r\n       <use xlink:href=\"#DejaVuSans-4d\"/>\r\n       <use x=\"86.279297\" xlink:href=\"#DejaVuSans-6f\"/>\r\n       <use x=\"147.460938\" xlink:href=\"#DejaVuSans-72\"/>\r\n       <use x=\"188.574219\" xlink:href=\"#DejaVuSans-74\"/>\r\n       <use x=\"227.783203\" xlink:href=\"#DejaVuSans-67\"/>\r\n       <use x=\"291.259766\" xlink:href=\"#DejaVuSans-61\"/>\r\n       <use x=\"352.539062\" xlink:href=\"#DejaVuSans-67\"/>\r\n       <use x=\"416.015625\" xlink:href=\"#DejaVuSans-65\"/>\r\n      </g>\r\n     </g>\r\n    </g>\r\n    <g id=\"ytick_5\">\r\n     <g id=\"line2d_12\">\r\n      <g>\r\n       <use style=\"stroke:#000000;stroke-width:0.8;\" x=\"239.614062\" xlink:href=\"#mb428af0119\" y=\"159.408\"/>\r\n      </g>\r\n     </g>\r\n     <g id=\"text_13\">\r\n      <!-- Microloan -->\r\n      <g transform=\"translate(184.342187 163.207219)scale(0.1 -0.1)\">\r\n       <use xlink:href=\"#DejaVuSans-4d\"/>\r\n       <use x=\"86.279297\" xlink:href=\"#DejaVuSans-69\"/>\r\n       <use x=\"114.0625\" xlink:href=\"#DejaVuSans-63\"/>\r\n       <use x=\"169.042969\" xlink:href=\"#DejaVuSans-72\"/>\r\n       <use x=\"207.90625\" xlink:href=\"#DejaVuSans-6f\"/>\r\n       <use x=\"269.087891\" xlink:href=\"#DejaVuSans-6c\"/>\r\n       <use x=\"296.871094\" xlink:href=\"#DejaVuSans-6f\"/>\r\n       <use x=\"358.052734\" xlink:href=\"#DejaVuSans-61\"/>\r\n       <use x=\"419.332031\" xlink:href=\"#DejaVuSans-6e\"/>\r\n      </g>\r\n     </g>\r\n    </g>\r\n    <g id=\"ytick_6\">\r\n     <g id=\"line2d_13\">\r\n      <g>\r\n       <use style=\"stroke:#000000;stroke-width:0.8;\" x=\"239.614062\" xlink:href=\"#mb428af0119\" y=\"144.912\"/>\r\n      </g>\r\n     </g>\r\n     <g id=\"text_14\">\r\n      <!-- Loan for business development -->\r\n      <g transform=\"translate(75.795312 148.711219)scale(0.1 -0.1)\">\r\n       <defs>\r\n        <path d=\"M 628 4666 \r\nL 1259 4666 \r\nL 1259 531 \r\nL 3531 531 \r\nL 3531 0 \r\nL 628 0 \r\nL 628 4666 \r\nz\r\n\" id=\"DejaVuSans-4c\" transform=\"scale(0.015625)\"/>\r\n        <path d=\"M 2375 4863 \r\nL 2375 4384 \r\nL 1825 4384 \r\nQ 1516 4384 1395 4259 \r\nQ 1275 4134 1275 3809 \r\nL 1275 3500 \r\nL 2222 3500 \r\nL 2222 3053 \r\nL 1275 3053 \r\nL 1275 0 \r\nL 697 0 \r\nL 697 3053 \r\nL 147 3053 \r\nL 147 3500 \r\nL 697 3500 \r\nL 697 3744 \r\nQ 697 4328 969 4595 \r\nQ 1241 4863 1831 4863 \r\nL 2375 4863 \r\nz\r\n\" id=\"DejaVuSans-66\" transform=\"scale(0.015625)\"/>\r\n        <path d=\"M 3116 1747 \r\nQ 3116 2381 2855 2742 \r\nQ 2594 3103 2138 3103 \r\nQ 1681 3103 1420 2742 \r\nQ 1159 2381 1159 1747 \r\nQ 1159 1113 1420 752 \r\nQ 1681 391 2138 391 \r\nQ 2594 391 2855 752 \r\nQ 3116 1113 3116 1747 \r\nz\r\nM 1159 2969 \r\nQ 1341 3281 1617 3432 \r\nQ 1894 3584 2278 3584 \r\nQ 2916 3584 3314 3078 \r\nQ 3713 2572 3713 1747 \r\nQ 3713 922 3314 415 \r\nQ 2916 -91 2278 -91 \r\nQ 1894 -91 1617 61 \r\nQ 1341 213 1159 525 \r\nL 1159 0 \r\nL 581 0 \r\nL 581 4863 \r\nL 1159 4863 \r\nL 1159 2969 \r\nz\r\n\" id=\"DejaVuSans-62\" transform=\"scale(0.015625)\"/>\r\n        <path d=\"M 191 3500 \r\nL 800 3500 \r\nL 1894 563 \r\nL 2988 3500 \r\nL 3597 3500 \r\nL 2284 0 \r\nL 1503 0 \r\nL 191 3500 \r\nz\r\n\" id=\"DejaVuSans-76\" transform=\"scale(0.015625)\"/>\r\n        <path d=\"M 1159 525 \r\nL 1159 -1331 \r\nL 581 -1331 \r\nL 581 3500 \r\nL 1159 3500 \r\nL 1159 2969 \r\nQ 1341 3281 1617 3432 \r\nQ 1894 3584 2278 3584 \r\nQ 2916 3584 3314 3078 \r\nQ 3713 2572 3713 1747 \r\nQ 3713 922 3314 415 \r\nQ 2916 -91 2278 -91 \r\nQ 1894 -91 1617 61 \r\nQ 1341 213 1159 525 \r\nz\r\nM 3116 1747 \r\nQ 3116 2381 2855 2742 \r\nQ 2594 3103 2138 3103 \r\nQ 1681 3103 1420 2742 \r\nQ 1159 2381 1159 1747 \r\nQ 1159 1113 1420 752 \r\nQ 1681 391 2138 391 \r\nQ 2594 391 2855 752 \r\nQ 3116 1113 3116 1747 \r\nz\r\n\" id=\"DejaVuSans-70\" transform=\"scale(0.015625)\"/>\r\n       </defs>\r\n       <use xlink:href=\"#DejaVuSans-4c\"/>\r\n       <use x=\"53.962891\" xlink:href=\"#DejaVuSans-6f\"/>\r\n       <use x=\"115.144531\" xlink:href=\"#DejaVuSans-61\"/>\r\n       <use x=\"176.423828\" xlink:href=\"#DejaVuSans-6e\"/>\r\n       <use x=\"239.802734\" xlink:href=\"#DejaVuSans-20\"/>\r\n       <use x=\"271.589844\" xlink:href=\"#DejaVuSans-66\"/>\r\n       <use x=\"306.794922\" xlink:href=\"#DejaVuSans-6f\"/>\r\n       <use x=\"367.976562\" xlink:href=\"#DejaVuSans-72\"/>\r\n       <use x=\"409.089844\" xlink:href=\"#DejaVuSans-20\"/>\r\n       <use x=\"440.876953\" xlink:href=\"#DejaVuSans-62\"/>\r\n       <use x=\"504.353516\" xlink:href=\"#DejaVuSans-75\"/>\r\n       <use x=\"567.732422\" xlink:href=\"#DejaVuSans-73\"/>\r\n       <use x=\"619.832031\" xlink:href=\"#DejaVuSans-69\"/>\r\n       <use x=\"647.615234\" xlink:href=\"#DejaVuSans-6e\"/>\r\n       <use x=\"710.994141\" xlink:href=\"#DejaVuSans-65\"/>\r\n       <use x=\"772.517578\" xlink:href=\"#DejaVuSans-73\"/>\r\n       <use x=\"824.617188\" xlink:href=\"#DejaVuSans-73\"/>\r\n       <use x=\"876.716797\" xlink:href=\"#DejaVuSans-20\"/>\r\n       <use x=\"908.503906\" xlink:href=\"#DejaVuSans-64\"/>\r\n       <use x=\"971.980469\" xlink:href=\"#DejaVuSans-65\"/>\r\n       <use x=\"1033.503906\" xlink:href=\"#DejaVuSans-76\"/>\r\n       <use x=\"1092.683594\" xlink:href=\"#DejaVuSans-65\"/>\r\n       <use x=\"1154.207031\" xlink:href=\"#DejaVuSans-6c\"/>\r\n       <use x=\"1181.990234\" xlink:href=\"#DejaVuSans-6f\"/>\r\n       <use x=\"1243.171875\" xlink:href=\"#DejaVuSans-70\"/>\r\n       <use x=\"1306.648438\" xlink:href=\"#DejaVuSans-6d\"/>\r\n       <use x=\"1404.060547\" xlink:href=\"#DejaVuSans-65\"/>\r\n       <use x=\"1465.583984\" xlink:href=\"#DejaVuSans-6e\"/>\r\n       <use x=\"1528.962891\" xlink:href=\"#DejaVuSans-74\"/>\r\n      </g>\r\n     </g>\r\n    </g>\r\n    <g id=\"ytick_7\">\r\n     <g id=\"line2d_14\">\r\n      <g>\r\n       <use style=\"stroke:#000000;stroke-width:0.8;\" x=\"239.614062\" xlink:href=\"#mb428af0119\" y=\"130.416\"/>\r\n      </g>\r\n     </g>\r\n     <g id=\"text_15\">\r\n      <!-- Another type of loan -->\r\n      <g transform=\"translate(129.91875 134.215219)scale(0.1 -0.1)\">\r\n       <defs>\r\n        <path d=\"M 2188 4044 \r\nL 1331 1722 \r\nL 3047 1722 \r\nL 2188 4044 \r\nz\r\nM 1831 4666 \r\nL 2547 4666 \r\nL 4325 0 \r\nL 3669 0 \r\nL 3244 1197 \r\nL 1141 1197 \r\nL 716 0 \r\nL 50 0 \r\nL 1831 4666 \r\nz\r\n\" id=\"DejaVuSans-41\" transform=\"scale(0.015625)\"/>\r\n        <path d=\"M 3513 2113 \r\nL 3513 0 \r\nL 2938 0 \r\nL 2938 2094 \r\nQ 2938 2591 2744 2837 \r\nQ 2550 3084 2163 3084 \r\nQ 1697 3084 1428 2787 \r\nQ 1159 2491 1159 1978 \r\nL 1159 0 \r\nL 581 0 \r\nL 581 4863 \r\nL 1159 4863 \r\nL 1159 2956 \r\nQ 1366 3272 1645 3428 \r\nQ 1925 3584 2291 3584 \r\nQ 2894 3584 3203 3211 \r\nQ 3513 2838 3513 2113 \r\nz\r\n\" id=\"DejaVuSans-68\" transform=\"scale(0.015625)\"/>\r\n        <path d=\"M 2059 -325 \r\nQ 1816 -950 1584 -1140 \r\nQ 1353 -1331 966 -1331 \r\nL 506 -1331 \r\nL 506 -850 \r\nL 844 -850 \r\nQ 1081 -850 1212 -737 \r\nQ 1344 -625 1503 -206 \r\nL 1606 56 \r\nL 191 3500 \r\nL 800 3500 \r\nL 1894 763 \r\nL 2988 3500 \r\nL 3597 3500 \r\nL 2059 -325 \r\nz\r\n\" id=\"DejaVuSans-79\" transform=\"scale(0.015625)\"/>\r\n       </defs>\r\n       <use xlink:href=\"#DejaVuSans-41\"/>\r\n       <use x=\"68.408203\" xlink:href=\"#DejaVuSans-6e\"/>\r\n       <use x=\"131.787109\" xlink:href=\"#DejaVuSans-6f\"/>\r\n       <use x=\"192.96875\" xlink:href=\"#DejaVuSans-74\"/>\r\n       <use x=\"232.177734\" xlink:href=\"#DejaVuSans-68\"/>\r\n       <use x=\"295.556641\" xlink:href=\"#DejaVuSans-65\"/>\r\n       <use x=\"357.080078\" xlink:href=\"#DejaVuSans-72\"/>\r\n       <use x=\"398.193359\" xlink:href=\"#DejaVuSans-20\"/>\r\n       <use x=\"429.980469\" xlink:href=\"#DejaVuSans-74\"/>\r\n       <use x=\"469.189453\" xlink:href=\"#DejaVuSans-79\"/>\r\n       <use x=\"528.369141\" xlink:href=\"#DejaVuSans-70\"/>\r\n       <use x=\"591.845703\" xlink:href=\"#DejaVuSans-65\"/>\r\n       <use x=\"653.369141\" xlink:href=\"#DejaVuSans-20\"/>\r\n       <use x=\"685.15625\" xlink:href=\"#DejaVuSans-6f\"/>\r\n       <use x=\"746.337891\" xlink:href=\"#DejaVuSans-66\"/>\r\n       <use x=\"781.542969\" xlink:href=\"#DejaVuSans-20\"/>\r\n       <use x=\"813.330078\" xlink:href=\"#DejaVuSans-6c\"/>\r\n       <use x=\"841.113281\" xlink:href=\"#DejaVuSans-6f\"/>\r\n       <use x=\"902.294922\" xlink:href=\"#DejaVuSans-61\"/>\r\n       <use x=\"963.574219\" xlink:href=\"#DejaVuSans-6e\"/>\r\n      </g>\r\n     </g>\r\n    </g>\r\n    <g id=\"ytick_8\">\r\n     <g id=\"line2d_15\">\r\n      <g>\r\n       <use style=\"stroke:#000000;stroke-width:0.8;\" x=\"239.614062\" xlink:href=\"#mb428af0119\" y=\"115.92\"/>\r\n      </g>\r\n     </g>\r\n     <g id=\"text_16\">\r\n      <!-- Unknown type of loan -->\r\n      <g transform=\"translate(123.31875 119.719219)scale(0.1 -0.1)\">\r\n       <defs>\r\n        <path d=\"M 556 4666 \r\nL 1191 4666 \r\nL 1191 1831 \r\nQ 1191 1081 1462 751 \r\nQ 1734 422 2344 422 \r\nQ 2950 422 3222 751 \r\nQ 3494 1081 3494 1831 \r\nL 3494 4666 \r\nL 4128 4666 \r\nL 4128 1753 \r\nQ 4128 841 3676 375 \r\nQ 3225 -91 2344 -91 \r\nQ 1459 -91 1007 375 \r\nQ 556 841 556 1753 \r\nL 556 4666 \r\nz\r\n\" id=\"DejaVuSans-55\" transform=\"scale(0.015625)\"/>\r\n        <path d=\"M 581 4863 \r\nL 1159 4863 \r\nL 1159 1991 \r\nL 2875 3500 \r\nL 3609 3500 \r\nL 1753 1863 \r\nL 3688 0 \r\nL 2938 0 \r\nL 1159 1709 \r\nL 1159 0 \r\nL 581 0 \r\nL 581 4863 \r\nz\r\n\" id=\"DejaVuSans-6b\" transform=\"scale(0.015625)\"/>\r\n        <path d=\"M 269 3500 \r\nL 844 3500 \r\nL 1563 769 \r\nL 2278 3500 \r\nL 2956 3500 \r\nL 3675 769 \r\nL 4391 3500 \r\nL 4966 3500 \r\nL 4050 0 \r\nL 3372 0 \r\nL 2619 2869 \r\nL 1863 0 \r\nL 1184 0 \r\nL 269 3500 \r\nz\r\n\" id=\"DejaVuSans-77\" transform=\"scale(0.015625)\"/>\r\n       </defs>\r\n       <use xlink:href=\"#DejaVuSans-55\"/>\r\n       <use x=\"73.193359\" xlink:href=\"#DejaVuSans-6e\"/>\r\n       <use x=\"136.572266\" xlink:href=\"#DejaVuSans-6b\"/>\r\n       <use x=\"194.482422\" xlink:href=\"#DejaVuSans-6e\"/>\r\n       <use x=\"257.861328\" xlink:href=\"#DejaVuSans-6f\"/>\r\n       <use x=\"319.042969\" xlink:href=\"#DejaVuSans-77\"/>\r\n       <use x=\"400.830078\" xlink:href=\"#DejaVuSans-6e\"/>\r\n       <use x=\"464.208984\" xlink:href=\"#DejaVuSans-20\"/>\r\n       <use x=\"495.996094\" xlink:href=\"#DejaVuSans-74\"/>\r\n       <use x=\"535.205078\" xlink:href=\"#DejaVuSans-79\"/>\r\n       <use x=\"594.384766\" xlink:href=\"#DejaVuSans-70\"/>\r\n       <use x=\"657.861328\" xlink:href=\"#DejaVuSans-65\"/>\r\n       <use x=\"719.384766\" xlink:href=\"#DejaVuSans-20\"/>\r\n       <use x=\"751.171875\" xlink:href=\"#DejaVuSans-6f\"/>\r\n       <use x=\"812.353516\" xlink:href=\"#DejaVuSans-66\"/>\r\n       <use x=\"847.558594\" xlink:href=\"#DejaVuSans-20\"/>\r\n       <use x=\"879.345703\" xlink:href=\"#DejaVuSans-6c\"/>\r\n       <use x=\"907.128906\" xlink:href=\"#DejaVuSans-6f\"/>\r\n       <use x=\"968.310547\" xlink:href=\"#DejaVuSans-61\"/>\r\n       <use x=\"1029.589844\" xlink:href=\"#DejaVuSans-6e\"/>\r\n      </g>\r\n     </g>\r\n    </g>\r\n    <g id=\"ytick_9\">\r\n     <g id=\"line2d_16\">\r\n      <g>\r\n       <use style=\"stroke:#000000;stroke-width:0.8;\" x=\"239.614062\" xlink:href=\"#mb428af0119\" y=\"101.424\"/>\r\n      </g>\r\n     </g>\r\n     <g id=\"text_17\">\r\n      <!-- Loan for working capital replenishment -->\r\n      <g transform=\"translate(36.795312 105.223219)scale(0.1 -0.1)\">\r\n       <use xlink:href=\"#DejaVuSans-4c\"/>\r\n       <use x=\"53.962891\" xlink:href=\"#DejaVuSans-6f\"/>\r\n       <use x=\"115.144531\" xlink:href=\"#DejaVuSans-61\"/>\r\n       <use x=\"176.423828\" xlink:href=\"#DejaVuSans-6e\"/>\r\n       <use x=\"239.802734\" xlink:href=\"#DejaVuSans-20\"/>\r\n       <use x=\"271.589844\" xlink:href=\"#DejaVuSans-66\"/>\r\n       <use x=\"306.794922\" xlink:href=\"#DejaVuSans-6f\"/>\r\n       <use x=\"367.976562\" xlink:href=\"#DejaVuSans-72\"/>\r\n       <use x=\"409.089844\" xlink:href=\"#DejaVuSans-20\"/>\r\n       <use x=\"440.876953\" xlink:href=\"#DejaVuSans-77\"/>\r\n       <use x=\"522.664062\" xlink:href=\"#DejaVuSans-6f\"/>\r\n       <use x=\"583.845703\" xlink:href=\"#DejaVuSans-72\"/>\r\n       <use x=\"624.958984\" xlink:href=\"#DejaVuSans-6b\"/>\r\n       <use x=\"682.869141\" xlink:href=\"#DejaVuSans-69\"/>\r\n       <use x=\"710.652344\" xlink:href=\"#DejaVuSans-6e\"/>\r\n       <use x=\"774.03125\" xlink:href=\"#DejaVuSans-67\"/>\r\n       <use x=\"837.507812\" xlink:href=\"#DejaVuSans-20\"/>\r\n       <use x=\"869.294922\" xlink:href=\"#DejaVuSans-63\"/>\r\n       <use x=\"924.275391\" xlink:href=\"#DejaVuSans-61\"/>\r\n       <use x=\"985.554688\" xlink:href=\"#DejaVuSans-70\"/>\r\n       <use x=\"1049.03125\" xlink:href=\"#DejaVuSans-69\"/>\r\n       <use x=\"1076.814453\" xlink:href=\"#DejaVuSans-74\"/>\r\n       <use x=\"1116.023438\" xlink:href=\"#DejaVuSans-61\"/>\r\n       <use x=\"1177.302734\" xlink:href=\"#DejaVuSans-6c\"/>\r\n       <use x=\"1205.085938\" xlink:href=\"#DejaVuSans-20\"/>\r\n       <use x=\"1236.873047\" xlink:href=\"#DejaVuSans-72\"/>\r\n       <use x=\"1275.736328\" xlink:href=\"#DejaVuSans-65\"/>\r\n       <use x=\"1337.259766\" xlink:href=\"#DejaVuSans-70\"/>\r\n       <use x=\"1400.736328\" xlink:href=\"#DejaVuSans-6c\"/>\r\n       <use x=\"1428.519531\" xlink:href=\"#DejaVuSans-65\"/>\r\n       <use x=\"1490.042969\" xlink:href=\"#DejaVuSans-6e\"/>\r\n       <use x=\"1553.421875\" xlink:href=\"#DejaVuSans-69\"/>\r\n       <use x=\"1581.205078\" xlink:href=\"#DejaVuSans-73\"/>\r\n       <use x=\"1633.304688\" xlink:href=\"#DejaVuSans-68\"/>\r\n       <use x=\"1696.683594\" xlink:href=\"#DejaVuSans-6d\"/>\r\n       <use x=\"1794.095703\" xlink:href=\"#DejaVuSans-65\"/>\r\n       <use x=\"1855.619141\" xlink:href=\"#DejaVuSans-6e\"/>\r\n       <use x=\"1918.998047\" xlink:href=\"#DejaVuSans-74\"/>\r\n      </g>\r\n     </g>\r\n    </g>\r\n    <g id=\"ytick_10\">\r\n     <g id=\"line2d_17\">\r\n      <g>\r\n       <use style=\"stroke:#000000;stroke-width:0.8;\" x=\"239.614062\" xlink:href=\"#mb428af0119\" y=\"86.928\"/>\r\n      </g>\r\n     </g>\r\n     <g id=\"text_18\">\r\n      <!-- Cash loan (non-earmarked) -->\r\n      <g transform=\"translate(95.90625 90.727219)scale(0.1 -0.1)\">\r\n       <defs>\r\n        <path d=\"M 1984 4856 \r\nQ 1566 4138 1362 3434 \r\nQ 1159 2731 1159 2009 \r\nQ 1159 1288 1364 580 \r\nQ 1569 -128 1984 -844 \r\nL 1484 -844 \r\nQ 1016 -109 783 600 \r\nQ 550 1309 550 2009 \r\nQ 550 2706 781 3412 \r\nQ 1013 4119 1484 4856 \r\nL 1984 4856 \r\nz\r\n\" id=\"DejaVuSans-28\" transform=\"scale(0.015625)\"/>\r\n        <path d=\"M 313 2009 \r\nL 1997 2009 \r\nL 1997 1497 \r\nL 313 1497 \r\nL 313 2009 \r\nz\r\n\" id=\"DejaVuSans-2d\" transform=\"scale(0.015625)\"/>\r\n        <path d=\"M 513 4856 \r\nL 1013 4856 \r\nQ 1481 4119 1714 3412 \r\nQ 1947 2706 1947 2009 \r\nQ 1947 1309 1714 600 \r\nQ 1481 -109 1013 -844 \r\nL 513 -844 \r\nQ 928 -128 1133 580 \r\nQ 1338 1288 1338 2009 \r\nQ 1338 2731 1133 3434 \r\nQ 928 4138 513 4856 \r\nz\r\n\" id=\"DejaVuSans-29\" transform=\"scale(0.015625)\"/>\r\n       </defs>\r\n       <use xlink:href=\"#DejaVuSans-43\"/>\r\n       <use x=\"69.824219\" xlink:href=\"#DejaVuSans-61\"/>\r\n       <use x=\"131.103516\" xlink:href=\"#DejaVuSans-73\"/>\r\n       <use x=\"183.203125\" xlink:href=\"#DejaVuSans-68\"/>\r\n       <use x=\"246.582031\" xlink:href=\"#DejaVuSans-20\"/>\r\n       <use x=\"278.369141\" xlink:href=\"#DejaVuSans-6c\"/>\r\n       <use x=\"306.152344\" xlink:href=\"#DejaVuSans-6f\"/>\r\n       <use x=\"367.333984\" xlink:href=\"#DejaVuSans-61\"/>\r\n       <use x=\"428.613281\" xlink:href=\"#DejaVuSans-6e\"/>\r\n       <use x=\"491.992188\" xlink:href=\"#DejaVuSans-20\"/>\r\n       <use x=\"523.779297\" xlink:href=\"#DejaVuSans-28\"/>\r\n       <use x=\"562.792969\" xlink:href=\"#DejaVuSans-6e\"/>\r\n       <use x=\"626.171875\" xlink:href=\"#DejaVuSans-6f\"/>\r\n       <use x=\"687.353516\" xlink:href=\"#DejaVuSans-6e\"/>\r\n       <use x=\"750.732422\" xlink:href=\"#DejaVuSans-2d\"/>\r\n       <use x=\"786.816406\" xlink:href=\"#DejaVuSans-65\"/>\r\n       <use x=\"848.339844\" xlink:href=\"#DejaVuSans-61\"/>\r\n       <use x=\"909.619141\" xlink:href=\"#DejaVuSans-72\"/>\r\n       <use x=\"948.982422\" xlink:href=\"#DejaVuSans-6d\"/>\r\n       <use x=\"1046.394531\" xlink:href=\"#DejaVuSans-61\"/>\r\n       <use x=\"1107.673828\" xlink:href=\"#DejaVuSans-72\"/>\r\n       <use x=\"1148.787109\" xlink:href=\"#DejaVuSans-6b\"/>\r\n       <use x=\"1203.072266\" xlink:href=\"#DejaVuSans-65\"/>\r\n       <use x=\"1264.595703\" xlink:href=\"#DejaVuSans-64\"/>\r\n       <use x=\"1328.072266\" xlink:href=\"#DejaVuSans-29\"/>\r\n      </g>\r\n     </g>\r\n    </g>\r\n    <g id=\"ytick_11\">\r\n     <g id=\"line2d_18\">\r\n      <g>\r\n       <use style=\"stroke:#000000;stroke-width:0.8;\" x=\"239.614062\" xlink:href=\"#mb428af0119\" y=\"72.432\"/>\r\n      </g>\r\n     </g>\r\n     <g id=\"text_19\">\r\n      <!-- Real estate loan -->\r\n      <g transform=\"translate(151.853125 76.231219)scale(0.1 -0.1)\">\r\n       <defs>\r\n        <path d=\"M 2841 2188 \r\nQ 3044 2119 3236 1894 \r\nQ 3428 1669 3622 1275 \r\nL 4263 0 \r\nL 3584 0 \r\nL 2988 1197 \r\nQ 2756 1666 2539 1819 \r\nQ 2322 1972 1947 1972 \r\nL 1259 1972 \r\nL 1259 0 \r\nL 628 0 \r\nL 628 4666 \r\nL 2053 4666 \r\nQ 2853 4666 3247 4331 \r\nQ 3641 3997 3641 3322 \r\nQ 3641 2881 3436 2590 \r\nQ 3231 2300 2841 2188 \r\nz\r\nM 1259 4147 \r\nL 1259 2491 \r\nL 2053 2491 \r\nQ 2509 2491 2742 2702 \r\nQ 2975 2913 2975 3322 \r\nQ 2975 3731 2742 3939 \r\nQ 2509 4147 2053 4147 \r\nL 1259 4147 \r\nz\r\n\" id=\"DejaVuSans-52\" transform=\"scale(0.015625)\"/>\r\n       </defs>\r\n       <use xlink:href=\"#DejaVuSans-52\"/>\r\n       <use x=\"64.982422\" xlink:href=\"#DejaVuSans-65\"/>\r\n       <use x=\"126.505859\" xlink:href=\"#DejaVuSans-61\"/>\r\n       <use x=\"187.785156\" xlink:href=\"#DejaVuSans-6c\"/>\r\n       <use x=\"215.568359\" xlink:href=\"#DejaVuSans-20\"/>\r\n       <use x=\"247.355469\" xlink:href=\"#DejaVuSans-65\"/>\r\n       <use x=\"308.878906\" xlink:href=\"#DejaVuSans-73\"/>\r\n       <use x=\"360.978516\" xlink:href=\"#DejaVuSans-74\"/>\r\n       <use x=\"400.1875\" xlink:href=\"#DejaVuSans-61\"/>\r\n       <use x=\"461.466797\" xlink:href=\"#DejaVuSans-74\"/>\r\n       <use x=\"500.675781\" xlink:href=\"#DejaVuSans-65\"/>\r\n       <use x=\"562.199219\" xlink:href=\"#DejaVuSans-20\"/>\r\n       <use x=\"593.986328\" xlink:href=\"#DejaVuSans-6c\"/>\r\n       <use x=\"621.769531\" xlink:href=\"#DejaVuSans-6f\"/>\r\n       <use x=\"682.951172\" xlink:href=\"#DejaVuSans-61\"/>\r\n       <use x=\"744.230469\" xlink:href=\"#DejaVuSans-6e\"/>\r\n      </g>\r\n     </g>\r\n    </g>\r\n    <g id=\"ytick_12\">\r\n     <g id=\"line2d_19\">\r\n      <g>\r\n       <use style=\"stroke:#000000;stroke-width:0.8;\" x=\"239.614062\" xlink:href=\"#mb428af0119\" y=\"57.936\"/>\r\n      </g>\r\n     </g>\r\n     <g id=\"text_20\">\r\n      <!-- Loan for the purchase of equipment -->\r\n      <g transform=\"translate(52.926562 61.735219)scale(0.1 -0.1)\">\r\n       <defs>\r\n        <path d=\"M 947 1747 \r\nQ 947 1113 1208 752 \r\nQ 1469 391 1925 391 \r\nQ 2381 391 2643 752 \r\nQ 2906 1113 2906 1747 \r\nQ 2906 2381 2643 2742 \r\nQ 2381 3103 1925 3103 \r\nQ 1469 3103 1208 2742 \r\nQ 947 2381 947 1747 \r\nz\r\nM 2906 525 \r\nQ 2725 213 2448 61 \r\nQ 2172 -91 1784 -91 \r\nQ 1150 -91 751 415 \r\nQ 353 922 353 1747 \r\nQ 353 2572 751 3078 \r\nQ 1150 3584 1784 3584 \r\nQ 2172 3584 2448 3432 \r\nQ 2725 3281 2906 2969 \r\nL 2906 3500 \r\nL 3481 3500 \r\nL 3481 -1331 \r\nL 2906 -1331 \r\nL 2906 525 \r\nz\r\n\" id=\"DejaVuSans-71\" transform=\"scale(0.015625)\"/>\r\n       </defs>\r\n       <use xlink:href=\"#DejaVuSans-4c\"/>\r\n       <use x=\"53.962891\" xlink:href=\"#DejaVuSans-6f\"/>\r\n       <use x=\"115.144531\" xlink:href=\"#DejaVuSans-61\"/>\r\n       <use x=\"176.423828\" xlink:href=\"#DejaVuSans-6e\"/>\r\n       <use x=\"239.802734\" xlink:href=\"#DejaVuSans-20\"/>\r\n       <use x=\"271.589844\" xlink:href=\"#DejaVuSans-66\"/>\r\n       <use x=\"306.794922\" xlink:href=\"#DejaVuSans-6f\"/>\r\n       <use x=\"367.976562\" xlink:href=\"#DejaVuSans-72\"/>\r\n       <use x=\"409.089844\" xlink:href=\"#DejaVuSans-20\"/>\r\n       <use x=\"440.876953\" xlink:href=\"#DejaVuSans-74\"/>\r\n       <use x=\"480.085938\" xlink:href=\"#DejaVuSans-68\"/>\r\n       <use x=\"543.464844\" xlink:href=\"#DejaVuSans-65\"/>\r\n       <use x=\"604.988281\" xlink:href=\"#DejaVuSans-20\"/>\r\n       <use x=\"636.775391\" xlink:href=\"#DejaVuSans-70\"/>\r\n       <use x=\"700.251953\" xlink:href=\"#DejaVuSans-75\"/>\r\n       <use x=\"763.630859\" xlink:href=\"#DejaVuSans-72\"/>\r\n       <use x=\"802.494141\" xlink:href=\"#DejaVuSans-63\"/>\r\n       <use x=\"857.474609\" xlink:href=\"#DejaVuSans-68\"/>\r\n       <use x=\"920.853516\" xlink:href=\"#DejaVuSans-61\"/>\r\n       <use x=\"982.132812\" xlink:href=\"#DejaVuSans-73\"/>\r\n       <use x=\"1034.232422\" xlink:href=\"#DejaVuSans-65\"/>\r\n       <use x=\"1095.755859\" xlink:href=\"#DejaVuSans-20\"/>\r\n       <use x=\"1127.542969\" xlink:href=\"#DejaVuSans-6f\"/>\r\n       <use x=\"1188.724609\" xlink:href=\"#DejaVuSans-66\"/>\r\n       <use x=\"1223.929688\" xlink:href=\"#DejaVuSans-20\"/>\r\n       <use x=\"1255.716797\" xlink:href=\"#DejaVuSans-65\"/>\r\n       <use x=\"1317.240234\" xlink:href=\"#DejaVuSans-71\"/>\r\n       <use x=\"1380.716797\" xlink:href=\"#DejaVuSans-75\"/>\r\n       <use x=\"1444.095703\" xlink:href=\"#DejaVuSans-69\"/>\r\n       <use x=\"1471.878906\" xlink:href=\"#DejaVuSans-70\"/>\r\n       <use x=\"1535.355469\" xlink:href=\"#DejaVuSans-6d\"/>\r\n       <use x=\"1632.767578\" xlink:href=\"#DejaVuSans-65\"/>\r\n       <use x=\"1694.291016\" xlink:href=\"#DejaVuSans-6e\"/>\r\n       <use x=\"1757.669922\" xlink:href=\"#DejaVuSans-74\"/>\r\n      </g>\r\n     </g>\r\n    </g>\r\n    <g id=\"ytick_13\">\r\n     <g id=\"line2d_20\">\r\n      <g>\r\n       <use style=\"stroke:#000000;stroke-width:0.8;\" x=\"239.614062\" xlink:href=\"#mb428af0119\" y=\"43.44\"/>\r\n      </g>\r\n     </g>\r\n     <g id=\"text_21\">\r\n      <!-- Loan for purchase of shares (margin lending) -->\r\n      <g transform=\"translate(7.2 47.239219)scale(0.1 -0.1)\">\r\n       <use xlink:href=\"#DejaVuSans-4c\"/>\r\n       <use x=\"53.962891\" xlink:href=\"#DejaVuSans-6f\"/>\r\n       <use x=\"115.144531\" xlink:href=\"#DejaVuSans-61\"/>\r\n       <use x=\"176.423828\" xlink:href=\"#DejaVuSans-6e\"/>\r\n       <use x=\"239.802734\" xlink:href=\"#DejaVuSans-20\"/>\r\n       <use x=\"271.589844\" xlink:href=\"#DejaVuSans-66\"/>\r\n       <use x=\"306.794922\" xlink:href=\"#DejaVuSans-6f\"/>\r\n       <use x=\"367.976562\" xlink:href=\"#DejaVuSans-72\"/>\r\n       <use x=\"409.089844\" xlink:href=\"#DejaVuSans-20\"/>\r\n       <use x=\"440.876953\" xlink:href=\"#DejaVuSans-70\"/>\r\n       <use x=\"504.353516\" xlink:href=\"#DejaVuSans-75\"/>\r\n       <use x=\"567.732422\" xlink:href=\"#DejaVuSans-72\"/>\r\n       <use x=\"606.595703\" xlink:href=\"#DejaVuSans-63\"/>\r\n       <use x=\"661.576172\" xlink:href=\"#DejaVuSans-68\"/>\r\n       <use x=\"724.955078\" xlink:href=\"#DejaVuSans-61\"/>\r\n       <use x=\"786.234375\" xlink:href=\"#DejaVuSans-73\"/>\r\n       <use x=\"838.333984\" xlink:href=\"#DejaVuSans-65\"/>\r\n       <use x=\"899.857422\" xlink:href=\"#DejaVuSans-20\"/>\r\n       <use x=\"931.644531\" xlink:href=\"#DejaVuSans-6f\"/>\r\n       <use x=\"992.826172\" xlink:href=\"#DejaVuSans-66\"/>\r\n       <use x=\"1028.03125\" xlink:href=\"#DejaVuSans-20\"/>\r\n       <use x=\"1059.818359\" xlink:href=\"#DejaVuSans-73\"/>\r\n       <use x=\"1111.917969\" xlink:href=\"#DejaVuSans-68\"/>\r\n       <use x=\"1175.296875\" xlink:href=\"#DejaVuSans-61\"/>\r\n       <use x=\"1236.576172\" xlink:href=\"#DejaVuSans-72\"/>\r\n       <use x=\"1275.439453\" xlink:href=\"#DejaVuSans-65\"/>\r\n       <use x=\"1336.962891\" xlink:href=\"#DejaVuSans-73\"/>\r\n       <use x=\"1389.0625\" xlink:href=\"#DejaVuSans-20\"/>\r\n       <use x=\"1420.849609\" xlink:href=\"#DejaVuSans-28\"/>\r\n       <use x=\"1459.863281\" xlink:href=\"#DejaVuSans-6d\"/>\r\n       <use x=\"1557.275391\" xlink:href=\"#DejaVuSans-61\"/>\r\n       <use x=\"1618.554688\" xlink:href=\"#DejaVuSans-72\"/>\r\n       <use x=\"1657.917969\" xlink:href=\"#DejaVuSans-67\"/>\r\n       <use x=\"1721.394531\" xlink:href=\"#DejaVuSans-69\"/>\r\n       <use x=\"1749.177734\" xlink:href=\"#DejaVuSans-6e\"/>\r\n       <use x=\"1812.556641\" xlink:href=\"#DejaVuSans-20\"/>\r\n       <use x=\"1844.34375\" xlink:href=\"#DejaVuSans-6c\"/>\r\n       <use x=\"1872.126953\" xlink:href=\"#DejaVuSans-65\"/>\r\n       <use x=\"1933.650391\" xlink:href=\"#DejaVuSans-6e\"/>\r\n       <use x=\"1997.029297\" xlink:href=\"#DejaVuSans-64\"/>\r\n       <use x=\"2060.505859\" xlink:href=\"#DejaVuSans-69\"/>\r\n       <use x=\"2088.289062\" xlink:href=\"#DejaVuSans-6e\"/>\r\n       <use x=\"2151.667969\" xlink:href=\"#DejaVuSans-67\"/>\r\n       <use x=\"2215.144531\" xlink:href=\"#DejaVuSans-29\"/>\r\n      </g>\r\n     </g>\r\n    </g>\r\n    <g id=\"ytick_14\">\r\n     <g id=\"line2d_21\">\r\n      <g>\r\n       <use style=\"stroke:#000000;stroke-width:0.8;\" x=\"239.614062\" xlink:href=\"#mb428af0119\" y=\"28.944\"/>\r\n      </g>\r\n     </g>\r\n     <g id=\"text_22\">\r\n      <!-- Interbank credit -->\r\n      <g transform=\"translate(152.775 32.743219)scale(0.1 -0.1)\">\r\n       <defs>\r\n        <path d=\"M 628 4666 \r\nL 1259 4666 \r\nL 1259 0 \r\nL 628 0 \r\nL 628 4666 \r\nz\r\n\" id=\"DejaVuSans-49\" transform=\"scale(0.015625)\"/>\r\n       </defs>\r\n       <use xlink:href=\"#DejaVuSans-49\"/>\r\n       <use x=\"29.492188\" xlink:href=\"#DejaVuSans-6e\"/>\r\n       <use x=\"92.871094\" xlink:href=\"#DejaVuSans-74\"/>\r\n       <use x=\"132.080078\" xlink:href=\"#DejaVuSans-65\"/>\r\n       <use x=\"193.603516\" xlink:href=\"#DejaVuSans-72\"/>\r\n       <use x=\"234.716797\" xlink:href=\"#DejaVuSans-62\"/>\r\n       <use x=\"298.193359\" xlink:href=\"#DejaVuSans-61\"/>\r\n       <use x=\"359.472656\" xlink:href=\"#DejaVuSans-6e\"/>\r\n       <use x=\"422.851562\" xlink:href=\"#DejaVuSans-6b\"/>\r\n       <use x=\"480.761719\" xlink:href=\"#DejaVuSans-20\"/>\r\n       <use x=\"512.548828\" xlink:href=\"#DejaVuSans-63\"/>\r\n       <use x=\"567.529297\" xlink:href=\"#DejaVuSans-72\"/>\r\n       <use x=\"606.392578\" xlink:href=\"#DejaVuSans-65\"/>\r\n       <use x=\"667.916016\" xlink:href=\"#DejaVuSans-64\"/>\r\n       <use x=\"731.392578\" xlink:href=\"#DejaVuSans-69\"/>\r\n       <use x=\"759.175781\" xlink:href=\"#DejaVuSans-74\"/>\r\n      </g>\r\n     </g>\r\n    </g>\r\n    <g id=\"ytick_15\">\r\n     <g id=\"line2d_22\">\r\n      <g>\r\n       <use style=\"stroke:#000000;stroke-width:0.8;\" x=\"239.614062\" xlink:href=\"#mb428af0119\" y=\"14.448\"/>\r\n      </g>\r\n     </g>\r\n     <g id=\"text_23\">\r\n      <!-- Mobile operator loan -->\r\n      <g transform=\"translate(129.08125 18.247219)scale(0.1 -0.1)\">\r\n       <use xlink:href=\"#DejaVuSans-4d\"/>\r\n       <use x=\"86.279297\" xlink:href=\"#DejaVuSans-6f\"/>\r\n       <use x=\"147.460938\" xlink:href=\"#DejaVuSans-62\"/>\r\n       <use x=\"210.9375\" xlink:href=\"#DejaVuSans-69\"/>\r\n       <use x=\"238.720703\" xlink:href=\"#DejaVuSans-6c\"/>\r\n       <use x=\"266.503906\" xlink:href=\"#DejaVuSans-65\"/>\r\n       <use x=\"328.027344\" xlink:href=\"#DejaVuSans-20\"/>\r\n       <use x=\"359.814453\" xlink:href=\"#DejaVuSans-6f\"/>\r\n       <use x=\"420.996094\" xlink:href=\"#DejaVuSans-70\"/>\r\n       <use x=\"484.472656\" xlink:href=\"#DejaVuSans-65\"/>\r\n       <use x=\"545.996094\" xlink:href=\"#DejaVuSans-72\"/>\r\n       <use x=\"587.109375\" xlink:href=\"#DejaVuSans-61\"/>\r\n       <use x=\"648.388672\" xlink:href=\"#DejaVuSans-74\"/>\r\n       <use x=\"687.597656\" xlink:href=\"#DejaVuSans-6f\"/>\r\n       <use x=\"748.779297\" xlink:href=\"#DejaVuSans-72\"/>\r\n       <use x=\"789.892578\" xlink:href=\"#DejaVuSans-20\"/>\r\n       <use x=\"821.679688\" xlink:href=\"#DejaVuSans-6c\"/>\r\n       <use x=\"849.462891\" xlink:href=\"#DejaVuSans-6f\"/>\r\n       <use x=\"910.644531\" xlink:href=\"#DejaVuSans-61\"/>\r\n       <use x=\"971.923828\" xlink:href=\"#DejaVuSans-6e\"/>\r\n      </g>\r\n     </g>\r\n    </g>\r\n   </g>\r\n   <g id=\"patch_18\">\r\n    <path d=\"M 239.614062 224.64 \r\nL 239.614062 7.2 \r\n\" style=\"fill:none;stroke:#000000;stroke-linecap:square;stroke-linejoin:miter;stroke-width:0.8;\"/>\r\n   </g>\r\n   <g id=\"patch_19\">\r\n    <path d=\"M 574.414062 224.64 \r\nL 574.414062 7.2 \r\n\" style=\"fill:none;stroke:#000000;stroke-linecap:square;stroke-linejoin:miter;stroke-width:0.8;\"/>\r\n   </g>\r\n   <g id=\"patch_20\">\r\n    <path d=\"M 239.614062 224.64 \r\nL 574.414062 224.64 \r\n\" style=\"fill:none;stroke:#000000;stroke-linecap:square;stroke-linejoin:miter;stroke-width:0.8;\"/>\r\n   </g>\r\n   <g id=\"patch_21\">\r\n    <path d=\"M 239.614062 7.2 \r\nL 574.414062 7.2 \r\n\" style=\"fill:none;stroke:#000000;stroke-linecap:square;stroke-linejoin:miter;stroke-width:0.8;\"/>\r\n   </g>\r\n  </g>\r\n </g>\r\n <defs>\r\n  <clipPath id=\"p979dd07020\">\r\n   <rect height=\"217.44\" width=\"334.8\" x=\"239.614062\" y=\"7.2\"/>\r\n  </clipPath>\r\n </defs>\r\n</svg>\r\n",
      "image/png": "[encoded data removed]"
     },
     "metadata": {
      "needs_background": "light"
     }
    }
   ],
   "source": [
    "for i in cat_col:\n",
    "    print(\"-\"*100,\"\\n\",i)\n",
    "    bureau[i].value_counts().plot.barh()\n",
    "    plt.show()"
   ]
  },
  {
   "source": [
    "## 1.2 Add <CREDIT_ACTIVE> column\n",
    "- Lets create a table that counts the number of CREDIT_ACTIVE by SK_ID_CURR.\n",
    "- We can combined this table with others to create a final features table."
   ],
   "cell_type": "markdown",
   "metadata": {}
  },
  {
   "cell_type": "code",
   "execution_count": 11,
   "metadata": {},
   "outputs": [
    {
     "output_type": "execute_result",
     "data": {
      "text/plain": [
       "            ACTIVE  BAD_DEBT  CLOSED  SOLD\n",
       "SK_ID_CURR                                \n",
       "100001           3         0       4     0\n",
       "100002           2         0       6     0\n",
       "100003           1         0       3     0\n",
       "100004           0         0       2     0\n",
       "100005           2         0       1     0"
      ],
      "text/html": "<div>\n<style scoped>\n    .dataframe tbody tr th:only-of-type {\n        vertical-align: middle;\n    }\n\n    .dataframe tbody tr th {\n        vertical-align: top;\n    }\n\n    .dataframe thead th {\n        text-align: right;\n    }\n</style>\n<table border=\"1\" class=\"dataframe\">\n  <thead>\n    <tr style=\"text-align: right;\">\n      <th></th>\n      <th>ACTIVE</th>\n      <th>BAD_DEBT</th>\n      <th>CLOSED</th>\n      <th>SOLD</th>\n    </tr>\n    <tr>\n      <th>SK_ID_CURR</th>\n      <th></th>\n      <th></th>\n      <th></th>\n      <th></th>\n    </tr>\n  </thead>\n  <tbody>\n    <tr>\n      <th>100001</th>\n      <td>3</td>\n      <td>0</td>\n      <td>4</td>\n      <td>0</td>\n    </tr>\n    <tr>\n      <th>100002</th>\n      <td>2</td>\n      <td>0</td>\n      <td>6</td>\n      <td>0</td>\n    </tr>\n    <tr>\n      <th>100003</th>\n      <td>1</td>\n      <td>0</td>\n      <td>3</td>\n      <td>0</td>\n    </tr>\n    <tr>\n      <th>100004</th>\n      <td>0</td>\n      <td>0</td>\n      <td>2</td>\n      <td>0</td>\n    </tr>\n    <tr>\n      <th>100005</th>\n      <td>2</td>\n      <td>0</td>\n      <td>1</td>\n      <td>0</td>\n    </tr>\n  </tbody>\n</table>\n</div>"
     },
     "metadata": {},
     "execution_count": 11
    }
   ],
   "source": [
    "credit_active_table = pd.pivot_table(bureau,index =['SK_ID_CURR'], \n",
    "                     columns=['CREDIT_ACTIVE'],\n",
    "                     values=['DAYS_CREDIT'],aggfunc='count',fill_value=0)\n",
    "\n",
    "#let replace columns with no spaces and make upper case\n",
    "cols = [c.replace(' ','_').upper() for c in credit_active_table.columns.levels[1]]\n",
    "credit_active_table.columns = cols\n",
    "\n",
    "credit_active_table.head()"
   ]
  },
  {
   "cell_type": "code",
   "execution_count": 12,
   "metadata": {},
   "outputs": [],
   "source": [
    "def make_cat(feature,df):\n",
    "    \"\"\" Lets reduce the number of counts\n",
    "        by grouping them into bins of 5 and setting a ceiling value.\n",
    "    \"\"\" \n",
    "    df[feature]  = df[feature].apply(lambda x:int(x/5)+1) # grouping into bins of 5\n",
    "    column = df[feature].value_counts(normalize=True).reset_index() \n",
    "    df[feature] = np.clip(df[feature], 1, column[column[feature]>0.01]['index'].max()) #setting ceiling value"
   ]
  },
  {
   "cell_type": "code",
   "execution_count": 13,
   "metadata": {},
   "outputs": [
    {
     "output_type": "execute_result",
     "data": {
      "text/plain": [
       "ACTIVE\n",
       "1    276932\n",
       "2     28879\n",
       "dtype: int64"
      ]
     },
     "metadata": {},
     "execution_count": 13
    }
   ],
   "source": [
    "#lets 'ACTIVE' into a category in bins size 5\n",
    "make_cat('ACTIVE',credit_active_table)\n",
    "credit_active_table.groupby(['ACTIVE']) .size()"
   ]
  },
  {
   "cell_type": "code",
   "execution_count": 14,
   "metadata": {},
   "outputs": [
    {
     "output_type": "execute_result",
     "data": {
      "text/plain": [
       "CLOSED\n",
       "1    218588\n",
       "2     68564\n",
       "3     14621\n",
       "4      4038\n",
       "dtype: int64"
      ]
     },
     "metadata": {},
     "execution_count": 14
    }
   ],
   "source": [
    "#lets 'CLOSED' into a category in bins size 5\n",
    "make_cat('CLOSED',credit_active_table)\n",
    "credit_active_table.groupby(['CLOSED']) .size()"
   ]
  },
  {
   "cell_type": "code",
   "execution_count": 15,
   "metadata": {},
   "outputs": [
    {
     "output_type": "execute_result",
     "data": {
      "text/plain": [
       "ADVERSE\n",
       "1    299772\n",
       "2      6039\n",
       "dtype: int64"
      ]
     },
     "metadata": {},
     "execution_count": 15
    }
   ],
   "source": [
    "#lets combine 'BAD_DEBT' and 'SOLD' into one field called 'ADVERSE' since by themselves they are too unbalance.\n",
    "def adverse(x):\n",
    "    bad = x['BAD_DEBT'] > 0\n",
    "    sold = x['SOLD'] > 0\n",
    "    if bad or sold:\n",
    "        return 2\n",
    "    else:\n",
    "        return 1\n",
    "    \n",
    "credit_active_table['ADVERSE'] = credit_active_table.apply(adverse,axis=1).astype('int64')\n",
    "credit_active_table.groupby(['ADVERSE']) .size()"
   ]
  },
  {
   "cell_type": "code",
   "execution_count": 16,
   "metadata": {},
   "outputs": [],
   "source": [
    "#lets drop columns\n",
    "credit_active_table.drop(['BAD_DEBT', 'SOLD'], axis=1, inplace=True)"
   ]
  },
  {
   "cell_type": "code",
   "execution_count": 17,
   "metadata": {},
   "outputs": [
    {
     "output_type": "execute_result",
     "data": {
      "text/plain": [
       "   SK_ID_CURR  ACTIVE  CLOSED  ADVERSE\n",
       "0      100001       1       1        1\n",
       "1      100002       1       2        1\n",
       "2      100003       1       1        1\n",
       "3      100004       1       1        1\n",
       "4      100005       1       1        1"
      ],
      "text/html": "<div>\n<style scoped>\n    .dataframe tbody tr th:only-of-type {\n        vertical-align: middle;\n    }\n\n    .dataframe tbody tr th {\n        vertical-align: top;\n    }\n\n    .dataframe thead th {\n        text-align: right;\n    }\n</style>\n<table border=\"1\" class=\"dataframe\">\n  <thead>\n    <tr style=\"text-align: right;\">\n      <th></th>\n      <th>SK_ID_CURR</th>\n      <th>ACTIVE</th>\n      <th>CLOSED</th>\n      <th>ADVERSE</th>\n    </tr>\n  </thead>\n  <tbody>\n    <tr>\n      <th>0</th>\n      <td>100001</td>\n      <td>1</td>\n      <td>1</td>\n      <td>1</td>\n    </tr>\n    <tr>\n      <th>1</th>\n      <td>100002</td>\n      <td>1</td>\n      <td>2</td>\n      <td>1</td>\n    </tr>\n    <tr>\n      <th>2</th>\n      <td>100003</td>\n      <td>1</td>\n      <td>1</td>\n      <td>1</td>\n    </tr>\n    <tr>\n      <th>3</th>\n      <td>100004</td>\n      <td>1</td>\n      <td>1</td>\n      <td>1</td>\n    </tr>\n    <tr>\n      <th>4</th>\n      <td>100005</td>\n      <td>1</td>\n      <td>1</td>\n      <td>1</td>\n    </tr>\n  </tbody>\n</table>\n</div>"
     },
     "metadata": {},
     "execution_count": 17
    }
   ],
   "source": [
    "#resent index\n",
    "credit_active_table.reset_index(inplace=True)\n",
    "credit_active_table.head()"
   ]
  },
  {
   "source": [
    "## 1.3 Add Count Field\n",
    "Count the number of bureau records by loan id and then create a category count group of bin size 5."
   ],
   "cell_type": "markdown",
   "metadata": {}
  },
  {
   "cell_type": "code",
   "execution_count": 18,
   "metadata": {},
   "outputs": [
    {
     "output_type": "execute_result",
     "data": {
      "text/plain": [
       "COUNT_GROUP\n",
       "1     370880\n",
       "2     682749\n",
       "3     401642\n",
       "4     166453\n",
       "5      60091\n",
       "6      20791\n",
       "7       7337\n",
       "8       2976\n",
       "9       1241\n",
       "10       890\n",
       "11       519\n",
       "12       450\n",
       "13       121\n",
       "16        78\n",
       "19        94\n",
       "24       116\n",
       "dtype: int64"
      ]
     },
     "metadata": {},
     "execution_count": 18
    }
   ],
   "source": [
    "bureau['COUNT'] = bureau.groupby('SK_ID_CURR')['SK_ID_CURR'].transform('count')\n",
    "bureau['COUNT_GROUP'] = bureau['COUNT'].apply(lambda x:int(x/5)+1)\n",
    "bureau.drop('COUNT',axis=1,inplace=True)\n",
    "bureau.groupby('COUNT_GROUP').size()"
   ]
  },
  {
   "source": [
    "## 1.4 Add Count Orverdue Counts\n",
    "Create new coulumn to count the number of accounts that are overdue."
   ],
   "cell_type": "markdown",
   "metadata": {}
  },
  {
   "cell_type": "code",
   "execution_count": 19,
   "metadata": {},
   "outputs": [],
   "source": [
    "def overDue(df):\n",
    "    name_flag = 'OVERDUE_FLAG'\n",
    "    name = 'OVERDUE'\n",
    "    \n",
    "    def fun(x):\n",
    "        days = abs(x)\n",
    "        if days > 0:\n",
    "            return 1\n",
    "        else:\n",
    "            return 0\n",
    "\n",
    "    df[name_flag] = df['CREDIT_DAY_OVERDUE'].apply(fun)\n",
    "    \n",
    "    df[name] = df.groupby('SK_ID_CURR')[name_flag].transform('sum')\n",
    "    \n",
    "    #lets increase the groups by 1 to make the base group 1\n",
    "    df[name] = df[name].apply(lambda x:x+1)\n",
    "    \n",
    "    #drop column\n",
    "    df.drop([name_flag],axis=1, inplace=True)\n",
    "\n",
    "#apply function\n",
    "overDue(bureau)"
   ]
  },
  {
   "cell_type": "code",
   "execution_count": 20,
   "metadata": {},
   "outputs": [
    {
     "output_type": "execute_result",
     "data": {
      "text/plain": [
       "OVERDUE\n",
       "1    1686759\n",
       "2      26998\n",
       "3       1893\n",
       "4        441\n",
       "5        153\n",
       "6        104\n",
       "7         62\n",
       "8         18\n",
       "dtype: int64"
      ]
     },
     "metadata": {},
     "execution_count": 20
    }
   ],
   "source": [
    "bureau.groupby(['OVERDUE']).size()"
   ]
  },
  {
   "source": [
    "## 1.5 Add Count Credit Type Count\n",
    "Create new column to count the number of different account credit types."
   ],
   "cell_type": "markdown",
   "metadata": {}
  },
  {
   "cell_type": "code",
   "execution_count": 21,
   "metadata": {},
   "outputs": [
    {
     "output_type": "execute_result",
     "data": {
      "text/plain": [
       "   SK_ID_CURR  CREDIT_TYPE_COUNT\n",
       "0      100001                  1\n",
       "1      100002                  2\n",
       "2      100003                  2\n",
       "3      100004                  1\n",
       "4      100005                  2"
      ],
      "text/html": "<div>\n<style scoped>\n    .dataframe tbody tr th:only-of-type {\n        vertical-align: middle;\n    }\n\n    .dataframe tbody tr th {\n        vertical-align: top;\n    }\n\n    .dataframe thead th {\n        text-align: right;\n    }\n</style>\n<table border=\"1\" class=\"dataframe\">\n  <thead>\n    <tr style=\"text-align: right;\">\n      <th></th>\n      <th>SK_ID_CURR</th>\n      <th>CREDIT_TYPE_COUNT</th>\n    </tr>\n  </thead>\n  <tbody>\n    <tr>\n      <th>0</th>\n      <td>100001</td>\n      <td>1</td>\n    </tr>\n    <tr>\n      <th>1</th>\n      <td>100002</td>\n      <td>2</td>\n    </tr>\n    <tr>\n      <th>2</th>\n      <td>100003</td>\n      <td>2</td>\n    </tr>\n    <tr>\n      <th>3</th>\n      <td>100004</td>\n      <td>1</td>\n    </tr>\n    <tr>\n      <th>4</th>\n      <td>100005</td>\n      <td>2</td>\n    </tr>\n  </tbody>\n</table>\n</div>"
     },
     "metadata": {},
     "execution_count": 21
    }
   ],
   "source": [
    "#groupby id and credit types\n",
    "credit_size = bureau.groupby(['SK_ID_CURR','CREDIT_TYPE']).size()\n",
    "\n",
    "#create new dataframe\n",
    "df_credit_size = pd.DataFrame(data=credit_size.values,\n",
    "                              index=credit_size.index,columns=['COUNT'])\n",
    "\n",
    "df_credit_size.reset_index(inplace=True)\n",
    "\n",
    "credit_type_size = df_credit_size.groupby('SK_ID_CURR').size() \n",
    "\n",
    "credit_type_count = pd.DataFrame(data=credit_type_size.values,\n",
    "                              index=credit_type_size.index,\n",
    "                                 columns=['CREDIT_TYPE_COUNT'])\n",
    "credit_type_count.reset_index(inplace=True)\n",
    "credit_type_count.head()"
   ]
  },
  {
   "cell_type": "code",
   "execution_count": 22,
   "metadata": {},
   "outputs": [
    {
     "output_type": "execute_result",
     "data": {
      "text/plain": [
       "CREDIT_TYPE_COUNT\n",
       "1    109315\n",
       "2    166653\n",
       "3     27652\n",
       "4      2113\n",
       "5        74\n",
       "dtype: int64"
      ]
     },
     "metadata": {},
     "execution_count": 22
    }
   ],
   "source": [
    "credit_type_count.groupby('CREDIT_TYPE_COUNT').size().head()"
   ]
  },
  {
   "source": [
    "## 1.6 Add Count High Debt Accounts\n",
    "Create two new columns to count the number of high debt accounts:\n",
    "- Accounts with used debt limit of 50% or higher.\n",
    "- Accounts with used debt limit of 100% or higher."
   ],
   "cell_type": "markdown",
   "metadata": {}
  },
  {
   "cell_type": "code",
   "execution_count": 23,
   "metadata": {},
   "outputs": [],
   "source": [
    "#fill nan values\n",
    "bureau[['AMT_CREDIT_SUM_DEBT']]= bureau[['AMT_CREDIT_SUM_DEBT']].fillna(0)\n",
    "bureau[['AMT_CREDIT_SUM']]= bureau[['AMT_CREDIT_SUM']].fillna(0)"
   ]
  },
  {
   "cell_type": "code",
   "execution_count": 24,
   "metadata": {},
   "outputs": [],
   "source": [
    "def debtPercent(x):\n",
    "    '''Calculate debt percent.'''\n",
    "    debt = x['AMT_CREDIT_SUM_DEBT']\n",
    "    limit = x['AMT_CREDIT_SUM']\n",
    "    if debt <= 0 :\n",
    "        return 0\n",
    "    elif limit <=0:\n",
    "        return 0\n",
    "    else:\n",
    "        return debt/limit\n",
    "    \n",
    "#apply function\n",
    "bureau['DEBT_PERCENT'] = bureau.apply(debtPercent,axis=1)"
   ]
  },
  {
   "cell_type": "code",
   "execution_count": 25,
   "metadata": {},
   "outputs": [
    {
     "output_type": "execute_result",
     "data": {
      "text/plain": [
       "0          0.00000\n",
       "1          0.76152\n",
       "2          0.00000\n",
       "3          0.00000\n",
       "4          0.00000\n",
       "            ...   \n",
       "1716423    1.00000\n",
       "1716424    0.00000\n",
       "1716425    0.00000\n",
       "1716426    0.00000\n",
       "1716427    0.00000\n",
       "Name: DEBT_PERCENT, Length: 1716428, dtype: float64"
      ]
     },
     "metadata": {},
     "execution_count": 25
    }
   ],
   "source": [
    "bureau['DEBT_PERCENT']"
   ]
  },
  {
   "cell_type": "code",
   "execution_count": 26,
   "metadata": {},
   "outputs": [],
   "source": [
    "def highDebt(name,df,threshold):\n",
    "    name_flag = 'HIGH_DEBT_FLAG'\n",
    "\n",
    "    df[name_flag] = df['DEBT_PERCENT'].apply(lambda x: 1 if x >= threshold else 0)\n",
    "    \n",
    "    df[name] = df.groupby('SK_ID_CURR')[name_flag].transform('sum')\n",
    "    \n",
    "     #lets increase the groups by 1 to make the base group 1\n",
    "    df[name] = df[name].apply(lambda x:x+1)\n",
    "    \n",
    "    #drop column\n",
    "    df.drop([name_flag],axis=1, inplace=True)"
   ]
  },
  {
   "cell_type": "code",
   "execution_count": 27,
   "metadata": {},
   "outputs": [],
   "source": [
    "highDebt(\"DEBT_OVER_50%\",bureau,0.5)\n",
    "highDebt(\"DEBT_OVER_75%\",bureau,0.75)\n",
    "highDebt(\"DEBT_OVER_100%\",bureau,1.0)"
   ]
  },
  {
   "source": [
    "## 1.7 Add Aggregation Columns"
   ],
   "cell_type": "markdown",
   "metadata": {}
  },
  {
   "cell_type": "code",
   "execution_count": 36,
   "metadata": {},
   "outputs": [
    {
     "output_type": "execute_result",
     "data": {
      "text/plain": [
       "         SK_ID_CURR  SK_ID_BUREAU  DAYS_CREDIT  CREDIT_DAY_OVERDUE  \\\n",
       "0            215354       5714462         -497                   0   \n",
       "1            215354       5714463         -208                   0   \n",
       "2            215354       5714464         -203                   0   \n",
       "3            215354       5714465         -203                   0   \n",
       "4            215354       5714466         -629                   0   \n",
       "...             ...           ...          ...                 ...   \n",
       "1716423      259355       5057750          -44                   0   \n",
       "1716424      100044       5057754        -2648                   0   \n",
       "1716425      100044       5057762        -1809                   0   \n",
       "1716426      246829       5057770        -1878                   0   \n",
       "1716427      246829       5057778         -463                   0   \n",
       "\n",
       "         DAYS_CREDIT_ENDDATE  DAYS_ENDDATE_FACT  AMT_CREDIT_MAX_OVERDUE  \\\n",
       "0                     -153.0             -153.0                     NaN   \n",
       "1                     1075.0                NaN                     NaN   \n",
       "2                      528.0                NaN                     NaN   \n",
       "3                        NaN                NaN                     NaN   \n",
       "4                     1197.0                NaN                 77674.5   \n",
       "...                      ...                ...                     ...   \n",
       "1716423                -30.0                NaN                     0.0   \n",
       "1716424              -2433.0            -2493.0                  5476.5   \n",
       "1716425              -1628.0             -970.0                     NaN   \n",
       "1716426              -1513.0            -1513.0                     NaN   \n",
       "1716427                  NaN             -387.0                     NaN   \n",
       "\n",
       "         CNT_CREDIT_PROLONG  AMT_CREDIT_SUM  AMT_CREDIT_SUM_DEBT  \\\n",
       "0                         0        91323.00                  0.0   \n",
       "1                         0       225000.00             171342.0   \n",
       "2                         0       464323.50                  0.0   \n",
       "3                         0        90000.00                  0.0   \n",
       "4                         0      2700000.00                  0.0   \n",
       "...                     ...             ...                  ...   \n",
       "1716423                   0        11250.00              11250.0   \n",
       "1716424                   0        38130.84                  0.0   \n",
       "1716425                   0        15570.00                  0.0   \n",
       "1716426                   0        36000.00                  0.0   \n",
       "1716427                   0        22500.00                  0.0   \n",
       "\n",
       "         AMT_CREDIT_SUM_LIMIT  AMT_CREDIT_SUM_OVERDUE  DAYS_CREDIT_UPDATE  \\\n",
       "0                         NaN                     0.0                -131   \n",
       "1                         NaN                     0.0                 -20   \n",
       "2                         NaN                     0.0                 -16   \n",
       "3                         NaN                     0.0                 -16   \n",
       "4                         NaN                     0.0                 -21   \n",
       "...                       ...                     ...                 ...   \n",
       "1716423                   0.0                     0.0                 -19   \n",
       "1716424                   0.0                     0.0               -2493   \n",
       "1716425                   NaN                     0.0                -967   \n",
       "1716426                   0.0                     0.0               -1508   \n",
       "1716427                   NaN                     0.0                -387   \n",
       "\n",
       "         AMT_ANNUITY  \n",
       "0                NaN  \n",
       "1                NaN  \n",
       "2                NaN  \n",
       "3                NaN  \n",
       "4                NaN  \n",
       "...              ...  \n",
       "1716423          NaN  \n",
       "1716424          NaN  \n",
       "1716425          NaN  \n",
       "1716426          NaN  \n",
       "1716427          NaN  \n",
       "\n",
       "[1716428 rows x 14 columns]"
      ],
      "text/html": "<div>\n<style scoped>\n    .dataframe tbody tr th:only-of-type {\n        vertical-align: middle;\n    }\n\n    .dataframe tbody tr th {\n        vertical-align: top;\n    }\n\n    .dataframe thead th {\n        text-align: right;\n    }\n</style>\n<table border=\"1\" class=\"dataframe\">\n  <thead>\n    <tr style=\"text-align: right;\">\n      <th></th>\n      <th>SK_ID_CURR</th>\n      <th>SK_ID_BUREAU</th>\n      <th>DAYS_CREDIT</th>\n      <th>CREDIT_DAY_OVERDUE</th>\n      <th>DAYS_CREDIT_ENDDATE</th>\n      <th>DAYS_ENDDATE_FACT</th>\n      <th>AMT_CREDIT_MAX_OVERDUE</th>\n      <th>CNT_CREDIT_PROLONG</th>\n      <th>AMT_CREDIT_SUM</th>\n      <th>AMT_CREDIT_SUM_DEBT</th>\n      <th>AMT_CREDIT_SUM_LIMIT</th>\n      <th>AMT_CREDIT_SUM_OVERDUE</th>\n      <th>DAYS_CREDIT_UPDATE</th>\n      <th>AMT_ANNUITY</th>\n    </tr>\n  </thead>\n  <tbody>\n    <tr>\n      <th>0</th>\n      <td>215354</td>\n      <td>5714462</td>\n      <td>-497</td>\n      <td>0</td>\n      <td>-153.0</td>\n      <td>-153.0</td>\n      <td>NaN</td>\n      <td>0</td>\n      <td>91323.00</td>\n      <td>0.0</td>\n      <td>NaN</td>\n      <td>0.0</td>\n      <td>-131</td>\n      <td>NaN</td>\n    </tr>\n    <tr>\n      <th>1</th>\n      <td>215354</td>\n      <td>5714463</td>\n      <td>-208</td>\n      <td>0</td>\n      <td>1075.0</td>\n      <td>NaN</td>\n      <td>NaN</td>\n      <td>0</td>\n      <td>225000.00</td>\n      <td>171342.0</td>\n      <td>NaN</td>\n      <td>0.0</td>\n      <td>-20</td>\n      <td>NaN</td>\n    </tr>\n    <tr>\n      <th>2</th>\n      <td>215354</td>\n      <td>5714464</td>\n      <td>-203</td>\n      <td>0</td>\n      <td>528.0</td>\n      <td>NaN</td>\n      <td>NaN</td>\n      <td>0</td>\n      <td>464323.50</td>\n      <td>0.0</td>\n      <td>NaN</td>\n      <td>0.0</td>\n      <td>-16</td>\n      <td>NaN</td>\n    </tr>\n    <tr>\n      <th>3</th>\n      <td>215354</td>\n      <td>5714465</td>\n      <td>-203</td>\n      <td>0</td>\n      <td>NaN</td>\n      <td>NaN</td>\n      <td>NaN</td>\n      <td>0</td>\n      <td>90000.00</td>\n      <td>0.0</td>\n      <td>NaN</td>\n      <td>0.0</td>\n      <td>-16</td>\n      <td>NaN</td>\n    </tr>\n    <tr>\n      <th>4</th>\n      <td>215354</td>\n      <td>5714466</td>\n      <td>-629</td>\n      <td>0</td>\n      <td>1197.0</td>\n      <td>NaN</td>\n      <td>77674.5</td>\n      <td>0</td>\n      <td>2700000.00</td>\n      <td>0.0</td>\n      <td>NaN</td>\n      <td>0.0</td>\n      <td>-21</td>\n      <td>NaN</td>\n    </tr>\n    <tr>\n      <th>...</th>\n      <td>...</td>\n      <td>...</td>\n      <td>...</td>\n      <td>...</td>\n      <td>...</td>\n      <td>...</td>\n      <td>...</td>\n      <td>...</td>\n      <td>...</td>\n      <td>...</td>\n      <td>...</td>\n      <td>...</td>\n      <td>...</td>\n      <td>...</td>\n    </tr>\n    <tr>\n      <th>1716423</th>\n      <td>259355</td>\n      <td>5057750</td>\n      <td>-44</td>\n      <td>0</td>\n      <td>-30.0</td>\n      <td>NaN</td>\n      <td>0.0</td>\n      <td>0</td>\n      <td>11250.00</td>\n      <td>11250.0</td>\n      <td>0.0</td>\n      <td>0.0</td>\n      <td>-19</td>\n      <td>NaN</td>\n    </tr>\n    <tr>\n      <th>1716424</th>\n      <td>100044</td>\n      <td>5057754</td>\n      <td>-2648</td>\n      <td>0</td>\n      <td>-2433.0</td>\n      <td>-2493.0</td>\n      <td>5476.5</td>\n      <td>0</td>\n      <td>38130.84</td>\n      <td>0.0</td>\n      <td>0.0</td>\n      <td>0.0</td>\n      <td>-2493</td>\n      <td>NaN</td>\n    </tr>\n    <tr>\n      <th>1716425</th>\n      <td>100044</td>\n      <td>5057762</td>\n      <td>-1809</td>\n      <td>0</td>\n      <td>-1628.0</td>\n      <td>-970.0</td>\n      <td>NaN</td>\n      <td>0</td>\n      <td>15570.00</td>\n      <td>0.0</td>\n      <td>NaN</td>\n      <td>0.0</td>\n      <td>-967</td>\n      <td>NaN</td>\n    </tr>\n    <tr>\n      <th>1716426</th>\n      <td>246829</td>\n      <td>5057770</td>\n      <td>-1878</td>\n      <td>0</td>\n      <td>-1513.0</td>\n      <td>-1513.0</td>\n      <td>NaN</td>\n      <td>0</td>\n      <td>36000.00</td>\n      <td>0.0</td>\n      <td>0.0</td>\n      <td>0.0</td>\n      <td>-1508</td>\n      <td>NaN</td>\n    </tr>\n    <tr>\n      <th>1716427</th>\n      <td>246829</td>\n      <td>5057778</td>\n      <td>-463</td>\n      <td>0</td>\n      <td>NaN</td>\n      <td>-387.0</td>\n      <td>NaN</td>\n      <td>0</td>\n      <td>22500.00</td>\n      <td>0.0</td>\n      <td>NaN</td>\n      <td>0.0</td>\n      <td>-387</td>\n      <td>NaN</td>\n    </tr>\n  </tbody>\n</table>\n<p>1716428 rows × 14 columns</p>\n</div>"
     },
     "metadata": {},
     "execution_count": 36
    }
   ],
   "source": [
    "num_table = bureau[num_col]\n",
    "num_table"
   ]
  },
  {
   "cell_type": "code",
   "execution_count": 37,
   "metadata": {},
   "outputs": [
    {
     "output_type": "stream",
     "name": "stderr",
     "text": [
      "C:\\miniconda3\\lib\\site-packages\\pandas\\core\\frame.py:4308: SettingWithCopyWarning: \nA value is trying to be set on a copy of a slice from a DataFrame\n\nSee the caveats in the documentation: https://pandas.pydata.org/pandas-docs/stable/user_guide/indexing.html#returning-a-view-versus-a-copy\n  return super().drop(\n"
     ]
    }
   ],
   "source": [
    "num_table.drop(['SK_ID_CURR','SK_ID_BUREAU'], axis=1, inplace=True)"
   ]
  },
  {
   "cell_type": "code",
   "execution_count": 51,
   "metadata": {},
   "outputs": [
    {
     "output_type": "execute_result",
     "data": {
      "text/plain": [
       "Index(['DAYS_CREDIT', 'CREDIT_DAY_OVERDUE', 'DAYS_CREDIT_ENDDATE',\n",
       "       'DAYS_ENDDATE_FACT', 'AMT_CREDIT_MAX_OVERDUE', 'CNT_CREDIT_PROLONG',\n",
       "       'AMT_CREDIT_SUM', 'AMT_CREDIT_SUM_DEBT', 'AMT_CREDIT_SUM_LIMIT',\n",
       "       'AMT_CREDIT_SUM_OVERDUE', 'DAYS_CREDIT_UPDATE', 'AMT_ANNUITY'],\n",
       "      dtype='object')"
      ]
     },
     "metadata": {},
     "execution_count": 51
    }
   ],
   "source": [
    "num_table.columns"
   ]
  },
  {
   "cell_type": "code",
   "execution_count": 43,
   "metadata": {},
   "outputs": [],
   "source": [
    "#let get minimum, maximum, average and standard deviation\n",
    "fun_agg = ['min', 'max', 'mean','std']"
   ]
  },
  {
   "cell_type": "code",
   "execution_count": 52,
   "metadata": {},
   "outputs": [],
   "source": [
    "agg_fun_df = bureau.groupby('SK_ID_CURR')[num_table.columns].agg(fun_agg)"
   ]
  },
  {
   "cell_type": "code",
   "execution_count": 54,
   "metadata": {},
   "outputs": [],
   "source": [
    "#rename columns\n",
    "agg_fun_df.columns = [\"{}_{}\".format(c[0],c[1].upper()) for c in agg_fun_df.columns.values.tolist()] \n",
    "\n",
    "#let fill nan values\n",
    "agg_fun_df.fillna(0,inplace=True)"
   ]
  },
  {
   "cell_type": "code",
   "execution_count": 55,
   "metadata": {},
   "outputs": [
    {
     "output_type": "execute_result",
     "data": {
      "text/plain": [
       "            DAYS_CREDIT_MIN  DAYS_CREDIT_MAX  DAYS_CREDIT_MEAN  \\\n",
       "SK_ID_CURR                                                       \n",
       "100001                -1572              -49       -735.000000   \n",
       "100002                -1437             -103       -874.000000   \n",
       "100003                -2586             -606      -1400.750000   \n",
       "100004                -1326             -408       -867.000000   \n",
       "100005                 -373              -62       -190.666667   \n",
       "\n",
       "            DAYS_CREDIT_STD  CREDIT_DAY_OVERDUE_MIN  CREDIT_DAY_OVERDUE_MAX  \\\n",
       "SK_ID_CURR                                                                    \n",
       "100001           489.942514                       0                       0   \n",
       "100002           431.451040                       0                       0   \n",
       "100003           909.826128                       0                       0   \n",
       "100004           649.124025                       0                       0   \n",
       "100005           162.297053                       0                       0   \n",
       "\n",
       "            CREDIT_DAY_OVERDUE_MEAN  CREDIT_DAY_OVERDUE_STD  \\\n",
       "SK_ID_CURR                                                    \n",
       "100001                          0.0                     0.0   \n",
       "100002                          0.0                     0.0   \n",
       "100003                          0.0                     0.0   \n",
       "100004                          0.0                     0.0   \n",
       "100005                          0.0                     0.0   \n",
       "\n",
       "            DAYS_CREDIT_ENDDATE_MIN  DAYS_CREDIT_ENDDATE_MAX  ...  \\\n",
       "SK_ID_CURR                                                    ...   \n",
       "100001                      -1329.0                   1778.0  ...   \n",
       "100002                      -1072.0                    780.0  ...   \n",
       "100003                      -2434.0                   1216.0  ...   \n",
       "100004                       -595.0                   -382.0  ...   \n",
       "100005                       -128.0                   1324.0  ...   \n",
       "\n",
       "            AMT_CREDIT_SUM_OVERDUE_MEAN  AMT_CREDIT_SUM_OVERDUE_STD  \\\n",
       "SK_ID_CURR                                                            \n",
       "100001                              0.0                         0.0   \n",
       "100002                              0.0                         0.0   \n",
       "100003                              0.0                         0.0   \n",
       "100004                              0.0                         0.0   \n",
       "100005                              0.0                         0.0   \n",
       "\n",
       "            DAYS_CREDIT_UPDATE_MIN  DAYS_CREDIT_UPDATE_MAX  \\\n",
       "SK_ID_CURR                                                   \n",
       "100001                        -155                      -6   \n",
       "100002                       -1185                      -7   \n",
       "100003                       -2131                     -43   \n",
       "100004                        -682                    -382   \n",
       "100005                        -121                     -11   \n",
       "\n",
       "            DAYS_CREDIT_UPDATE_MEAN  DAYS_CREDIT_UPDATE_STD  AMT_ANNUITY_MIN  \\\n",
       "SK_ID_CURR                                                                     \n",
       "100001                   -93.142857               77.204120              0.0   \n",
       "100002                  -499.875000              518.522472              0.0   \n",
       "100003                  -816.000000              908.053963              0.0   \n",
       "100004                  -532.000000              212.132034              0.0   \n",
       "100005                   -54.333333               58.594653              0.0   \n",
       "\n",
       "            AMT_ANNUITY_MAX  AMT_ANNUITY_MEAN  AMT_ANNUITY_STD  \n",
       "SK_ID_CURR                                                      \n",
       "100001              10822.5       3545.357143      4800.607529  \n",
       "100002                  0.0          0.000000         0.000000  \n",
       "100003                  0.0          0.000000         0.000000  \n",
       "100004                  0.0          0.000000         0.000000  \n",
       "100005               4261.5       1420.500000      2460.378172  \n",
       "\n",
       "[5 rows x 48 columns]"
      ],
      "text/html": "<div>\n<style scoped>\n    .dataframe tbody tr th:only-of-type {\n        vertical-align: middle;\n    }\n\n    .dataframe tbody tr th {\n        vertical-align: top;\n    }\n\n    .dataframe thead th {\n        text-align: right;\n    }\n</style>\n<table border=\"1\" class=\"dataframe\">\n  <thead>\n    <tr style=\"text-align: right;\">\n      <th></th>\n      <th>DAYS_CREDIT_MIN</th>\n      <th>DAYS_CREDIT_MAX</th>\n      <th>DAYS_CREDIT_MEAN</th>\n      <th>DAYS_CREDIT_STD</th>\n      <th>CREDIT_DAY_OVERDUE_MIN</th>\n      <th>CREDIT_DAY_OVERDUE_MAX</th>\n      <th>CREDIT_DAY_OVERDUE_MEAN</th>\n      <th>CREDIT_DAY_OVERDUE_STD</th>\n      <th>DAYS_CREDIT_ENDDATE_MIN</th>\n      <th>DAYS_CREDIT_ENDDATE_MAX</th>\n      <th>...</th>\n      <th>AMT_CREDIT_SUM_OVERDUE_MEAN</th>\n      <th>AMT_CREDIT_SUM_OVERDUE_STD</th>\n      <th>DAYS_CREDIT_UPDATE_MIN</th>\n      <th>DAYS_CREDIT_UPDATE_MAX</th>\n      <th>DAYS_CREDIT_UPDATE_MEAN</th>\n      <th>DAYS_CREDIT_UPDATE_STD</th>\n      <th>AMT_ANNUITY_MIN</th>\n      <th>AMT_ANNUITY_MAX</th>\n      <th>AMT_ANNUITY_MEAN</th>\n      <th>AMT_ANNUITY_STD</th>\n    </tr>\n    <tr>\n      <th>SK_ID_CURR</th>\n      <th></th>\n      <th></th>\n      <th></th>\n      <th></th>\n      <th></th>\n      <th></th>\n      <th></th>\n      <th></th>\n      <th></th>\n      <th></th>\n      <th></th>\n      <th></th>\n      <th></th>\n      <th></th>\n      <th></th>\n      <th></th>\n      <th></th>\n      <th></th>\n      <th></th>\n      <th></th>\n      <th></th>\n    </tr>\n  </thead>\n  <tbody>\n    <tr>\n      <th>100001</th>\n      <td>-1572</td>\n      <td>-49</td>\n      <td>-735.000000</td>\n      <td>489.942514</td>\n      <td>0</td>\n      <td>0</td>\n      <td>0.0</td>\n      <td>0.0</td>\n      <td>-1329.0</td>\n      <td>1778.0</td>\n      <td>...</td>\n      <td>0.0</td>\n      <td>0.0</td>\n      <td>-155</td>\n      <td>-6</td>\n      <td>-93.142857</td>\n      <td>77.204120</td>\n      <td>0.0</td>\n      <td>10822.5</td>\n      <td>3545.357143</td>\n      <td>4800.607529</td>\n    </tr>\n    <tr>\n      <th>100002</th>\n      <td>-1437</td>\n      <td>-103</td>\n      <td>-874.000000</td>\n      <td>431.451040</td>\n      <td>0</td>\n      <td>0</td>\n      <td>0.0</td>\n      <td>0.0</td>\n      <td>-1072.0</td>\n      <td>780.0</td>\n      <td>...</td>\n      <td>0.0</td>\n      <td>0.0</td>\n      <td>-1185</td>\n      <td>-7</td>\n      <td>-499.875000</td>\n      <td>518.522472</td>\n      <td>0.0</td>\n      <td>0.0</td>\n      <td>0.000000</td>\n      <td>0.000000</td>\n    </tr>\n    <tr>\n      <th>100003</th>\n      <td>-2586</td>\n      <td>-606</td>\n      <td>-1400.750000</td>\n      <td>909.826128</td>\n      <td>0</td>\n      <td>0</td>\n      <td>0.0</td>\n      <td>0.0</td>\n      <td>-2434.0</td>\n      <td>1216.0</td>\n      <td>...</td>\n      <td>0.0</td>\n      <td>0.0</td>\n      <td>-2131</td>\n      <td>-43</td>\n      <td>-816.000000</td>\n      <td>908.053963</td>\n      <td>0.0</td>\n      <td>0.0</td>\n      <td>0.000000</td>\n      <td>0.000000</td>\n    </tr>\n    <tr>\n      <th>100004</th>\n      <td>-1326</td>\n      <td>-408</td>\n      <td>-867.000000</td>\n      <td>649.124025</td>\n      <td>0</td>\n      <td>0</td>\n      <td>0.0</td>\n      <td>0.0</td>\n      <td>-595.0</td>\n      <td>-382.0</td>\n      <td>...</td>\n      <td>0.0</td>\n      <td>0.0</td>\n      <td>-682</td>\n      <td>-382</td>\n      <td>-532.000000</td>\n      <td>212.132034</td>\n      <td>0.0</td>\n      <td>0.0</td>\n      <td>0.000000</td>\n      <td>0.000000</td>\n    </tr>\n    <tr>\n      <th>100005</th>\n      <td>-373</td>\n      <td>-62</td>\n      <td>-190.666667</td>\n      <td>162.297053</td>\n      <td>0</td>\n      <td>0</td>\n      <td>0.0</td>\n      <td>0.0</td>\n      <td>-128.0</td>\n      <td>1324.0</td>\n      <td>...</td>\n      <td>0.0</td>\n      <td>0.0</td>\n      <td>-121</td>\n      <td>-11</td>\n      <td>-54.333333</td>\n      <td>58.594653</td>\n      <td>0.0</td>\n      <td>4261.5</td>\n      <td>1420.500000</td>\n      <td>2460.378172</td>\n    </tr>\n  </tbody>\n</table>\n<p>5 rows × 48 columns</p>\n</div>"
     },
     "metadata": {},
     "execution_count": 55
    }
   ],
   "source": [
    "agg_fun_df.head()"
   ]
  },
  {
   "source": [
    "## 1.8 Combine All Datasets\n",
    "Combine all the datasets get the final feature dataset."
   ],
   "cell_type": "markdown",
   "metadata": {}
  },
  {
   "cell_type": "code",
   "execution_count": 83,
   "metadata": {},
   "outputs": [],
   "source": [
    "features = ['COUNT_GROUP','OVERDUE','DEBT_OVER_50%','DEBT_OVER_75%','DEBT_OVER_100%']\n",
    "\n",
    "#these features columns are same value by id so we can take the first row\n",
    "reduced_dataset = bureau.groupby('SK_ID_CURR').first()[features]\n",
    "\n",
    "reduced_dataset.reset_index(inplace=True)"
   ]
  },
  {
   "cell_type": "code",
   "execution_count": 84,
   "metadata": {},
   "outputs": [],
   "source": [
    "def applyMax(feature,df):\n",
    "    \"\"\" Lets set a ceiling value.\n",
    "    \"\"\" \n",
    "    column = df[feature].value_counts(normalize=True).reset_index() \n",
    "    df[feature] = np.clip(df[feature], 1, column[column[feature]>0.01]['index'].max()) #setting ceiling value"
   ]
  },
  {
   "cell_type": "code",
   "execution_count": 85,
   "metadata": {},
   "outputs": [],
   "source": [
    "#set max values\n",
    "for i in features:\n",
    "    applyMax(i,reduced_dataset)"
   ]
  },
  {
   "cell_type": "code",
   "execution_count": 73,
   "metadata": {},
   "outputs": [
    {
     "output_type": "execute_result",
     "data": {
      "text/plain": [
       "        SK_ID_CURR  COUNT_GROUP  OVERDUE  DEBT_OVER_50%  DEBT_OVER_75%  \\\n",
       "0           100001            2        1              3              2   \n",
       "1           100002            2        1              2              1   \n",
       "2           100003            1        1              1              1   \n",
       "3           100004            1        1              1              1   \n",
       "4           100005            1        1              3              3   \n",
       "...            ...          ...      ...            ...            ...   \n",
       "305806      456249            3        1              2              2   \n",
       "305807      456250            1        1              3              3   \n",
       "305808      456253            1        1              2              1   \n",
       "305809      456254            1        1              1              1   \n",
       "305810      456255            3        1              5              2   \n",
       "\n",
       "        DEBT_OVER_100%  \n",
       "0                    1  \n",
       "1                    1  \n",
       "2                    1  \n",
       "3                    1  \n",
       "4                    1  \n",
       "...                ...  \n",
       "305806               1  \n",
       "305807               1  \n",
       "305808               1  \n",
       "305809               1  \n",
       "305810               1  \n",
       "\n",
       "[305811 rows x 6 columns]"
      ],
      "text/html": "<div>\n<style scoped>\n    .dataframe tbody tr th:only-of-type {\n        vertical-align: middle;\n    }\n\n    .dataframe tbody tr th {\n        vertical-align: top;\n    }\n\n    .dataframe thead th {\n        text-align: right;\n    }\n</style>\n<table border=\"1\" class=\"dataframe\">\n  <thead>\n    <tr style=\"text-align: right;\">\n      <th></th>\n      <th>SK_ID_CURR</th>\n      <th>COUNT_GROUP</th>\n      <th>OVERDUE</th>\n      <th>DEBT_OVER_50%</th>\n      <th>DEBT_OVER_75%</th>\n      <th>DEBT_OVER_100%</th>\n    </tr>\n  </thead>\n  <tbody>\n    <tr>\n      <th>0</th>\n      <td>100001</td>\n      <td>2</td>\n      <td>1</td>\n      <td>3</td>\n      <td>2</td>\n      <td>1</td>\n    </tr>\n    <tr>\n      <th>1</th>\n      <td>100002</td>\n      <td>2</td>\n      <td>1</td>\n      <td>2</td>\n      <td>1</td>\n      <td>1</td>\n    </tr>\n    <tr>\n      <th>2</th>\n      <td>100003</td>\n      <td>1</td>\n      <td>1</td>\n      <td>1</td>\n      <td>1</td>\n      <td>1</td>\n    </tr>\n    <tr>\n      <th>3</th>\n      <td>100004</td>\n      <td>1</td>\n      <td>1</td>\n      <td>1</td>\n      <td>1</td>\n      <td>1</td>\n    </tr>\n    <tr>\n      <th>4</th>\n      <td>100005</td>\n      <td>1</td>\n      <td>1</td>\n      <td>3</td>\n      <td>3</td>\n      <td>1</td>\n    </tr>\n    <tr>\n      <th>...</th>\n      <td>...</td>\n      <td>...</td>\n      <td>...</td>\n      <td>...</td>\n      <td>...</td>\n      <td>...</td>\n    </tr>\n    <tr>\n      <th>305806</th>\n      <td>456249</td>\n      <td>3</td>\n      <td>1</td>\n      <td>2</td>\n      <td>2</td>\n      <td>1</td>\n    </tr>\n    <tr>\n      <th>305807</th>\n      <td>456250</td>\n      <td>1</td>\n      <td>1</td>\n      <td>3</td>\n      <td>3</td>\n      <td>1</td>\n    </tr>\n    <tr>\n      <th>305808</th>\n      <td>456253</td>\n      <td>1</td>\n      <td>1</td>\n      <td>2</td>\n      <td>1</td>\n      <td>1</td>\n    </tr>\n    <tr>\n      <th>305809</th>\n      <td>456254</td>\n      <td>1</td>\n      <td>1</td>\n      <td>1</td>\n      <td>1</td>\n      <td>1</td>\n    </tr>\n    <tr>\n      <th>305810</th>\n      <td>456255</td>\n      <td>3</td>\n      <td>1</td>\n      <td>5</td>\n      <td>2</td>\n      <td>1</td>\n    </tr>\n  </tbody>\n</table>\n<p>305811 rows × 6 columns</p>\n</div>"
     },
     "metadata": {},
     "execution_count": 73
    }
   ],
   "source": [
    "reduced_dataset"
   ]
  },
  {
   "cell_type": "code",
   "execution_count": 86,
   "metadata": {},
   "outputs": [],
   "source": [
    "final_dataset = reduced_dataset.merge(credit_active_table,\n",
    "                                      how='left', \n",
    "                                      on='SK_ID_CURR',\n",
    "                                      validate='one_to_one')\n",
    "\n",
    "final_dataset  = final_dataset.merge(credit_type_count,\n",
    "                                      how='left', \n",
    "                                      on='SK_ID_CURR',\n",
    "                                      validate='one_to_one')\n",
    "\n",
    "final_dataset  = final_dataset.merge(agg_fun_df.reset_index(),\n",
    "                                      how='left', \n",
    "                                      on='SK_ID_CURR',\n",
    "                                      validate='one_to_one')"
   ]
  },
  {
   "cell_type": "code",
   "execution_count": 87,
   "metadata": {},
   "outputs": [
    {
     "output_type": "execute_result",
     "data": {
      "text/plain": [
       "   SK_ID_CURR  COUNT_GROUP  OVERDUE  DEBT_OVER_50%  DEBT_OVER_75%  \\\n",
       "0      100001            2        1              3              2   \n",
       "1      100002            2        1              2              1   \n",
       "2      100003            1        1              1              1   \n",
       "3      100004            1        1              1              1   \n",
       "4      100005            1        1              3              3   \n",
       "\n",
       "   DEBT_OVER_100%  ACTIVE  CLOSED  ADVERSE  CREDIT_TYPE_COUNT  ...  \\\n",
       "0               1       1       1        1                  1  ...   \n",
       "1               1       1       2        1                  2  ...   \n",
       "2               1       1       1        1                  2  ...   \n",
       "3               1       1       1        1                  1  ...   \n",
       "4               1       1       1        1                  2  ...   \n",
       "\n",
       "   AMT_CREDIT_SUM_OVERDUE_MEAN  AMT_CREDIT_SUM_OVERDUE_STD  \\\n",
       "0                          0.0                         0.0   \n",
       "1                          0.0                         0.0   \n",
       "2                          0.0                         0.0   \n",
       "3                          0.0                         0.0   \n",
       "4                          0.0                         0.0   \n",
       "\n",
       "   DAYS_CREDIT_UPDATE_MIN  DAYS_CREDIT_UPDATE_MAX  DAYS_CREDIT_UPDATE_MEAN  \\\n",
       "0                    -155                      -6               -93.142857   \n",
       "1                   -1185                      -7              -499.875000   \n",
       "2                   -2131                     -43              -816.000000   \n",
       "3                    -682                    -382              -532.000000   \n",
       "4                    -121                     -11               -54.333333   \n",
       "\n",
       "   DAYS_CREDIT_UPDATE_STD  AMT_ANNUITY_MIN  AMT_ANNUITY_MAX  AMT_ANNUITY_MEAN  \\\n",
       "0               77.204120              0.0          10822.5       3545.357143   \n",
       "1              518.522472              0.0              0.0          0.000000   \n",
       "2              908.053963              0.0              0.0          0.000000   \n",
       "3              212.132034              0.0              0.0          0.000000   \n",
       "4               58.594653              0.0           4261.5       1420.500000   \n",
       "\n",
       "   AMT_ANNUITY_STD  \n",
       "0      4800.607529  \n",
       "1         0.000000  \n",
       "2         0.000000  \n",
       "3         0.000000  \n",
       "4      2460.378172  \n",
       "\n",
       "[5 rows x 58 columns]"
      ],
      "text/html": "<div>\n<style scoped>\n    .dataframe tbody tr th:only-of-type {\n        vertical-align: middle;\n    }\n\n    .dataframe tbody tr th {\n        vertical-align: top;\n    }\n\n    .dataframe thead th {\n        text-align: right;\n    }\n</style>\n<table border=\"1\" class=\"dataframe\">\n  <thead>\n    <tr style=\"text-align: right;\">\n      <th></th>\n      <th>SK_ID_CURR</th>\n      <th>COUNT_GROUP</th>\n      <th>OVERDUE</th>\n      <th>DEBT_OVER_50%</th>\n      <th>DEBT_OVER_75%</th>\n      <th>DEBT_OVER_100%</th>\n      <th>ACTIVE</th>\n      <th>CLOSED</th>\n      <th>ADVERSE</th>\n      <th>CREDIT_TYPE_COUNT</th>\n      <th>...</th>\n      <th>AMT_CREDIT_SUM_OVERDUE_MEAN</th>\n      <th>AMT_CREDIT_SUM_OVERDUE_STD</th>\n      <th>DAYS_CREDIT_UPDATE_MIN</th>\n      <th>DAYS_CREDIT_UPDATE_MAX</th>\n      <th>DAYS_CREDIT_UPDATE_MEAN</th>\n      <th>DAYS_CREDIT_UPDATE_STD</th>\n      <th>AMT_ANNUITY_MIN</th>\n      <th>AMT_ANNUITY_MAX</th>\n      <th>AMT_ANNUITY_MEAN</th>\n      <th>AMT_ANNUITY_STD</th>\n    </tr>\n  </thead>\n  <tbody>\n    <tr>\n      <th>0</th>\n      <td>100001</td>\n      <td>2</td>\n      <td>1</td>\n      <td>3</td>\n      <td>2</td>\n      <td>1</td>\n      <td>1</td>\n      <td>1</td>\n      <td>1</td>\n      <td>1</td>\n      <td>...</td>\n      <td>0.0</td>\n      <td>0.0</td>\n      <td>-155</td>\n      <td>-6</td>\n      <td>-93.142857</td>\n      <td>77.204120</td>\n      <td>0.0</td>\n      <td>10822.5</td>\n      <td>3545.357143</td>\n      <td>4800.607529</td>\n    </tr>\n    <tr>\n      <th>1</th>\n      <td>100002</td>\n      <td>2</td>\n      <td>1</td>\n      <td>2</td>\n      <td>1</td>\n      <td>1</td>\n      <td>1</td>\n      <td>2</td>\n      <td>1</td>\n      <td>2</td>\n      <td>...</td>\n      <td>0.0</td>\n      <td>0.0</td>\n      <td>-1185</td>\n      <td>-7</td>\n      <td>-499.875000</td>\n      <td>518.522472</td>\n      <td>0.0</td>\n      <td>0.0</td>\n      <td>0.000000</td>\n      <td>0.000000</td>\n    </tr>\n    <tr>\n      <th>2</th>\n      <td>100003</td>\n      <td>1</td>\n      <td>1</td>\n      <td>1</td>\n      <td>1</td>\n      <td>1</td>\n      <td>1</td>\n      <td>1</td>\n      <td>1</td>\n      <td>2</td>\n      <td>...</td>\n      <td>0.0</td>\n      <td>0.0</td>\n      <td>-2131</td>\n      <td>-43</td>\n      <td>-816.000000</td>\n      <td>908.053963</td>\n      <td>0.0</td>\n      <td>0.0</td>\n      <td>0.000000</td>\n      <td>0.000000</td>\n    </tr>\n    <tr>\n      <th>3</th>\n      <td>100004</td>\n      <td>1</td>\n      <td>1</td>\n      <td>1</td>\n      <td>1</td>\n      <td>1</td>\n      <td>1</td>\n      <td>1</td>\n      <td>1</td>\n      <td>1</td>\n      <td>...</td>\n      <td>0.0</td>\n      <td>0.0</td>\n      <td>-682</td>\n      <td>-382</td>\n      <td>-532.000000</td>\n      <td>212.132034</td>\n      <td>0.0</td>\n      <td>0.0</td>\n      <td>0.000000</td>\n      <td>0.000000</td>\n    </tr>\n    <tr>\n      <th>4</th>\n      <td>100005</td>\n      <td>1</td>\n      <td>1</td>\n      <td>3</td>\n      <td>3</td>\n      <td>1</td>\n      <td>1</td>\n      <td>1</td>\n      <td>1</td>\n      <td>2</td>\n      <td>...</td>\n      <td>0.0</td>\n      <td>0.0</td>\n      <td>-121</td>\n      <td>-11</td>\n      <td>-54.333333</td>\n      <td>58.594653</td>\n      <td>0.0</td>\n      <td>4261.5</td>\n      <td>1420.500000</td>\n      <td>2460.378172</td>\n    </tr>\n  </tbody>\n</table>\n<p>5 rows × 58 columns</p>\n</div>"
     },
     "metadata": {},
     "execution_count": 87
    }
   ],
   "source": [
    "final_dataset.head()"
   ]
  },
  {
   "source": [
    "## 1.9 Save Final Dataset"
   ],
   "cell_type": "markdown",
   "metadata": {}
  },
  {
   "cell_type": "code",
   "execution_count": 88,
   "metadata": {},
   "outputs": [],
   "source": [
    "\n",
    "# rename columns  append all fields with 'BUREAU_' except id field\n",
    "\n",
    "col_name = []\n",
    "for c in final_dataset.columns:\n",
    "    if c =='SK_ID_CURR':\n",
    "        col_name.append(c)\n",
    "    else:\n",
    "        col_name.append(\"BUREAU_\"+c)\n",
    "\n",
    "final_dataset.columns = col_name"
   ]
  },
  {
   "cell_type": "code",
   "execution_count": 89,
   "metadata": {},
   "outputs": [
    {
     "output_type": "execute_result",
     "data": {
      "text/plain": [
       "   SK_ID_CURR  BUREAU_COUNT_GROUP  BUREAU_OVERDUE  BUREAU_DEBT_OVER_50%  \\\n",
       "0      100001                   2               1                     3   \n",
       "1      100002                   2               1                     2   \n",
       "2      100003                   1               1                     1   \n",
       "3      100004                   1               1                     1   \n",
       "4      100005                   1               1                     3   \n",
       "\n",
       "   BUREAU_DEBT_OVER_75%  BUREAU_DEBT_OVER_100%  BUREAU_ACTIVE  BUREAU_CLOSED  \\\n",
       "0                     2                      1              1              1   \n",
       "1                     1                      1              1              2   \n",
       "2                     1                      1              1              1   \n",
       "3                     1                      1              1              1   \n",
       "4                     3                      1              1              1   \n",
       "\n",
       "   BUREAU_ADVERSE  BUREAU_CREDIT_TYPE_COUNT  ...  \\\n",
       "0               1                         1  ...   \n",
       "1               1                         2  ...   \n",
       "2               1                         2  ...   \n",
       "3               1                         1  ...   \n",
       "4               1                         2  ...   \n",
       "\n",
       "   BUREAU_AMT_CREDIT_SUM_OVERDUE_MEAN  BUREAU_AMT_CREDIT_SUM_OVERDUE_STD  \\\n",
       "0                                 0.0                                0.0   \n",
       "1                                 0.0                                0.0   \n",
       "2                                 0.0                                0.0   \n",
       "3                                 0.0                                0.0   \n",
       "4                                 0.0                                0.0   \n",
       "\n",
       "   BUREAU_DAYS_CREDIT_UPDATE_MIN  BUREAU_DAYS_CREDIT_UPDATE_MAX  \\\n",
       "0                           -155                             -6   \n",
       "1                          -1185                             -7   \n",
       "2                          -2131                            -43   \n",
       "3                           -682                           -382   \n",
       "4                           -121                            -11   \n",
       "\n",
       "   BUREAU_DAYS_CREDIT_UPDATE_MEAN  BUREAU_DAYS_CREDIT_UPDATE_STD  \\\n",
       "0                      -93.142857                      77.204120   \n",
       "1                     -499.875000                     518.522472   \n",
       "2                     -816.000000                     908.053963   \n",
       "3                     -532.000000                     212.132034   \n",
       "4                      -54.333333                      58.594653   \n",
       "\n",
       "   BUREAU_AMT_ANNUITY_MIN  BUREAU_AMT_ANNUITY_MAX  BUREAU_AMT_ANNUITY_MEAN  \\\n",
       "0                     0.0                 10822.5              3545.357143   \n",
       "1                     0.0                     0.0                 0.000000   \n",
       "2                     0.0                     0.0                 0.000000   \n",
       "3                     0.0                     0.0                 0.000000   \n",
       "4                     0.0                  4261.5              1420.500000   \n",
       "\n",
       "   BUREAU_AMT_ANNUITY_STD  \n",
       "0             4800.607529  \n",
       "1                0.000000  \n",
       "2                0.000000  \n",
       "3                0.000000  \n",
       "4             2460.378172  \n",
       "\n",
       "[5 rows x 58 columns]"
      ],
      "text/html": "<div>\n<style scoped>\n    .dataframe tbody tr th:only-of-type {\n        vertical-align: middle;\n    }\n\n    .dataframe tbody tr th {\n        vertical-align: top;\n    }\n\n    .dataframe thead th {\n        text-align: right;\n    }\n</style>\n<table border=\"1\" class=\"dataframe\">\n  <thead>\n    <tr style=\"text-align: right;\">\n      <th></th>\n      <th>SK_ID_CURR</th>\n      <th>BUREAU_COUNT_GROUP</th>\n      <th>BUREAU_OVERDUE</th>\n      <th>BUREAU_DEBT_OVER_50%</th>\n      <th>BUREAU_DEBT_OVER_75%</th>\n      <th>BUREAU_DEBT_OVER_100%</th>\n      <th>BUREAU_ACTIVE</th>\n      <th>BUREAU_CLOSED</th>\n      <th>BUREAU_ADVERSE</th>\n      <th>BUREAU_CREDIT_TYPE_COUNT</th>\n      <th>...</th>\n      <th>BUREAU_AMT_CREDIT_SUM_OVERDUE_MEAN</th>\n      <th>BUREAU_AMT_CREDIT_SUM_OVERDUE_STD</th>\n      <th>BUREAU_DAYS_CREDIT_UPDATE_MIN</th>\n      <th>BUREAU_DAYS_CREDIT_UPDATE_MAX</th>\n      <th>BUREAU_DAYS_CREDIT_UPDATE_MEAN</th>\n      <th>BUREAU_DAYS_CREDIT_UPDATE_STD</th>\n      <th>BUREAU_AMT_ANNUITY_MIN</th>\n      <th>BUREAU_AMT_ANNUITY_MAX</th>\n      <th>BUREAU_AMT_ANNUITY_MEAN</th>\n      <th>BUREAU_AMT_ANNUITY_STD</th>\n    </tr>\n  </thead>\n  <tbody>\n    <tr>\n      <th>0</th>\n      <td>100001</td>\n      <td>2</td>\n      <td>1</td>\n      <td>3</td>\n      <td>2</td>\n      <td>1</td>\n      <td>1</td>\n      <td>1</td>\n      <td>1</td>\n      <td>1</td>\n      <td>...</td>\n      <td>0.0</td>\n      <td>0.0</td>\n      <td>-155</td>\n      <td>-6</td>\n      <td>-93.142857</td>\n      <td>77.204120</td>\n      <td>0.0</td>\n      <td>10822.5</td>\n      <td>3545.357143</td>\n      <td>4800.607529</td>\n    </tr>\n    <tr>\n      <th>1</th>\n      <td>100002</td>\n      <td>2</td>\n      <td>1</td>\n      <td>2</td>\n      <td>1</td>\n      <td>1</td>\n      <td>1</td>\n      <td>2</td>\n      <td>1</td>\n      <td>2</td>\n      <td>...</td>\n      <td>0.0</td>\n      <td>0.0</td>\n      <td>-1185</td>\n      <td>-7</td>\n      <td>-499.875000</td>\n      <td>518.522472</td>\n      <td>0.0</td>\n      <td>0.0</td>\n      <td>0.000000</td>\n      <td>0.000000</td>\n    </tr>\n    <tr>\n      <th>2</th>\n      <td>100003</td>\n      <td>1</td>\n      <td>1</td>\n      <td>1</td>\n      <td>1</td>\n      <td>1</td>\n      <td>1</td>\n      <td>1</td>\n      <td>1</td>\n      <td>2</td>\n      <td>...</td>\n      <td>0.0</td>\n      <td>0.0</td>\n      <td>-2131</td>\n      <td>-43</td>\n      <td>-816.000000</td>\n      <td>908.053963</td>\n      <td>0.0</td>\n      <td>0.0</td>\n      <td>0.000000</td>\n      <td>0.000000</td>\n    </tr>\n    <tr>\n      <th>3</th>\n      <td>100004</td>\n      <td>1</td>\n      <td>1</td>\n      <td>1</td>\n      <td>1</td>\n      <td>1</td>\n      <td>1</td>\n      <td>1</td>\n      <td>1</td>\n      <td>1</td>\n      <td>...</td>\n      <td>0.0</td>\n      <td>0.0</td>\n      <td>-682</td>\n      <td>-382</td>\n      <td>-532.000000</td>\n      <td>212.132034</td>\n      <td>0.0</td>\n      <td>0.0</td>\n      <td>0.000000</td>\n      <td>0.000000</td>\n    </tr>\n    <tr>\n      <th>4</th>\n      <td>100005</td>\n      <td>1</td>\n      <td>1</td>\n      <td>3</td>\n      <td>3</td>\n      <td>1</td>\n      <td>1</td>\n      <td>1</td>\n      <td>1</td>\n      <td>2</td>\n      <td>...</td>\n      <td>0.0</td>\n      <td>0.0</td>\n      <td>-121</td>\n      <td>-11</td>\n      <td>-54.333333</td>\n      <td>58.594653</td>\n      <td>0.0</td>\n      <td>4261.5</td>\n      <td>1420.500000</td>\n      <td>2460.378172</td>\n    </tr>\n  </tbody>\n</table>\n<p>5 rows × 58 columns</p>\n</div>"
     },
     "metadata": {},
     "execution_count": 89
    }
   ],
   "source": [
    "final_dataset.head()"
   ]
  },
  {
   "cell_type": "code",
   "execution_count": 91,
   "metadata": {},
   "outputs": [
    {
     "output_type": "stream",
     "name": "stdout",
     "text": [
      "File was saved.\n"
     ]
    }
   ],
   "source": [
    "final_dataset.to_csv(r'C:\\Users\\Duong Nguyen\\Desktop\\final_project\\home-credit-default-risk\\1_1_bureau.csv',index=False)\n",
    "print(\"File was saved.\")"
   ]
  },
  {
   "cell_type": "code",
   "execution_count": null,
   "metadata": {},
   "outputs": [],
   "source": []
  }
 ]
}